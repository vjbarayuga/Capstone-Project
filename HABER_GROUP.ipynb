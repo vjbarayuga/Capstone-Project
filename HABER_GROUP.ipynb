{
  "nbformat": 4,
  "nbformat_minor": 0,
  "metadata": {
    "colab": {
      "name": "HABER_GROUP.ipynb",
      "provenance": [],
      "collapsed_sections": [],
      "include_colab_link": true
    },
    "kernelspec": {
      "name": "python3",
      "display_name": "Python 3"
    },
    "language_info": {
      "name": "python"
    }
  },
  "cells": [
    {
      "cell_type": "markdown",
      "metadata": {
        "id": "view-in-github",
        "colab_type": "text"
      },
      "source": [
        "<a href=\"https://colab.research.google.com/github/vjbarayuga/Capstone-Project/blob/main/HABER_GROUP.ipynb\" target=\"_parent\"><img src=\"https://colab.research.google.com/assets/colab-badge.svg\" alt=\"Open In Colab\"/></a>"
      ]
    },
    {
      "cell_type": "markdown",
      "source": [
        "# Importing Libraries"
      ],
      "metadata": {
        "id": "0wK0uhs5yM_-"
      }
    },
    {
      "cell_type": "code",
      "execution_count": null,
      "metadata": {
        "id": "4-Tqof2euH1k"
      },
      "outputs": [],
      "source": [
        "import numpy as np\n",
        "import pandas as pd\n",
        "import pandas_profiling\n",
        "import seaborn as sns\n",
        "import matplotlib\n",
        "import matplotlib.pyplot as plt\n",
        "import sklearn\n",
        "\n",
        "%matplotlib inline"
      ]
    },
    {
      "cell_type": "code",
      "source": [
        "# Reading the datasets\n",
        "df= pd.read_csv('https://raw.githubusercontent.com/haber021/covid_0/main/Case%20Information_batch_3.csv')\n",
        "df.head()"
      ],
      "metadata": {
        "colab": {
          "base_uri": "https://localhost:8080/",
          "height": 366
        },
        "id": "JOw0wH68xgbS",
        "outputId": "4dd93084-ab0c-4a5e-ee4f-c3f09b178ca6"
      },
      "execution_count": null,
      "outputs": [
        {
          "output_type": "execute_result",
          "data": {
            "text/plain": [
              "    CaseCode   Age  AgeGroup     Sex DateSpecimen DateResultRelease  \\\n",
              "0  C46369460  23.0  20 to 24    MALE   2022-01-07        2022-01-08   \n",
              "1  C69025406   7.0    5 to 9  FEMALE   2022-01-06        2022-01-08   \n",
              "2   C6572422  27.0  25 to 29  FEMALE   2022-01-06        2022-01-08   \n",
              "3  C16040871  17.0  15 to 19  FEMALE   2022-01-08        2022-01-09   \n",
              "4  C66405262  41.0  40 to 44    MALE   2022-01-08        2022-01-09   \n",
              "\n",
              "  DateRepConf DateDied DateRecover RemovalType  ...   ProvRes  \\\n",
              "0  2022-01-11      NaN         NaN   RECOVERED  ...       NCR   \n",
              "1  2022-01-11      NaN         NaN   RECOVERED  ...     RIZAL   \n",
              "2  2022-01-11      NaN         NaN   RECOVERED  ...  PAMPANGA   \n",
              "3  2022-01-11      NaN         NaN   RECOVERED  ...      CEBU   \n",
              "4  2022-01-11      NaN         NaN   RECOVERED  ...       NCR   \n",
              "\n",
              "            CityMunRes CityMuniPSGC   BarangayRes BarangayPSGC HealthStatus  \\\n",
              "0    CITY OF PARAÑAQUE  PH137604000   B. F. HOMES  PH137604007    RECOVERED   \n",
              "1               ANGONO  PH045801000    SAN ISIDRO  PH045801009    RECOVERED   \n",
              "2           SANTA RITA  PH035420000   SAN VICENTE  PH035420009    RECOVERED   \n",
              "3  CEBU CITY (CAPITAL)  PH072217000  PARDO (POB.)  PH072217053    RECOVERED   \n",
              "4       CITY OF MAKATI  PH137602000     SINGKAMAS  PH137602027    RECOVERED   \n",
              "\n",
              "  Quarantined   DateOnset Pregnanttab  \\\n",
              "0          NO         NaN         NaN   \n",
              "1          NO  2022-01-06          NO   \n",
              "2          NO         NaN          NO   \n",
              "3          NO         NaN          NO   \n",
              "4          NO         NaN         NaN   \n",
              "\n",
              "                                    ValidationStatus  \n",
              "0  Health Status is \"Recovered\", but no Date Reco...  \n",
              "1  Health Status is \"Recovered\", but no Date Reco...  \n",
              "2  Removal Type is \"Recovered\", but no Recovered ...  \n",
              "3  Health Status is \"Recovered\", but no Date Reco...  \n",
              "4  Health Status is \"Recovered\", but no Date Reco...  \n",
              "\n",
              "[5 rows x 22 columns]"
            ],
            "text/html": [
              "\n",
              "  <div id=\"df-7e0fd730-8d8b-4e72-a89b-c5632a255bcf\">\n",
              "    <div class=\"colab-df-container\">\n",
              "      <div>\n",
              "<style scoped>\n",
              "    .dataframe tbody tr th:only-of-type {\n",
              "        vertical-align: middle;\n",
              "    }\n",
              "\n",
              "    .dataframe tbody tr th {\n",
              "        vertical-align: top;\n",
              "    }\n",
              "\n",
              "    .dataframe thead th {\n",
              "        text-align: right;\n",
              "    }\n",
              "</style>\n",
              "<table border=\"1\" class=\"dataframe\">\n",
              "  <thead>\n",
              "    <tr style=\"text-align: right;\">\n",
              "      <th></th>\n",
              "      <th>CaseCode</th>\n",
              "      <th>Age</th>\n",
              "      <th>AgeGroup</th>\n",
              "      <th>Sex</th>\n",
              "      <th>DateSpecimen</th>\n",
              "      <th>DateResultRelease</th>\n",
              "      <th>DateRepConf</th>\n",
              "      <th>DateDied</th>\n",
              "      <th>DateRecover</th>\n",
              "      <th>RemovalType</th>\n",
              "      <th>...</th>\n",
              "      <th>ProvRes</th>\n",
              "      <th>CityMunRes</th>\n",
              "      <th>CityMuniPSGC</th>\n",
              "      <th>BarangayRes</th>\n",
              "      <th>BarangayPSGC</th>\n",
              "      <th>HealthStatus</th>\n",
              "      <th>Quarantined</th>\n",
              "      <th>DateOnset</th>\n",
              "      <th>Pregnanttab</th>\n",
              "      <th>ValidationStatus</th>\n",
              "    </tr>\n",
              "  </thead>\n",
              "  <tbody>\n",
              "    <tr>\n",
              "      <th>0</th>\n",
              "      <td>C46369460</td>\n",
              "      <td>23.0</td>\n",
              "      <td>20 to 24</td>\n",
              "      <td>MALE</td>\n",
              "      <td>2022-01-07</td>\n",
              "      <td>2022-01-08</td>\n",
              "      <td>2022-01-11</td>\n",
              "      <td>NaN</td>\n",
              "      <td>NaN</td>\n",
              "      <td>RECOVERED</td>\n",
              "      <td>...</td>\n",
              "      <td>NCR</td>\n",
              "      <td>CITY OF PARAÑAQUE</td>\n",
              "      <td>PH137604000</td>\n",
              "      <td>B. F. HOMES</td>\n",
              "      <td>PH137604007</td>\n",
              "      <td>RECOVERED</td>\n",
              "      <td>NO</td>\n",
              "      <td>NaN</td>\n",
              "      <td>NaN</td>\n",
              "      <td>Health Status is \"Recovered\", but no Date Reco...</td>\n",
              "    </tr>\n",
              "    <tr>\n",
              "      <th>1</th>\n",
              "      <td>C69025406</td>\n",
              "      <td>7.0</td>\n",
              "      <td>5 to 9</td>\n",
              "      <td>FEMALE</td>\n",
              "      <td>2022-01-06</td>\n",
              "      <td>2022-01-08</td>\n",
              "      <td>2022-01-11</td>\n",
              "      <td>NaN</td>\n",
              "      <td>NaN</td>\n",
              "      <td>RECOVERED</td>\n",
              "      <td>...</td>\n",
              "      <td>RIZAL</td>\n",
              "      <td>ANGONO</td>\n",
              "      <td>PH045801000</td>\n",
              "      <td>SAN ISIDRO</td>\n",
              "      <td>PH045801009</td>\n",
              "      <td>RECOVERED</td>\n",
              "      <td>NO</td>\n",
              "      <td>2022-01-06</td>\n",
              "      <td>NO</td>\n",
              "      <td>Health Status is \"Recovered\", but no Date Reco...</td>\n",
              "    </tr>\n",
              "    <tr>\n",
              "      <th>2</th>\n",
              "      <td>C6572422</td>\n",
              "      <td>27.0</td>\n",
              "      <td>25 to 29</td>\n",
              "      <td>FEMALE</td>\n",
              "      <td>2022-01-06</td>\n",
              "      <td>2022-01-08</td>\n",
              "      <td>2022-01-11</td>\n",
              "      <td>NaN</td>\n",
              "      <td>NaN</td>\n",
              "      <td>RECOVERED</td>\n",
              "      <td>...</td>\n",
              "      <td>PAMPANGA</td>\n",
              "      <td>SANTA RITA</td>\n",
              "      <td>PH035420000</td>\n",
              "      <td>SAN VICENTE</td>\n",
              "      <td>PH035420009</td>\n",
              "      <td>RECOVERED</td>\n",
              "      <td>NO</td>\n",
              "      <td>NaN</td>\n",
              "      <td>NO</td>\n",
              "      <td>Removal Type is \"Recovered\", but no Recovered ...</td>\n",
              "    </tr>\n",
              "    <tr>\n",
              "      <th>3</th>\n",
              "      <td>C16040871</td>\n",
              "      <td>17.0</td>\n",
              "      <td>15 to 19</td>\n",
              "      <td>FEMALE</td>\n",
              "      <td>2022-01-08</td>\n",
              "      <td>2022-01-09</td>\n",
              "      <td>2022-01-11</td>\n",
              "      <td>NaN</td>\n",
              "      <td>NaN</td>\n",
              "      <td>RECOVERED</td>\n",
              "      <td>...</td>\n",
              "      <td>CEBU</td>\n",
              "      <td>CEBU CITY (CAPITAL)</td>\n",
              "      <td>PH072217000</td>\n",
              "      <td>PARDO (POB.)</td>\n",
              "      <td>PH072217053</td>\n",
              "      <td>RECOVERED</td>\n",
              "      <td>NO</td>\n",
              "      <td>NaN</td>\n",
              "      <td>NO</td>\n",
              "      <td>Health Status is \"Recovered\", but no Date Reco...</td>\n",
              "    </tr>\n",
              "    <tr>\n",
              "      <th>4</th>\n",
              "      <td>C66405262</td>\n",
              "      <td>41.0</td>\n",
              "      <td>40 to 44</td>\n",
              "      <td>MALE</td>\n",
              "      <td>2022-01-08</td>\n",
              "      <td>2022-01-09</td>\n",
              "      <td>2022-01-11</td>\n",
              "      <td>NaN</td>\n",
              "      <td>NaN</td>\n",
              "      <td>RECOVERED</td>\n",
              "      <td>...</td>\n",
              "      <td>NCR</td>\n",
              "      <td>CITY OF MAKATI</td>\n",
              "      <td>PH137602000</td>\n",
              "      <td>SINGKAMAS</td>\n",
              "      <td>PH137602027</td>\n",
              "      <td>RECOVERED</td>\n",
              "      <td>NO</td>\n",
              "      <td>NaN</td>\n",
              "      <td>NaN</td>\n",
              "      <td>Health Status is \"Recovered\", but no Date Reco...</td>\n",
              "    </tr>\n",
              "  </tbody>\n",
              "</table>\n",
              "<p>5 rows × 22 columns</p>\n",
              "</div>\n",
              "      <button class=\"colab-df-convert\" onclick=\"convertToInteractive('df-7e0fd730-8d8b-4e72-a89b-c5632a255bcf')\"\n",
              "              title=\"Convert this dataframe to an interactive table.\"\n",
              "              style=\"display:none;\">\n",
              "        \n",
              "  <svg xmlns=\"http://www.w3.org/2000/svg\" height=\"24px\"viewBox=\"0 0 24 24\"\n",
              "       width=\"24px\">\n",
              "    <path d=\"M0 0h24v24H0V0z\" fill=\"none\"/>\n",
              "    <path d=\"M18.56 5.44l.94 2.06.94-2.06 2.06-.94-2.06-.94-.94-2.06-.94 2.06-2.06.94zm-11 1L8.5 8.5l.94-2.06 2.06-.94-2.06-.94L8.5 2.5l-.94 2.06-2.06.94zm10 10l.94 2.06.94-2.06 2.06-.94-2.06-.94-.94-2.06-.94 2.06-2.06.94z\"/><path d=\"M17.41 7.96l-1.37-1.37c-.4-.4-.92-.59-1.43-.59-.52 0-1.04.2-1.43.59L10.3 9.45l-7.72 7.72c-.78.78-.78 2.05 0 2.83L4 21.41c.39.39.9.59 1.41.59.51 0 1.02-.2 1.41-.59l7.78-7.78 2.81-2.81c.8-.78.8-2.07 0-2.86zM5.41 20L4 18.59l7.72-7.72 1.47 1.35L5.41 20z\"/>\n",
              "  </svg>\n",
              "      </button>\n",
              "      \n",
              "  <style>\n",
              "    .colab-df-container {\n",
              "      display:flex;\n",
              "      flex-wrap:wrap;\n",
              "      gap: 12px;\n",
              "    }\n",
              "\n",
              "    .colab-df-convert {\n",
              "      background-color: #E8F0FE;\n",
              "      border: none;\n",
              "      border-radius: 50%;\n",
              "      cursor: pointer;\n",
              "      display: none;\n",
              "      fill: #1967D2;\n",
              "      height: 32px;\n",
              "      padding: 0 0 0 0;\n",
              "      width: 32px;\n",
              "    }\n",
              "\n",
              "    .colab-df-convert:hover {\n",
              "      background-color: #E2EBFA;\n",
              "      box-shadow: 0px 1px 2px rgba(60, 64, 67, 0.3), 0px 1px 3px 1px rgba(60, 64, 67, 0.15);\n",
              "      fill: #174EA6;\n",
              "    }\n",
              "\n",
              "    [theme=dark] .colab-df-convert {\n",
              "      background-color: #3B4455;\n",
              "      fill: #D2E3FC;\n",
              "    }\n",
              "\n",
              "    [theme=dark] .colab-df-convert:hover {\n",
              "      background-color: #434B5C;\n",
              "      box-shadow: 0px 1px 3px 1px rgba(0, 0, 0, 0.15);\n",
              "      filter: drop-shadow(0px 1px 2px rgba(0, 0, 0, 0.3));\n",
              "      fill: #FFFFFF;\n",
              "    }\n",
              "  </style>\n",
              "\n",
              "      <script>\n",
              "        const buttonEl =\n",
              "          document.querySelector('#df-7e0fd730-8d8b-4e72-a89b-c5632a255bcf button.colab-df-convert');\n",
              "        buttonEl.style.display =\n",
              "          google.colab.kernel.accessAllowed ? 'block' : 'none';\n",
              "\n",
              "        async function convertToInteractive(key) {\n",
              "          const element = document.querySelector('#df-7e0fd730-8d8b-4e72-a89b-c5632a255bcf');\n",
              "          const dataTable =\n",
              "            await google.colab.kernel.invokeFunction('convertToInteractive',\n",
              "                                                     [key], {});\n",
              "          if (!dataTable) return;\n",
              "\n",
              "          const docLinkHtml = 'Like what you see? Visit the ' +\n",
              "            '<a target=\"_blank\" href=https://colab.research.google.com/notebooks/data_table.ipynb>data table notebook</a>'\n",
              "            + ' to learn more about interactive tables.';\n",
              "          element.innerHTML = '';\n",
              "          dataTable['output_type'] = 'display_data';\n",
              "          await google.colab.output.renderOutput(dataTable, element);\n",
              "          const docLink = document.createElement('div');\n",
              "          docLink.innerHTML = docLinkHtml;\n",
              "          element.appendChild(docLink);\n",
              "        }\n",
              "      </script>\n",
              "    </div>\n",
              "  </div>\n",
              "  "
            ]
          },
          "metadata": {},
          "execution_count": 81
        }
      ]
    },
    {
      "cell_type": "code",
      "source": [
        "df_data = (df[df['ProvRes'] == 'ILOCOS SUR'])\n",
        "df_data.head((6))"
      ],
      "metadata": {
        "colab": {
          "base_uri": "https://localhost:8080/",
          "height": 415
        },
        "id": "f9kakOggKrTg",
        "outputId": "fe2d88d6-7c51-4328-aff4-9349f9673660"
      },
      "execution_count": null,
      "outputs": [
        {
          "output_type": "execute_result",
          "data": {
            "text/plain": [
              "       CaseCode   Age  AgeGroup     Sex DateSpecimen DateResultRelease  \\\n",
              "95     C1262675  26.0  25 to 29    MALE   2022-01-08        2022-01-10   \n",
              "198   C43874335  45.0  45 to 49  FEMALE   2022-01-07        2022-01-08   \n",
              "207   C40740561  37.0  35 to 39  FEMALE   2022-01-07        2022-01-08   \n",
              "974   C87078322  21.0  20 to 24  FEMALE   2022-01-09        2022-01-10   \n",
              "1464  C39174719  24.0  20 to 24  FEMALE   2022-01-03        2022-01-07   \n",
              "2819  C50094691  19.0  15 to 19  FEMALE   2022-01-07        2022-01-10   \n",
              "\n",
              "     DateRepConf DateDied DateRecover RemovalType  ...     ProvRes  \\\n",
              "95    2022-01-11      NaN         NaN   RECOVERED  ...  ILOCOS SUR   \n",
              "198   2022-01-11      NaN         NaN   RECOVERED  ...  ILOCOS SUR   \n",
              "207   2022-01-11      NaN         NaN   RECOVERED  ...  ILOCOS SUR   \n",
              "974   2022-01-11      NaN         NaN   RECOVERED  ...  ILOCOS SUR   \n",
              "1464  2022-01-11      NaN         NaN   RECOVERED  ...  ILOCOS SUR   \n",
              "2819  2022-01-11      NaN         NaN   RECOVERED  ...  ILOCOS SUR   \n",
              "\n",
              "                   CityMunRes CityMuniPSGC        BarangayRes BarangayPSGC  \\\n",
              "95                  CERVANTES  PH012908000     COMILLAS NORTH  PH012908002   \n",
              "198   CITY OF VIGAN (CAPITAL)  PH012934000  BARANGAY V (POB.)  PH012934007   \n",
              "207   CITY OF VIGAN (CAPITAL)  PH012934000  BARANGAY V (POB.)  PH012934007   \n",
              "974                  NARVACAN  PH012914000          DINALAOAN  PH012914013   \n",
              "1464           CITY OF CANDON  PH012906000        CALONGBUYAN  PH012906017   \n",
              "2819               SANTA CRUZ  PH012924000    POBLACION NORTE  PH012924032   \n",
              "\n",
              "     HealthStatus Quarantined   DateOnset Pregnanttab  \\\n",
              "95      RECOVERED          NO  2022-01-07         NaN   \n",
              "198     RECOVERED          NO  2022-01-06          NO   \n",
              "207     RECOVERED          NO         NaN          NO   \n",
              "974     RECOVERED          NO         NaN          NO   \n",
              "1464    RECOVERED          NO         NaN          NO   \n",
              "2819    RECOVERED          NO  2022-01-06          NO   \n",
              "\n",
              "                                       ValidationStatus  \n",
              "95    Removal Type is \"Recovered\", but no Recovered ...  \n",
              "198   Removal Type is \"Recovered\", but no Recovered ...  \n",
              "207   Health Status is \"Recovered\", but no Date Reco...  \n",
              "974   Health Status is \"Recovered\", but no Date Reco...  \n",
              "1464  Health Status is \"Recovered\", but no Date Reco...  \n",
              "2819  Removal Type is \"Recovered\", but no Recovered ...  \n",
              "\n",
              "[6 rows x 22 columns]"
            ],
            "text/html": [
              "\n",
              "  <div id=\"df-7414dac5-5652-460c-80ea-71a6466531f3\">\n",
              "    <div class=\"colab-df-container\">\n",
              "      <div>\n",
              "<style scoped>\n",
              "    .dataframe tbody tr th:only-of-type {\n",
              "        vertical-align: middle;\n",
              "    }\n",
              "\n",
              "    .dataframe tbody tr th {\n",
              "        vertical-align: top;\n",
              "    }\n",
              "\n",
              "    .dataframe thead th {\n",
              "        text-align: right;\n",
              "    }\n",
              "</style>\n",
              "<table border=\"1\" class=\"dataframe\">\n",
              "  <thead>\n",
              "    <tr style=\"text-align: right;\">\n",
              "      <th></th>\n",
              "      <th>CaseCode</th>\n",
              "      <th>Age</th>\n",
              "      <th>AgeGroup</th>\n",
              "      <th>Sex</th>\n",
              "      <th>DateSpecimen</th>\n",
              "      <th>DateResultRelease</th>\n",
              "      <th>DateRepConf</th>\n",
              "      <th>DateDied</th>\n",
              "      <th>DateRecover</th>\n",
              "      <th>RemovalType</th>\n",
              "      <th>...</th>\n",
              "      <th>ProvRes</th>\n",
              "      <th>CityMunRes</th>\n",
              "      <th>CityMuniPSGC</th>\n",
              "      <th>BarangayRes</th>\n",
              "      <th>BarangayPSGC</th>\n",
              "      <th>HealthStatus</th>\n",
              "      <th>Quarantined</th>\n",
              "      <th>DateOnset</th>\n",
              "      <th>Pregnanttab</th>\n",
              "      <th>ValidationStatus</th>\n",
              "    </tr>\n",
              "  </thead>\n",
              "  <tbody>\n",
              "    <tr>\n",
              "      <th>95</th>\n",
              "      <td>C1262675</td>\n",
              "      <td>26.0</td>\n",
              "      <td>25 to 29</td>\n",
              "      <td>MALE</td>\n",
              "      <td>2022-01-08</td>\n",
              "      <td>2022-01-10</td>\n",
              "      <td>2022-01-11</td>\n",
              "      <td>NaN</td>\n",
              "      <td>NaN</td>\n",
              "      <td>RECOVERED</td>\n",
              "      <td>...</td>\n",
              "      <td>ILOCOS SUR</td>\n",
              "      <td>CERVANTES</td>\n",
              "      <td>PH012908000</td>\n",
              "      <td>COMILLAS NORTH</td>\n",
              "      <td>PH012908002</td>\n",
              "      <td>RECOVERED</td>\n",
              "      <td>NO</td>\n",
              "      <td>2022-01-07</td>\n",
              "      <td>NaN</td>\n",
              "      <td>Removal Type is \"Recovered\", but no Recovered ...</td>\n",
              "    </tr>\n",
              "    <tr>\n",
              "      <th>198</th>\n",
              "      <td>C43874335</td>\n",
              "      <td>45.0</td>\n",
              "      <td>45 to 49</td>\n",
              "      <td>FEMALE</td>\n",
              "      <td>2022-01-07</td>\n",
              "      <td>2022-01-08</td>\n",
              "      <td>2022-01-11</td>\n",
              "      <td>NaN</td>\n",
              "      <td>NaN</td>\n",
              "      <td>RECOVERED</td>\n",
              "      <td>...</td>\n",
              "      <td>ILOCOS SUR</td>\n",
              "      <td>CITY OF VIGAN (CAPITAL)</td>\n",
              "      <td>PH012934000</td>\n",
              "      <td>BARANGAY V (POB.)</td>\n",
              "      <td>PH012934007</td>\n",
              "      <td>RECOVERED</td>\n",
              "      <td>NO</td>\n",
              "      <td>2022-01-06</td>\n",
              "      <td>NO</td>\n",
              "      <td>Removal Type is \"Recovered\", but no Recovered ...</td>\n",
              "    </tr>\n",
              "    <tr>\n",
              "      <th>207</th>\n",
              "      <td>C40740561</td>\n",
              "      <td>37.0</td>\n",
              "      <td>35 to 39</td>\n",
              "      <td>FEMALE</td>\n",
              "      <td>2022-01-07</td>\n",
              "      <td>2022-01-08</td>\n",
              "      <td>2022-01-11</td>\n",
              "      <td>NaN</td>\n",
              "      <td>NaN</td>\n",
              "      <td>RECOVERED</td>\n",
              "      <td>...</td>\n",
              "      <td>ILOCOS SUR</td>\n",
              "      <td>CITY OF VIGAN (CAPITAL)</td>\n",
              "      <td>PH012934000</td>\n",
              "      <td>BARANGAY V (POB.)</td>\n",
              "      <td>PH012934007</td>\n",
              "      <td>RECOVERED</td>\n",
              "      <td>NO</td>\n",
              "      <td>NaN</td>\n",
              "      <td>NO</td>\n",
              "      <td>Health Status is \"Recovered\", but no Date Reco...</td>\n",
              "    </tr>\n",
              "    <tr>\n",
              "      <th>974</th>\n",
              "      <td>C87078322</td>\n",
              "      <td>21.0</td>\n",
              "      <td>20 to 24</td>\n",
              "      <td>FEMALE</td>\n",
              "      <td>2022-01-09</td>\n",
              "      <td>2022-01-10</td>\n",
              "      <td>2022-01-11</td>\n",
              "      <td>NaN</td>\n",
              "      <td>NaN</td>\n",
              "      <td>RECOVERED</td>\n",
              "      <td>...</td>\n",
              "      <td>ILOCOS SUR</td>\n",
              "      <td>NARVACAN</td>\n",
              "      <td>PH012914000</td>\n",
              "      <td>DINALAOAN</td>\n",
              "      <td>PH012914013</td>\n",
              "      <td>RECOVERED</td>\n",
              "      <td>NO</td>\n",
              "      <td>NaN</td>\n",
              "      <td>NO</td>\n",
              "      <td>Health Status is \"Recovered\", but no Date Reco...</td>\n",
              "    </tr>\n",
              "    <tr>\n",
              "      <th>1464</th>\n",
              "      <td>C39174719</td>\n",
              "      <td>24.0</td>\n",
              "      <td>20 to 24</td>\n",
              "      <td>FEMALE</td>\n",
              "      <td>2022-01-03</td>\n",
              "      <td>2022-01-07</td>\n",
              "      <td>2022-01-11</td>\n",
              "      <td>NaN</td>\n",
              "      <td>NaN</td>\n",
              "      <td>RECOVERED</td>\n",
              "      <td>...</td>\n",
              "      <td>ILOCOS SUR</td>\n",
              "      <td>CITY OF CANDON</td>\n",
              "      <td>PH012906000</td>\n",
              "      <td>CALONGBUYAN</td>\n",
              "      <td>PH012906017</td>\n",
              "      <td>RECOVERED</td>\n",
              "      <td>NO</td>\n",
              "      <td>NaN</td>\n",
              "      <td>NO</td>\n",
              "      <td>Health Status is \"Recovered\", but no Date Reco...</td>\n",
              "    </tr>\n",
              "    <tr>\n",
              "      <th>2819</th>\n",
              "      <td>C50094691</td>\n",
              "      <td>19.0</td>\n",
              "      <td>15 to 19</td>\n",
              "      <td>FEMALE</td>\n",
              "      <td>2022-01-07</td>\n",
              "      <td>2022-01-10</td>\n",
              "      <td>2022-01-11</td>\n",
              "      <td>NaN</td>\n",
              "      <td>NaN</td>\n",
              "      <td>RECOVERED</td>\n",
              "      <td>...</td>\n",
              "      <td>ILOCOS SUR</td>\n",
              "      <td>SANTA CRUZ</td>\n",
              "      <td>PH012924000</td>\n",
              "      <td>POBLACION NORTE</td>\n",
              "      <td>PH012924032</td>\n",
              "      <td>RECOVERED</td>\n",
              "      <td>NO</td>\n",
              "      <td>2022-01-06</td>\n",
              "      <td>NO</td>\n",
              "      <td>Removal Type is \"Recovered\", but no Recovered ...</td>\n",
              "    </tr>\n",
              "  </tbody>\n",
              "</table>\n",
              "<p>6 rows × 22 columns</p>\n",
              "</div>\n",
              "      <button class=\"colab-df-convert\" onclick=\"convertToInteractive('df-7414dac5-5652-460c-80ea-71a6466531f3')\"\n",
              "              title=\"Convert this dataframe to an interactive table.\"\n",
              "              style=\"display:none;\">\n",
              "        \n",
              "  <svg xmlns=\"http://www.w3.org/2000/svg\" height=\"24px\"viewBox=\"0 0 24 24\"\n",
              "       width=\"24px\">\n",
              "    <path d=\"M0 0h24v24H0V0z\" fill=\"none\"/>\n",
              "    <path d=\"M18.56 5.44l.94 2.06.94-2.06 2.06-.94-2.06-.94-.94-2.06-.94 2.06-2.06.94zm-11 1L8.5 8.5l.94-2.06 2.06-.94-2.06-.94L8.5 2.5l-.94 2.06-2.06.94zm10 10l.94 2.06.94-2.06 2.06-.94-2.06-.94-.94-2.06-.94 2.06-2.06.94z\"/><path d=\"M17.41 7.96l-1.37-1.37c-.4-.4-.92-.59-1.43-.59-.52 0-1.04.2-1.43.59L10.3 9.45l-7.72 7.72c-.78.78-.78 2.05 0 2.83L4 21.41c.39.39.9.59 1.41.59.51 0 1.02-.2 1.41-.59l7.78-7.78 2.81-2.81c.8-.78.8-2.07 0-2.86zM5.41 20L4 18.59l7.72-7.72 1.47 1.35L5.41 20z\"/>\n",
              "  </svg>\n",
              "      </button>\n",
              "      \n",
              "  <style>\n",
              "    .colab-df-container {\n",
              "      display:flex;\n",
              "      flex-wrap:wrap;\n",
              "      gap: 12px;\n",
              "    }\n",
              "\n",
              "    .colab-df-convert {\n",
              "      background-color: #E8F0FE;\n",
              "      border: none;\n",
              "      border-radius: 50%;\n",
              "      cursor: pointer;\n",
              "      display: none;\n",
              "      fill: #1967D2;\n",
              "      height: 32px;\n",
              "      padding: 0 0 0 0;\n",
              "      width: 32px;\n",
              "    }\n",
              "\n",
              "    .colab-df-convert:hover {\n",
              "      background-color: #E2EBFA;\n",
              "      box-shadow: 0px 1px 2px rgba(60, 64, 67, 0.3), 0px 1px 3px 1px rgba(60, 64, 67, 0.15);\n",
              "      fill: #174EA6;\n",
              "    }\n",
              "\n",
              "    [theme=dark] .colab-df-convert {\n",
              "      background-color: #3B4455;\n",
              "      fill: #D2E3FC;\n",
              "    }\n",
              "\n",
              "    [theme=dark] .colab-df-convert:hover {\n",
              "      background-color: #434B5C;\n",
              "      box-shadow: 0px 1px 3px 1px rgba(0, 0, 0, 0.15);\n",
              "      filter: drop-shadow(0px 1px 2px rgba(0, 0, 0, 0.3));\n",
              "      fill: #FFFFFF;\n",
              "    }\n",
              "  </style>\n",
              "\n",
              "      <script>\n",
              "        const buttonEl =\n",
              "          document.querySelector('#df-7414dac5-5652-460c-80ea-71a6466531f3 button.colab-df-convert');\n",
              "        buttonEl.style.display =\n",
              "          google.colab.kernel.accessAllowed ? 'block' : 'none';\n",
              "\n",
              "        async function convertToInteractive(key) {\n",
              "          const element = document.querySelector('#df-7414dac5-5652-460c-80ea-71a6466531f3');\n",
              "          const dataTable =\n",
              "            await google.colab.kernel.invokeFunction('convertToInteractive',\n",
              "                                                     [key], {});\n",
              "          if (!dataTable) return;\n",
              "\n",
              "          const docLinkHtml = 'Like what you see? Visit the ' +\n",
              "            '<a target=\"_blank\" href=https://colab.research.google.com/notebooks/data_table.ipynb>data table notebook</a>'\n",
              "            + ' to learn more about interactive tables.';\n",
              "          element.innerHTML = '';\n",
              "          dataTable['output_type'] = 'display_data';\n",
              "          await google.colab.output.renderOutput(dataTable, element);\n",
              "          const docLink = document.createElement('div');\n",
              "          docLink.innerHTML = docLinkHtml;\n",
              "          element.appendChild(docLink);\n",
              "        }\n",
              "      </script>\n",
              "    </div>\n",
              "  </div>\n",
              "  "
            ]
          },
          "metadata": {},
          "execution_count": 82
        }
      ]
    },
    {
      "cell_type": "code",
      "source": [
        "df_new = df[(df[\"ProvRes\"]==\"ILOCOS SUR\") & (df[\"HealthStatus\"]==\"MILD\")]\n",
        "df_new"
      ],
      "metadata": {
        "colab": {
          "base_uri": "https://localhost:8080/",
          "height": 640
        },
        "id": "-dd7W1yeKxIL",
        "outputId": "d145e9e8-6f94-497b-ec93-932e7d6f528d"
      },
      "execution_count": null,
      "outputs": [
        {
          "output_type": "execute_result",
          "data": {
            "text/plain": [
              "         CaseCode   Age  AgeGroup     Sex DateSpecimen DateResultRelease  \\\n",
              "53841   C98547211  34.0  30 to 34  FEMALE          NaN               NaN   \n",
              "54526   C33297945  51.0  50 to 54    MALE   2022-01-12               NaN   \n",
              "58817   C34840626  36.0  35 to 39    MALE          NaN               NaN   \n",
              "74809   C48782910  53.0  50 to 54  FEMALE   2022-01-11        2022-01-12   \n",
              "85889   C35692324  28.0  25 to 29  FEMALE   2022-01-11        2022-01-12   \n",
              "...           ...   ...       ...     ...          ...               ...   \n",
              "386720  C58249797  27.0  25 to 29  FEMALE   2022-01-19        2022-01-21   \n",
              "386930  C92173719  18.0  15 to 19  FEMALE   2022-01-18        2022-01-19   \n",
              "387036   C9516291  26.0  25 to 29  FEMALE   2022-01-18        2022-01-19   \n",
              "387078  C11348288  54.0  50 to 54    MALE   2022-01-19        2022-01-20   \n",
              "387323  C18439871   1.0    0 to 4  FEMALE   2022-01-19        2022-01-20   \n",
              "\n",
              "       DateRepConf DateDied DateRecover RemovalType  ...     ProvRes  \\\n",
              "53841   2022-01-12      NaN         NaN         NaN  ...  ILOCOS SUR   \n",
              "54526   2022-01-12      NaN         NaN         NaN  ...  ILOCOS SUR   \n",
              "58817   2022-01-13      NaN         NaN         NaN  ...  ILOCOS SUR   \n",
              "74809   2022-01-13      NaN         NaN         NaN  ...  ILOCOS SUR   \n",
              "85889   2022-01-13      NaN         NaN         NaN  ...  ILOCOS SUR   \n",
              "...            ...      ...         ...         ...  ...         ...   \n",
              "386720  2022-01-22      NaN         NaN         NaN  ...  ILOCOS SUR   \n",
              "386930  2022-01-22      NaN         NaN         NaN  ...  ILOCOS SUR   \n",
              "387036  2022-01-22      NaN         NaN         NaN  ...  ILOCOS SUR   \n",
              "387078  2022-01-22      NaN         NaN         NaN  ...  ILOCOS SUR   \n",
              "387323  2022-01-22      NaN         NaN         NaN  ...  ILOCOS SUR   \n",
              "\n",
              "           CityMunRes CityMuniPSGC                  BarangayRes BarangayPSGC  \\\n",
              "53841        LIDLIDDA  PH012911000                       TAY-AC  PH012911011   \n",
              "54526   SANTO DOMINGO  PH012928000                       LUSSOC  PH012928013   \n",
              "58817         TAGUDIN  PH012933000                       FAROLA  PH012933019   \n",
              "74809         TAGUDIN  PH012933000                       LAS-UD  PH012933025   \n",
              "85889         TAGUDIN  PH012933000                      BECQUES  PH012933007   \n",
              "...               ...          ...                          ...          ...   \n",
              "386720           SUYO  PH012932000          POBLACION (KIMPUSA)  PH012932005   \n",
              "386930        CAOAYAN  PH012907000  DON LORENZO QUERUBIN (POB.)  PH012907017   \n",
              "387036      MAGSINGAL  PH012912000           SAN BASILIO (POB.)  PH012912032   \n",
              "387078         SINAIT  PH012930000           DADALAQUITEN NORTE  PH012930014   \n",
              "387323        CABUGAO  PH012905000                       BUNGRO  PH012905007   \n",
              "\n",
              "       HealthStatus Quarantined   DateOnset Pregnanttab  \\\n",
              "53841          MILD          NO         NaN          NO   \n",
              "54526          MILD          NO         NaN         NaN   \n",
              "58817          MILD          NO         NaN         NaN   \n",
              "74809          MILD          NO         NaN          NO   \n",
              "85889          MILD          NO         NaN          NO   \n",
              "...             ...         ...         ...         ...   \n",
              "386720         MILD          NO  2022-01-10          NO   \n",
              "386930         MILD          NO  2022-01-16          NO   \n",
              "387036         MILD          NO         NaN          NO   \n",
              "387078         MILD          NO         NaN         NaN   \n",
              "387323         MILD          NO  2022-01-16          NO   \n",
              "\n",
              "                                         ValidationStatus  \n",
              "53841                                                 NaN  \n",
              "54526   Case has Lab Result, but Result Date is blank\\...  \n",
              "58817       Case has Lab Result, but Result Date is blank  \n",
              "74809                                                 NaN  \n",
              "85889                                                 NaN  \n",
              "...                                                   ...  \n",
              "386720                                                NaN  \n",
              "386930                                                NaN  \n",
              "387036                                                NaN  \n",
              "387078                                                NaN  \n",
              "387323                                                NaN  \n",
              "\n",
              "[1302 rows x 22 columns]"
            ],
            "text/html": [
              "\n",
              "  <div id=\"df-0a57b4d1-e992-4054-b601-a85784644ac9\">\n",
              "    <div class=\"colab-df-container\">\n",
              "      <div>\n",
              "<style scoped>\n",
              "    .dataframe tbody tr th:only-of-type {\n",
              "        vertical-align: middle;\n",
              "    }\n",
              "\n",
              "    .dataframe tbody tr th {\n",
              "        vertical-align: top;\n",
              "    }\n",
              "\n",
              "    .dataframe thead th {\n",
              "        text-align: right;\n",
              "    }\n",
              "</style>\n",
              "<table border=\"1\" class=\"dataframe\">\n",
              "  <thead>\n",
              "    <tr style=\"text-align: right;\">\n",
              "      <th></th>\n",
              "      <th>CaseCode</th>\n",
              "      <th>Age</th>\n",
              "      <th>AgeGroup</th>\n",
              "      <th>Sex</th>\n",
              "      <th>DateSpecimen</th>\n",
              "      <th>DateResultRelease</th>\n",
              "      <th>DateRepConf</th>\n",
              "      <th>DateDied</th>\n",
              "      <th>DateRecover</th>\n",
              "      <th>RemovalType</th>\n",
              "      <th>...</th>\n",
              "      <th>ProvRes</th>\n",
              "      <th>CityMunRes</th>\n",
              "      <th>CityMuniPSGC</th>\n",
              "      <th>BarangayRes</th>\n",
              "      <th>BarangayPSGC</th>\n",
              "      <th>HealthStatus</th>\n",
              "      <th>Quarantined</th>\n",
              "      <th>DateOnset</th>\n",
              "      <th>Pregnanttab</th>\n",
              "      <th>ValidationStatus</th>\n",
              "    </tr>\n",
              "  </thead>\n",
              "  <tbody>\n",
              "    <tr>\n",
              "      <th>53841</th>\n",
              "      <td>C98547211</td>\n",
              "      <td>34.0</td>\n",
              "      <td>30 to 34</td>\n",
              "      <td>FEMALE</td>\n",
              "      <td>NaN</td>\n",
              "      <td>NaN</td>\n",
              "      <td>2022-01-12</td>\n",
              "      <td>NaN</td>\n",
              "      <td>NaN</td>\n",
              "      <td>NaN</td>\n",
              "      <td>...</td>\n",
              "      <td>ILOCOS SUR</td>\n",
              "      <td>LIDLIDDA</td>\n",
              "      <td>PH012911000</td>\n",
              "      <td>TAY-AC</td>\n",
              "      <td>PH012911011</td>\n",
              "      <td>MILD</td>\n",
              "      <td>NO</td>\n",
              "      <td>NaN</td>\n",
              "      <td>NO</td>\n",
              "      <td>NaN</td>\n",
              "    </tr>\n",
              "    <tr>\n",
              "      <th>54526</th>\n",
              "      <td>C33297945</td>\n",
              "      <td>51.0</td>\n",
              "      <td>50 to 54</td>\n",
              "      <td>MALE</td>\n",
              "      <td>2022-01-12</td>\n",
              "      <td>NaN</td>\n",
              "      <td>2022-01-12</td>\n",
              "      <td>NaN</td>\n",
              "      <td>NaN</td>\n",
              "      <td>NaN</td>\n",
              "      <td>...</td>\n",
              "      <td>ILOCOS SUR</td>\n",
              "      <td>SANTO DOMINGO</td>\n",
              "      <td>PH012928000</td>\n",
              "      <td>LUSSOC</td>\n",
              "      <td>PH012928013</td>\n",
              "      <td>MILD</td>\n",
              "      <td>NO</td>\n",
              "      <td>NaN</td>\n",
              "      <td>NaN</td>\n",
              "      <td>Case has Lab Result, but Result Date is blank\\...</td>\n",
              "    </tr>\n",
              "    <tr>\n",
              "      <th>58817</th>\n",
              "      <td>C34840626</td>\n",
              "      <td>36.0</td>\n",
              "      <td>35 to 39</td>\n",
              "      <td>MALE</td>\n",
              "      <td>NaN</td>\n",
              "      <td>NaN</td>\n",
              "      <td>2022-01-13</td>\n",
              "      <td>NaN</td>\n",
              "      <td>NaN</td>\n",
              "      <td>NaN</td>\n",
              "      <td>...</td>\n",
              "      <td>ILOCOS SUR</td>\n",
              "      <td>TAGUDIN</td>\n",
              "      <td>PH012933000</td>\n",
              "      <td>FAROLA</td>\n",
              "      <td>PH012933019</td>\n",
              "      <td>MILD</td>\n",
              "      <td>NO</td>\n",
              "      <td>NaN</td>\n",
              "      <td>NaN</td>\n",
              "      <td>Case has Lab Result, but Result Date is blank</td>\n",
              "    </tr>\n",
              "    <tr>\n",
              "      <th>74809</th>\n",
              "      <td>C48782910</td>\n",
              "      <td>53.0</td>\n",
              "      <td>50 to 54</td>\n",
              "      <td>FEMALE</td>\n",
              "      <td>2022-01-11</td>\n",
              "      <td>2022-01-12</td>\n",
              "      <td>2022-01-13</td>\n",
              "      <td>NaN</td>\n",
              "      <td>NaN</td>\n",
              "      <td>NaN</td>\n",
              "      <td>...</td>\n",
              "      <td>ILOCOS SUR</td>\n",
              "      <td>TAGUDIN</td>\n",
              "      <td>PH012933000</td>\n",
              "      <td>LAS-UD</td>\n",
              "      <td>PH012933025</td>\n",
              "      <td>MILD</td>\n",
              "      <td>NO</td>\n",
              "      <td>NaN</td>\n",
              "      <td>NO</td>\n",
              "      <td>NaN</td>\n",
              "    </tr>\n",
              "    <tr>\n",
              "      <th>85889</th>\n",
              "      <td>C35692324</td>\n",
              "      <td>28.0</td>\n",
              "      <td>25 to 29</td>\n",
              "      <td>FEMALE</td>\n",
              "      <td>2022-01-11</td>\n",
              "      <td>2022-01-12</td>\n",
              "      <td>2022-01-13</td>\n",
              "      <td>NaN</td>\n",
              "      <td>NaN</td>\n",
              "      <td>NaN</td>\n",
              "      <td>...</td>\n",
              "      <td>ILOCOS SUR</td>\n",
              "      <td>TAGUDIN</td>\n",
              "      <td>PH012933000</td>\n",
              "      <td>BECQUES</td>\n",
              "      <td>PH012933007</td>\n",
              "      <td>MILD</td>\n",
              "      <td>NO</td>\n",
              "      <td>NaN</td>\n",
              "      <td>NO</td>\n",
              "      <td>NaN</td>\n",
              "    </tr>\n",
              "    <tr>\n",
              "      <th>...</th>\n",
              "      <td>...</td>\n",
              "      <td>...</td>\n",
              "      <td>...</td>\n",
              "      <td>...</td>\n",
              "      <td>...</td>\n",
              "      <td>...</td>\n",
              "      <td>...</td>\n",
              "      <td>...</td>\n",
              "      <td>...</td>\n",
              "      <td>...</td>\n",
              "      <td>...</td>\n",
              "      <td>...</td>\n",
              "      <td>...</td>\n",
              "      <td>...</td>\n",
              "      <td>...</td>\n",
              "      <td>...</td>\n",
              "      <td>...</td>\n",
              "      <td>...</td>\n",
              "      <td>...</td>\n",
              "      <td>...</td>\n",
              "      <td>...</td>\n",
              "    </tr>\n",
              "    <tr>\n",
              "      <th>386720</th>\n",
              "      <td>C58249797</td>\n",
              "      <td>27.0</td>\n",
              "      <td>25 to 29</td>\n",
              "      <td>FEMALE</td>\n",
              "      <td>2022-01-19</td>\n",
              "      <td>2022-01-21</td>\n",
              "      <td>2022-01-22</td>\n",
              "      <td>NaN</td>\n",
              "      <td>NaN</td>\n",
              "      <td>NaN</td>\n",
              "      <td>...</td>\n",
              "      <td>ILOCOS SUR</td>\n",
              "      <td>SUYO</td>\n",
              "      <td>PH012932000</td>\n",
              "      <td>POBLACION (KIMPUSA)</td>\n",
              "      <td>PH012932005</td>\n",
              "      <td>MILD</td>\n",
              "      <td>NO</td>\n",
              "      <td>2022-01-10</td>\n",
              "      <td>NO</td>\n",
              "      <td>NaN</td>\n",
              "    </tr>\n",
              "    <tr>\n",
              "      <th>386930</th>\n",
              "      <td>C92173719</td>\n",
              "      <td>18.0</td>\n",
              "      <td>15 to 19</td>\n",
              "      <td>FEMALE</td>\n",
              "      <td>2022-01-18</td>\n",
              "      <td>2022-01-19</td>\n",
              "      <td>2022-01-22</td>\n",
              "      <td>NaN</td>\n",
              "      <td>NaN</td>\n",
              "      <td>NaN</td>\n",
              "      <td>...</td>\n",
              "      <td>ILOCOS SUR</td>\n",
              "      <td>CAOAYAN</td>\n",
              "      <td>PH012907000</td>\n",
              "      <td>DON LORENZO QUERUBIN (POB.)</td>\n",
              "      <td>PH012907017</td>\n",
              "      <td>MILD</td>\n",
              "      <td>NO</td>\n",
              "      <td>2022-01-16</td>\n",
              "      <td>NO</td>\n",
              "      <td>NaN</td>\n",
              "    </tr>\n",
              "    <tr>\n",
              "      <th>387036</th>\n",
              "      <td>C9516291</td>\n",
              "      <td>26.0</td>\n",
              "      <td>25 to 29</td>\n",
              "      <td>FEMALE</td>\n",
              "      <td>2022-01-18</td>\n",
              "      <td>2022-01-19</td>\n",
              "      <td>2022-01-22</td>\n",
              "      <td>NaN</td>\n",
              "      <td>NaN</td>\n",
              "      <td>NaN</td>\n",
              "      <td>...</td>\n",
              "      <td>ILOCOS SUR</td>\n",
              "      <td>MAGSINGAL</td>\n",
              "      <td>PH012912000</td>\n",
              "      <td>SAN BASILIO (POB.)</td>\n",
              "      <td>PH012912032</td>\n",
              "      <td>MILD</td>\n",
              "      <td>NO</td>\n",
              "      <td>NaN</td>\n",
              "      <td>NO</td>\n",
              "      <td>NaN</td>\n",
              "    </tr>\n",
              "    <tr>\n",
              "      <th>387078</th>\n",
              "      <td>C11348288</td>\n",
              "      <td>54.0</td>\n",
              "      <td>50 to 54</td>\n",
              "      <td>MALE</td>\n",
              "      <td>2022-01-19</td>\n",
              "      <td>2022-01-20</td>\n",
              "      <td>2022-01-22</td>\n",
              "      <td>NaN</td>\n",
              "      <td>NaN</td>\n",
              "      <td>NaN</td>\n",
              "      <td>...</td>\n",
              "      <td>ILOCOS SUR</td>\n",
              "      <td>SINAIT</td>\n",
              "      <td>PH012930000</td>\n",
              "      <td>DADALAQUITEN NORTE</td>\n",
              "      <td>PH012930014</td>\n",
              "      <td>MILD</td>\n",
              "      <td>NO</td>\n",
              "      <td>NaN</td>\n",
              "      <td>NaN</td>\n",
              "      <td>NaN</td>\n",
              "    </tr>\n",
              "    <tr>\n",
              "      <th>387323</th>\n",
              "      <td>C18439871</td>\n",
              "      <td>1.0</td>\n",
              "      <td>0 to 4</td>\n",
              "      <td>FEMALE</td>\n",
              "      <td>2022-01-19</td>\n",
              "      <td>2022-01-20</td>\n",
              "      <td>2022-01-22</td>\n",
              "      <td>NaN</td>\n",
              "      <td>NaN</td>\n",
              "      <td>NaN</td>\n",
              "      <td>...</td>\n",
              "      <td>ILOCOS SUR</td>\n",
              "      <td>CABUGAO</td>\n",
              "      <td>PH012905000</td>\n",
              "      <td>BUNGRO</td>\n",
              "      <td>PH012905007</td>\n",
              "      <td>MILD</td>\n",
              "      <td>NO</td>\n",
              "      <td>2022-01-16</td>\n",
              "      <td>NO</td>\n",
              "      <td>NaN</td>\n",
              "    </tr>\n",
              "  </tbody>\n",
              "</table>\n",
              "<p>1302 rows × 22 columns</p>\n",
              "</div>\n",
              "      <button class=\"colab-df-convert\" onclick=\"convertToInteractive('df-0a57b4d1-e992-4054-b601-a85784644ac9')\"\n",
              "              title=\"Convert this dataframe to an interactive table.\"\n",
              "              style=\"display:none;\">\n",
              "        \n",
              "  <svg xmlns=\"http://www.w3.org/2000/svg\" height=\"24px\"viewBox=\"0 0 24 24\"\n",
              "       width=\"24px\">\n",
              "    <path d=\"M0 0h24v24H0V0z\" fill=\"none\"/>\n",
              "    <path d=\"M18.56 5.44l.94 2.06.94-2.06 2.06-.94-2.06-.94-.94-2.06-.94 2.06-2.06.94zm-11 1L8.5 8.5l.94-2.06 2.06-.94-2.06-.94L8.5 2.5l-.94 2.06-2.06.94zm10 10l.94 2.06.94-2.06 2.06-.94-2.06-.94-.94-2.06-.94 2.06-2.06.94z\"/><path d=\"M17.41 7.96l-1.37-1.37c-.4-.4-.92-.59-1.43-.59-.52 0-1.04.2-1.43.59L10.3 9.45l-7.72 7.72c-.78.78-.78 2.05 0 2.83L4 21.41c.39.39.9.59 1.41.59.51 0 1.02-.2 1.41-.59l7.78-7.78 2.81-2.81c.8-.78.8-2.07 0-2.86zM5.41 20L4 18.59l7.72-7.72 1.47 1.35L5.41 20z\"/>\n",
              "  </svg>\n",
              "      </button>\n",
              "      \n",
              "  <style>\n",
              "    .colab-df-container {\n",
              "      display:flex;\n",
              "      flex-wrap:wrap;\n",
              "      gap: 12px;\n",
              "    }\n",
              "\n",
              "    .colab-df-convert {\n",
              "      background-color: #E8F0FE;\n",
              "      border: none;\n",
              "      border-radius: 50%;\n",
              "      cursor: pointer;\n",
              "      display: none;\n",
              "      fill: #1967D2;\n",
              "      height: 32px;\n",
              "      padding: 0 0 0 0;\n",
              "      width: 32px;\n",
              "    }\n",
              "\n",
              "    .colab-df-convert:hover {\n",
              "      background-color: #E2EBFA;\n",
              "      box-shadow: 0px 1px 2px rgba(60, 64, 67, 0.3), 0px 1px 3px 1px rgba(60, 64, 67, 0.15);\n",
              "      fill: #174EA6;\n",
              "    }\n",
              "\n",
              "    [theme=dark] .colab-df-convert {\n",
              "      background-color: #3B4455;\n",
              "      fill: #D2E3FC;\n",
              "    }\n",
              "\n",
              "    [theme=dark] .colab-df-convert:hover {\n",
              "      background-color: #434B5C;\n",
              "      box-shadow: 0px 1px 3px 1px rgba(0, 0, 0, 0.15);\n",
              "      filter: drop-shadow(0px 1px 2px rgba(0, 0, 0, 0.3));\n",
              "      fill: #FFFFFF;\n",
              "    }\n",
              "  </style>\n",
              "\n",
              "      <script>\n",
              "        const buttonEl =\n",
              "          document.querySelector('#df-0a57b4d1-e992-4054-b601-a85784644ac9 button.colab-df-convert');\n",
              "        buttonEl.style.display =\n",
              "          google.colab.kernel.accessAllowed ? 'block' : 'none';\n",
              "\n",
              "        async function convertToInteractive(key) {\n",
              "          const element = document.querySelector('#df-0a57b4d1-e992-4054-b601-a85784644ac9');\n",
              "          const dataTable =\n",
              "            await google.colab.kernel.invokeFunction('convertToInteractive',\n",
              "                                                     [key], {});\n",
              "          if (!dataTable) return;\n",
              "\n",
              "          const docLinkHtml = 'Like what you see? Visit the ' +\n",
              "            '<a target=\"_blank\" href=https://colab.research.google.com/notebooks/data_table.ipynb>data table notebook</a>'\n",
              "            + ' to learn more about interactive tables.';\n",
              "          element.innerHTML = '';\n",
              "          dataTable['output_type'] = 'display_data';\n",
              "          await google.colab.output.renderOutput(dataTable, element);\n",
              "          const docLink = document.createElement('div');\n",
              "          docLink.innerHTML = docLinkHtml;\n",
              "          element.appendChild(docLink);\n",
              "        }\n",
              "      </script>\n",
              "    </div>\n",
              "  </div>\n",
              "  "
            ]
          },
          "metadata": {},
          "execution_count": 83
        }
      ]
    },
    {
      "cell_type": "code",
      "source": [
        "df_new = df[(df[\"ProvRes\"]==\"ILOCOS SUR\") & (df[\"HealthStatus\"]==\"DIED\")]\n",
        "df_new"
      ],
      "metadata": {
        "colab": {
          "base_uri": "https://localhost:8080/",
          "height": 110
        },
        "id": "EJ2wCHUm7wXv",
        "outputId": "ff347722-c04e-48b1-b9a7-d7f38d0b69b5"
      },
      "execution_count": null,
      "outputs": [
        {
          "output_type": "execute_result",
          "data": {
            "text/plain": [
              "        CaseCode   Age AgeGroup   Sex DateSpecimen DateResultRelease  \\\n",
              "20655  C59524446  84.0      80+  MALE   2022-01-07        2022-01-10   \n",
              "\n",
              "      DateRepConf    DateDied DateRecover RemovalType  ...     ProvRes  \\\n",
              "20655  2022-01-11  2022-01-07         NaN        DIED  ...  ILOCOS SUR   \n",
              "\n",
              "      CityMunRes CityMuniPSGC BarangayRes BarangayPSGC HealthStatus  \\\n",
              "20655    TAGUDIN  PH012933000    DARDARAT  PH012933017         DIED   \n",
              "\n",
              "      Quarantined   DateOnset Pregnanttab ValidationStatus  \n",
              "20655          NO  2022-01-05         NaN              NaN  \n",
              "\n",
              "[1 rows x 22 columns]"
            ],
            "text/html": [
              "\n",
              "  <div id=\"df-e831230d-7701-4530-9ce5-30d4321418aa\">\n",
              "    <div class=\"colab-df-container\">\n",
              "      <div>\n",
              "<style scoped>\n",
              "    .dataframe tbody tr th:only-of-type {\n",
              "        vertical-align: middle;\n",
              "    }\n",
              "\n",
              "    .dataframe tbody tr th {\n",
              "        vertical-align: top;\n",
              "    }\n",
              "\n",
              "    .dataframe thead th {\n",
              "        text-align: right;\n",
              "    }\n",
              "</style>\n",
              "<table border=\"1\" class=\"dataframe\">\n",
              "  <thead>\n",
              "    <tr style=\"text-align: right;\">\n",
              "      <th></th>\n",
              "      <th>CaseCode</th>\n",
              "      <th>Age</th>\n",
              "      <th>AgeGroup</th>\n",
              "      <th>Sex</th>\n",
              "      <th>DateSpecimen</th>\n",
              "      <th>DateResultRelease</th>\n",
              "      <th>DateRepConf</th>\n",
              "      <th>DateDied</th>\n",
              "      <th>DateRecover</th>\n",
              "      <th>RemovalType</th>\n",
              "      <th>...</th>\n",
              "      <th>ProvRes</th>\n",
              "      <th>CityMunRes</th>\n",
              "      <th>CityMuniPSGC</th>\n",
              "      <th>BarangayRes</th>\n",
              "      <th>BarangayPSGC</th>\n",
              "      <th>HealthStatus</th>\n",
              "      <th>Quarantined</th>\n",
              "      <th>DateOnset</th>\n",
              "      <th>Pregnanttab</th>\n",
              "      <th>ValidationStatus</th>\n",
              "    </tr>\n",
              "  </thead>\n",
              "  <tbody>\n",
              "    <tr>\n",
              "      <th>20655</th>\n",
              "      <td>C59524446</td>\n",
              "      <td>84.0</td>\n",
              "      <td>80+</td>\n",
              "      <td>MALE</td>\n",
              "      <td>2022-01-07</td>\n",
              "      <td>2022-01-10</td>\n",
              "      <td>2022-01-11</td>\n",
              "      <td>2022-01-07</td>\n",
              "      <td>NaN</td>\n",
              "      <td>DIED</td>\n",
              "      <td>...</td>\n",
              "      <td>ILOCOS SUR</td>\n",
              "      <td>TAGUDIN</td>\n",
              "      <td>PH012933000</td>\n",
              "      <td>DARDARAT</td>\n",
              "      <td>PH012933017</td>\n",
              "      <td>DIED</td>\n",
              "      <td>NO</td>\n",
              "      <td>2022-01-05</td>\n",
              "      <td>NaN</td>\n",
              "      <td>NaN</td>\n",
              "    </tr>\n",
              "  </tbody>\n",
              "</table>\n",
              "<p>1 rows × 22 columns</p>\n",
              "</div>\n",
              "      <button class=\"colab-df-convert\" onclick=\"convertToInteractive('df-e831230d-7701-4530-9ce5-30d4321418aa')\"\n",
              "              title=\"Convert this dataframe to an interactive table.\"\n",
              "              style=\"display:none;\">\n",
              "        \n",
              "  <svg xmlns=\"http://www.w3.org/2000/svg\" height=\"24px\"viewBox=\"0 0 24 24\"\n",
              "       width=\"24px\">\n",
              "    <path d=\"M0 0h24v24H0V0z\" fill=\"none\"/>\n",
              "    <path d=\"M18.56 5.44l.94 2.06.94-2.06 2.06-.94-2.06-.94-.94-2.06-.94 2.06-2.06.94zm-11 1L8.5 8.5l.94-2.06 2.06-.94-2.06-.94L8.5 2.5l-.94 2.06-2.06.94zm10 10l.94 2.06.94-2.06 2.06-.94-2.06-.94-.94-2.06-.94 2.06-2.06.94z\"/><path d=\"M17.41 7.96l-1.37-1.37c-.4-.4-.92-.59-1.43-.59-.52 0-1.04.2-1.43.59L10.3 9.45l-7.72 7.72c-.78.78-.78 2.05 0 2.83L4 21.41c.39.39.9.59 1.41.59.51 0 1.02-.2 1.41-.59l7.78-7.78 2.81-2.81c.8-.78.8-2.07 0-2.86zM5.41 20L4 18.59l7.72-7.72 1.47 1.35L5.41 20z\"/>\n",
              "  </svg>\n",
              "      </button>\n",
              "      \n",
              "  <style>\n",
              "    .colab-df-container {\n",
              "      display:flex;\n",
              "      flex-wrap:wrap;\n",
              "      gap: 12px;\n",
              "    }\n",
              "\n",
              "    .colab-df-convert {\n",
              "      background-color: #E8F0FE;\n",
              "      border: none;\n",
              "      border-radius: 50%;\n",
              "      cursor: pointer;\n",
              "      display: none;\n",
              "      fill: #1967D2;\n",
              "      height: 32px;\n",
              "      padding: 0 0 0 0;\n",
              "      width: 32px;\n",
              "    }\n",
              "\n",
              "    .colab-df-convert:hover {\n",
              "      background-color: #E2EBFA;\n",
              "      box-shadow: 0px 1px 2px rgba(60, 64, 67, 0.3), 0px 1px 3px 1px rgba(60, 64, 67, 0.15);\n",
              "      fill: #174EA6;\n",
              "    }\n",
              "\n",
              "    [theme=dark] .colab-df-convert {\n",
              "      background-color: #3B4455;\n",
              "      fill: #D2E3FC;\n",
              "    }\n",
              "\n",
              "    [theme=dark] .colab-df-convert:hover {\n",
              "      background-color: #434B5C;\n",
              "      box-shadow: 0px 1px 3px 1px rgba(0, 0, 0, 0.15);\n",
              "      filter: drop-shadow(0px 1px 2px rgba(0, 0, 0, 0.3));\n",
              "      fill: #FFFFFF;\n",
              "    }\n",
              "  </style>\n",
              "\n",
              "      <script>\n",
              "        const buttonEl =\n",
              "          document.querySelector('#df-e831230d-7701-4530-9ce5-30d4321418aa button.colab-df-convert');\n",
              "        buttonEl.style.display =\n",
              "          google.colab.kernel.accessAllowed ? 'block' : 'none';\n",
              "\n",
              "        async function convertToInteractive(key) {\n",
              "          const element = document.querySelector('#df-e831230d-7701-4530-9ce5-30d4321418aa');\n",
              "          const dataTable =\n",
              "            await google.colab.kernel.invokeFunction('convertToInteractive',\n",
              "                                                     [key], {});\n",
              "          if (!dataTable) return;\n",
              "\n",
              "          const docLinkHtml = 'Like what you see? Visit the ' +\n",
              "            '<a target=\"_blank\" href=https://colab.research.google.com/notebooks/data_table.ipynb>data table notebook</a>'\n",
              "            + ' to learn more about interactive tables.';\n",
              "          element.innerHTML = '';\n",
              "          dataTable['output_type'] = 'display_data';\n",
              "          await google.colab.output.renderOutput(dataTable, element);\n",
              "          const docLink = document.createElement('div');\n",
              "          docLink.innerHTML = docLinkHtml;\n",
              "          element.appendChild(docLink);\n",
              "        }\n",
              "      </script>\n",
              "    </div>\n",
              "  </div>\n",
              "  "
            ]
          },
          "metadata": {},
          "execution_count": 84
        }
      ]
    },
    {
      "cell_type": "code",
      "source": [
        "df_new = df[(df[\"ProvRes\"]==\"ILOCOS SUR\") & (df[\"HealthStatus\"]==\"RECOVERED \")]\n",
        "df_new"
      ],
      "metadata": {
        "colab": {
          "base_uri": "https://localhost:8080/",
          "height": 79
        },
        "id": "84dV3mDX70uF",
        "outputId": "1a82cdc9-2d1b-45e9-b7a2-0a1c69ecfd14"
      },
      "execution_count": null,
      "outputs": [
        {
          "output_type": "execute_result",
          "data": {
            "text/plain": [
              "Empty DataFrame\n",
              "Columns: [CaseCode, Age, AgeGroup, Sex, DateSpecimen, DateResultRelease, DateRepConf, DateDied, DateRecover, RemovalType, Admitted, RegionRes, ProvRes, CityMunRes, CityMuniPSGC, BarangayRes, BarangayPSGC, HealthStatus, Quarantined, DateOnset, Pregnanttab, ValidationStatus]\n",
              "Index: []\n",
              "\n",
              "[0 rows x 22 columns]"
            ],
            "text/html": [
              "\n",
              "  <div id=\"df-dbe1b8fb-4fb3-491c-b41c-c28806ed2e70\">\n",
              "    <div class=\"colab-df-container\">\n",
              "      <div>\n",
              "<style scoped>\n",
              "    .dataframe tbody tr th:only-of-type {\n",
              "        vertical-align: middle;\n",
              "    }\n",
              "\n",
              "    .dataframe tbody tr th {\n",
              "        vertical-align: top;\n",
              "    }\n",
              "\n",
              "    .dataframe thead th {\n",
              "        text-align: right;\n",
              "    }\n",
              "</style>\n",
              "<table border=\"1\" class=\"dataframe\">\n",
              "  <thead>\n",
              "    <tr style=\"text-align: right;\">\n",
              "      <th></th>\n",
              "      <th>CaseCode</th>\n",
              "      <th>Age</th>\n",
              "      <th>AgeGroup</th>\n",
              "      <th>Sex</th>\n",
              "      <th>DateSpecimen</th>\n",
              "      <th>DateResultRelease</th>\n",
              "      <th>DateRepConf</th>\n",
              "      <th>DateDied</th>\n",
              "      <th>DateRecover</th>\n",
              "      <th>RemovalType</th>\n",
              "      <th>...</th>\n",
              "      <th>ProvRes</th>\n",
              "      <th>CityMunRes</th>\n",
              "      <th>CityMuniPSGC</th>\n",
              "      <th>BarangayRes</th>\n",
              "      <th>BarangayPSGC</th>\n",
              "      <th>HealthStatus</th>\n",
              "      <th>Quarantined</th>\n",
              "      <th>DateOnset</th>\n",
              "      <th>Pregnanttab</th>\n",
              "      <th>ValidationStatus</th>\n",
              "    </tr>\n",
              "  </thead>\n",
              "  <tbody>\n",
              "  </tbody>\n",
              "</table>\n",
              "<p>0 rows × 22 columns</p>\n",
              "</div>\n",
              "      <button class=\"colab-df-convert\" onclick=\"convertToInteractive('df-dbe1b8fb-4fb3-491c-b41c-c28806ed2e70')\"\n",
              "              title=\"Convert this dataframe to an interactive table.\"\n",
              "              style=\"display:none;\">\n",
              "        \n",
              "  <svg xmlns=\"http://www.w3.org/2000/svg\" height=\"24px\"viewBox=\"0 0 24 24\"\n",
              "       width=\"24px\">\n",
              "    <path d=\"M0 0h24v24H0V0z\" fill=\"none\"/>\n",
              "    <path d=\"M18.56 5.44l.94 2.06.94-2.06 2.06-.94-2.06-.94-.94-2.06-.94 2.06-2.06.94zm-11 1L8.5 8.5l.94-2.06 2.06-.94-2.06-.94L8.5 2.5l-.94 2.06-2.06.94zm10 10l.94 2.06.94-2.06 2.06-.94-2.06-.94-.94-2.06-.94 2.06-2.06.94z\"/><path d=\"M17.41 7.96l-1.37-1.37c-.4-.4-.92-.59-1.43-.59-.52 0-1.04.2-1.43.59L10.3 9.45l-7.72 7.72c-.78.78-.78 2.05 0 2.83L4 21.41c.39.39.9.59 1.41.59.51 0 1.02-.2 1.41-.59l7.78-7.78 2.81-2.81c.8-.78.8-2.07 0-2.86zM5.41 20L4 18.59l7.72-7.72 1.47 1.35L5.41 20z\"/>\n",
              "  </svg>\n",
              "      </button>\n",
              "      \n",
              "  <style>\n",
              "    .colab-df-container {\n",
              "      display:flex;\n",
              "      flex-wrap:wrap;\n",
              "      gap: 12px;\n",
              "    }\n",
              "\n",
              "    .colab-df-convert {\n",
              "      background-color: #E8F0FE;\n",
              "      border: none;\n",
              "      border-radius: 50%;\n",
              "      cursor: pointer;\n",
              "      display: none;\n",
              "      fill: #1967D2;\n",
              "      height: 32px;\n",
              "      padding: 0 0 0 0;\n",
              "      width: 32px;\n",
              "    }\n",
              "\n",
              "    .colab-df-convert:hover {\n",
              "      background-color: #E2EBFA;\n",
              "      box-shadow: 0px 1px 2px rgba(60, 64, 67, 0.3), 0px 1px 3px 1px rgba(60, 64, 67, 0.15);\n",
              "      fill: #174EA6;\n",
              "    }\n",
              "\n",
              "    [theme=dark] .colab-df-convert {\n",
              "      background-color: #3B4455;\n",
              "      fill: #D2E3FC;\n",
              "    }\n",
              "\n",
              "    [theme=dark] .colab-df-convert:hover {\n",
              "      background-color: #434B5C;\n",
              "      box-shadow: 0px 1px 3px 1px rgba(0, 0, 0, 0.15);\n",
              "      filter: drop-shadow(0px 1px 2px rgba(0, 0, 0, 0.3));\n",
              "      fill: #FFFFFF;\n",
              "    }\n",
              "  </style>\n",
              "\n",
              "      <script>\n",
              "        const buttonEl =\n",
              "          document.querySelector('#df-dbe1b8fb-4fb3-491c-b41c-c28806ed2e70 button.colab-df-convert');\n",
              "        buttonEl.style.display =\n",
              "          google.colab.kernel.accessAllowed ? 'block' : 'none';\n",
              "\n",
              "        async function convertToInteractive(key) {\n",
              "          const element = document.querySelector('#df-dbe1b8fb-4fb3-491c-b41c-c28806ed2e70');\n",
              "          const dataTable =\n",
              "            await google.colab.kernel.invokeFunction('convertToInteractive',\n",
              "                                                     [key], {});\n",
              "          if (!dataTable) return;\n",
              "\n",
              "          const docLinkHtml = 'Like what you see? Visit the ' +\n",
              "            '<a target=\"_blank\" href=https://colab.research.google.com/notebooks/data_table.ipynb>data table notebook</a>'\n",
              "            + ' to learn more about interactive tables.';\n",
              "          element.innerHTML = '';\n",
              "          dataTable['output_type'] = 'display_data';\n",
              "          await google.colab.output.renderOutput(dataTable, element);\n",
              "          const docLink = document.createElement('div');\n",
              "          docLink.innerHTML = docLinkHtml;\n",
              "          element.appendChild(docLink);\n",
              "        }\n",
              "      </script>\n",
              "    </div>\n",
              "  </div>\n",
              "  "
            ]
          },
          "metadata": {},
          "execution_count": 85
        }
      ]
    },
    {
      "cell_type": "code",
      "source": [
        "df_bins = df_data['age_bins'] = pd.cut(df_data['Age'], bins=3, labels= ('young', 'middle_age', 'old'))"
      ],
      "metadata": {
        "id": "nTWQTgkz5paa",
        "colab": {
          "base_uri": "https://localhost:8080/"
        },
        "outputId": "34a96678-5cbe-4887-8810-b73c3cf9805e"
      },
      "execution_count": null,
      "outputs": [
        {
          "output_type": "stream",
          "name": "stderr",
          "text": [
            "/usr/local/lib/python3.7/dist-packages/ipykernel_launcher.py:1: SettingWithCopyWarning: \n",
            "A value is trying to be set on a copy of a slice from a DataFrame.\n",
            "Try using .loc[row_indexer,col_indexer] = value instead\n",
            "\n",
            "See the caveats in the documentation: https://pandas.pydata.org/pandas-docs/stable/user_guide/indexing.html#returning-a-view-versus-a-copy\n",
            "  \"\"\"Entry point for launching an IPython kernel.\n"
          ]
        }
      ]
    },
    {
      "cell_type": "code",
      "source": [
        "df_data"
      ],
      "metadata": {
        "colab": {
          "base_uri": "https://localhost:8080/",
          "height": 624
        },
        "id": "Ohk4hJBo6hmT",
        "outputId": "c0b27056-be14-4bc3-a07e-32a9491cdf99"
      },
      "execution_count": null,
      "outputs": [
        {
          "output_type": "execute_result",
          "data": {
            "text/plain": [
              "         CaseCode   Age  AgeGroup     Sex DateSpecimen DateResultRelease  \\\n",
              "95       C1262675  26.0  25 to 29    MALE   2022-01-08        2022-01-10   \n",
              "198     C43874335  45.0  45 to 49  FEMALE   2022-01-07        2022-01-08   \n",
              "207     C40740561  37.0  35 to 39  FEMALE   2022-01-07        2022-01-08   \n",
              "974     C87078322  21.0  20 to 24  FEMALE   2022-01-09        2022-01-10   \n",
              "1464    C39174719  24.0  20 to 24  FEMALE   2022-01-03        2022-01-07   \n",
              "...           ...   ...       ...     ...          ...               ...   \n",
              "386720  C58249797  27.0  25 to 29  FEMALE   2022-01-19        2022-01-21   \n",
              "386930  C92173719  18.0  15 to 19  FEMALE   2022-01-18        2022-01-19   \n",
              "387036   C9516291  26.0  25 to 29  FEMALE   2022-01-18        2022-01-19   \n",
              "387078  C11348288  54.0  50 to 54    MALE   2022-01-19        2022-01-20   \n",
              "387323  C18439871   1.0    0 to 4  FEMALE   2022-01-19        2022-01-20   \n",
              "\n",
              "       DateRepConf DateDied DateRecover RemovalType  ...  \\\n",
              "95      2022-01-11      NaN         NaN   RECOVERED  ...   \n",
              "198     2022-01-11      NaN         NaN   RECOVERED  ...   \n",
              "207     2022-01-11      NaN         NaN   RECOVERED  ...   \n",
              "974     2022-01-11      NaN         NaN   RECOVERED  ...   \n",
              "1464    2022-01-11      NaN         NaN   RECOVERED  ...   \n",
              "...            ...      ...         ...         ...  ...   \n",
              "386720  2022-01-22      NaN         NaN         NaN  ...   \n",
              "386930  2022-01-22      NaN         NaN         NaN  ...   \n",
              "387036  2022-01-22      NaN         NaN         NaN  ...   \n",
              "387078  2022-01-22      NaN         NaN         NaN  ...   \n",
              "387323  2022-01-22      NaN         NaN         NaN  ...   \n",
              "\n",
              "                     CityMunRes CityMuniPSGC                  BarangayRes  \\\n",
              "95                    CERVANTES  PH012908000               COMILLAS NORTH   \n",
              "198     CITY OF VIGAN (CAPITAL)  PH012934000            BARANGAY V (POB.)   \n",
              "207     CITY OF VIGAN (CAPITAL)  PH012934000            BARANGAY V (POB.)   \n",
              "974                    NARVACAN  PH012914000                    DINALAOAN   \n",
              "1464             CITY OF CANDON  PH012906000                  CALONGBUYAN   \n",
              "...                         ...          ...                          ...   \n",
              "386720                     SUYO  PH012932000          POBLACION (KIMPUSA)   \n",
              "386930                  CAOAYAN  PH012907000  DON LORENZO QUERUBIN (POB.)   \n",
              "387036                MAGSINGAL  PH012912000           SAN BASILIO (POB.)   \n",
              "387078                   SINAIT  PH012930000           DADALAQUITEN NORTE   \n",
              "387323                  CABUGAO  PH012905000                       BUNGRO   \n",
              "\n",
              "       BarangayPSGC HealthStatus Quarantined   DateOnset Pregnanttab  \\\n",
              "95      PH012908002    RECOVERED          NO  2022-01-07         NaN   \n",
              "198     PH012934007    RECOVERED          NO  2022-01-06          NO   \n",
              "207     PH012934007    RECOVERED          NO         NaN          NO   \n",
              "974     PH012914013    RECOVERED          NO         NaN          NO   \n",
              "1464    PH012906017    RECOVERED          NO         NaN          NO   \n",
              "...             ...          ...         ...         ...         ...   \n",
              "386720  PH012932005         MILD          NO  2022-01-10          NO   \n",
              "386930  PH012907017         MILD          NO  2022-01-16          NO   \n",
              "387036  PH012912032         MILD          NO         NaN          NO   \n",
              "387078  PH012930014         MILD          NO         NaN         NaN   \n",
              "387323  PH012905007         MILD          NO  2022-01-16          NO   \n",
              "\n",
              "                                         ValidationStatus    age_bins  \n",
              "95      Removal Type is \"Recovered\", but no Recovered ...       young  \n",
              "198     Removal Type is \"Recovered\", but no Recovered ...  middle_age  \n",
              "207     Health Status is \"Recovered\", but no Date Reco...  middle_age  \n",
              "974     Health Status is \"Recovered\", but no Date Reco...       young  \n",
              "1464    Health Status is \"Recovered\", but no Date Reco...       young  \n",
              "...                                                   ...         ...  \n",
              "386720                                                NaN       young  \n",
              "386930                                                NaN       young  \n",
              "387036                                                NaN       young  \n",
              "387078                                                NaN  middle_age  \n",
              "387323                                                NaN       young  \n",
              "\n",
              "[1563 rows x 23 columns]"
            ],
            "text/html": [
              "\n",
              "  <div id=\"df-b0cd190a-5eb4-440b-a923-cf932acffa02\">\n",
              "    <div class=\"colab-df-container\">\n",
              "      <div>\n",
              "<style scoped>\n",
              "    .dataframe tbody tr th:only-of-type {\n",
              "        vertical-align: middle;\n",
              "    }\n",
              "\n",
              "    .dataframe tbody tr th {\n",
              "        vertical-align: top;\n",
              "    }\n",
              "\n",
              "    .dataframe thead th {\n",
              "        text-align: right;\n",
              "    }\n",
              "</style>\n",
              "<table border=\"1\" class=\"dataframe\">\n",
              "  <thead>\n",
              "    <tr style=\"text-align: right;\">\n",
              "      <th></th>\n",
              "      <th>CaseCode</th>\n",
              "      <th>Age</th>\n",
              "      <th>AgeGroup</th>\n",
              "      <th>Sex</th>\n",
              "      <th>DateSpecimen</th>\n",
              "      <th>DateResultRelease</th>\n",
              "      <th>DateRepConf</th>\n",
              "      <th>DateDied</th>\n",
              "      <th>DateRecover</th>\n",
              "      <th>RemovalType</th>\n",
              "      <th>...</th>\n",
              "      <th>CityMunRes</th>\n",
              "      <th>CityMuniPSGC</th>\n",
              "      <th>BarangayRes</th>\n",
              "      <th>BarangayPSGC</th>\n",
              "      <th>HealthStatus</th>\n",
              "      <th>Quarantined</th>\n",
              "      <th>DateOnset</th>\n",
              "      <th>Pregnanttab</th>\n",
              "      <th>ValidationStatus</th>\n",
              "      <th>age_bins</th>\n",
              "    </tr>\n",
              "  </thead>\n",
              "  <tbody>\n",
              "    <tr>\n",
              "      <th>95</th>\n",
              "      <td>C1262675</td>\n",
              "      <td>26.0</td>\n",
              "      <td>25 to 29</td>\n",
              "      <td>MALE</td>\n",
              "      <td>2022-01-08</td>\n",
              "      <td>2022-01-10</td>\n",
              "      <td>2022-01-11</td>\n",
              "      <td>NaN</td>\n",
              "      <td>NaN</td>\n",
              "      <td>RECOVERED</td>\n",
              "      <td>...</td>\n",
              "      <td>CERVANTES</td>\n",
              "      <td>PH012908000</td>\n",
              "      <td>COMILLAS NORTH</td>\n",
              "      <td>PH012908002</td>\n",
              "      <td>RECOVERED</td>\n",
              "      <td>NO</td>\n",
              "      <td>2022-01-07</td>\n",
              "      <td>NaN</td>\n",
              "      <td>Removal Type is \"Recovered\", but no Recovered ...</td>\n",
              "      <td>young</td>\n",
              "    </tr>\n",
              "    <tr>\n",
              "      <th>198</th>\n",
              "      <td>C43874335</td>\n",
              "      <td>45.0</td>\n",
              "      <td>45 to 49</td>\n",
              "      <td>FEMALE</td>\n",
              "      <td>2022-01-07</td>\n",
              "      <td>2022-01-08</td>\n",
              "      <td>2022-01-11</td>\n",
              "      <td>NaN</td>\n",
              "      <td>NaN</td>\n",
              "      <td>RECOVERED</td>\n",
              "      <td>...</td>\n",
              "      <td>CITY OF VIGAN (CAPITAL)</td>\n",
              "      <td>PH012934000</td>\n",
              "      <td>BARANGAY V (POB.)</td>\n",
              "      <td>PH012934007</td>\n",
              "      <td>RECOVERED</td>\n",
              "      <td>NO</td>\n",
              "      <td>2022-01-06</td>\n",
              "      <td>NO</td>\n",
              "      <td>Removal Type is \"Recovered\", but no Recovered ...</td>\n",
              "      <td>middle_age</td>\n",
              "    </tr>\n",
              "    <tr>\n",
              "      <th>207</th>\n",
              "      <td>C40740561</td>\n",
              "      <td>37.0</td>\n",
              "      <td>35 to 39</td>\n",
              "      <td>FEMALE</td>\n",
              "      <td>2022-01-07</td>\n",
              "      <td>2022-01-08</td>\n",
              "      <td>2022-01-11</td>\n",
              "      <td>NaN</td>\n",
              "      <td>NaN</td>\n",
              "      <td>RECOVERED</td>\n",
              "      <td>...</td>\n",
              "      <td>CITY OF VIGAN (CAPITAL)</td>\n",
              "      <td>PH012934000</td>\n",
              "      <td>BARANGAY V (POB.)</td>\n",
              "      <td>PH012934007</td>\n",
              "      <td>RECOVERED</td>\n",
              "      <td>NO</td>\n",
              "      <td>NaN</td>\n",
              "      <td>NO</td>\n",
              "      <td>Health Status is \"Recovered\", but no Date Reco...</td>\n",
              "      <td>middle_age</td>\n",
              "    </tr>\n",
              "    <tr>\n",
              "      <th>974</th>\n",
              "      <td>C87078322</td>\n",
              "      <td>21.0</td>\n",
              "      <td>20 to 24</td>\n",
              "      <td>FEMALE</td>\n",
              "      <td>2022-01-09</td>\n",
              "      <td>2022-01-10</td>\n",
              "      <td>2022-01-11</td>\n",
              "      <td>NaN</td>\n",
              "      <td>NaN</td>\n",
              "      <td>RECOVERED</td>\n",
              "      <td>...</td>\n",
              "      <td>NARVACAN</td>\n",
              "      <td>PH012914000</td>\n",
              "      <td>DINALAOAN</td>\n",
              "      <td>PH012914013</td>\n",
              "      <td>RECOVERED</td>\n",
              "      <td>NO</td>\n",
              "      <td>NaN</td>\n",
              "      <td>NO</td>\n",
              "      <td>Health Status is \"Recovered\", but no Date Reco...</td>\n",
              "      <td>young</td>\n",
              "    </tr>\n",
              "    <tr>\n",
              "      <th>1464</th>\n",
              "      <td>C39174719</td>\n",
              "      <td>24.0</td>\n",
              "      <td>20 to 24</td>\n",
              "      <td>FEMALE</td>\n",
              "      <td>2022-01-03</td>\n",
              "      <td>2022-01-07</td>\n",
              "      <td>2022-01-11</td>\n",
              "      <td>NaN</td>\n",
              "      <td>NaN</td>\n",
              "      <td>RECOVERED</td>\n",
              "      <td>...</td>\n",
              "      <td>CITY OF CANDON</td>\n",
              "      <td>PH012906000</td>\n",
              "      <td>CALONGBUYAN</td>\n",
              "      <td>PH012906017</td>\n",
              "      <td>RECOVERED</td>\n",
              "      <td>NO</td>\n",
              "      <td>NaN</td>\n",
              "      <td>NO</td>\n",
              "      <td>Health Status is \"Recovered\", but no Date Reco...</td>\n",
              "      <td>young</td>\n",
              "    </tr>\n",
              "    <tr>\n",
              "      <th>...</th>\n",
              "      <td>...</td>\n",
              "      <td>...</td>\n",
              "      <td>...</td>\n",
              "      <td>...</td>\n",
              "      <td>...</td>\n",
              "      <td>...</td>\n",
              "      <td>...</td>\n",
              "      <td>...</td>\n",
              "      <td>...</td>\n",
              "      <td>...</td>\n",
              "      <td>...</td>\n",
              "      <td>...</td>\n",
              "      <td>...</td>\n",
              "      <td>...</td>\n",
              "      <td>...</td>\n",
              "      <td>...</td>\n",
              "      <td>...</td>\n",
              "      <td>...</td>\n",
              "      <td>...</td>\n",
              "      <td>...</td>\n",
              "      <td>...</td>\n",
              "    </tr>\n",
              "    <tr>\n",
              "      <th>386720</th>\n",
              "      <td>C58249797</td>\n",
              "      <td>27.0</td>\n",
              "      <td>25 to 29</td>\n",
              "      <td>FEMALE</td>\n",
              "      <td>2022-01-19</td>\n",
              "      <td>2022-01-21</td>\n",
              "      <td>2022-01-22</td>\n",
              "      <td>NaN</td>\n",
              "      <td>NaN</td>\n",
              "      <td>NaN</td>\n",
              "      <td>...</td>\n",
              "      <td>SUYO</td>\n",
              "      <td>PH012932000</td>\n",
              "      <td>POBLACION (KIMPUSA)</td>\n",
              "      <td>PH012932005</td>\n",
              "      <td>MILD</td>\n",
              "      <td>NO</td>\n",
              "      <td>2022-01-10</td>\n",
              "      <td>NO</td>\n",
              "      <td>NaN</td>\n",
              "      <td>young</td>\n",
              "    </tr>\n",
              "    <tr>\n",
              "      <th>386930</th>\n",
              "      <td>C92173719</td>\n",
              "      <td>18.0</td>\n",
              "      <td>15 to 19</td>\n",
              "      <td>FEMALE</td>\n",
              "      <td>2022-01-18</td>\n",
              "      <td>2022-01-19</td>\n",
              "      <td>2022-01-22</td>\n",
              "      <td>NaN</td>\n",
              "      <td>NaN</td>\n",
              "      <td>NaN</td>\n",
              "      <td>...</td>\n",
              "      <td>CAOAYAN</td>\n",
              "      <td>PH012907000</td>\n",
              "      <td>DON LORENZO QUERUBIN (POB.)</td>\n",
              "      <td>PH012907017</td>\n",
              "      <td>MILD</td>\n",
              "      <td>NO</td>\n",
              "      <td>2022-01-16</td>\n",
              "      <td>NO</td>\n",
              "      <td>NaN</td>\n",
              "      <td>young</td>\n",
              "    </tr>\n",
              "    <tr>\n",
              "      <th>387036</th>\n",
              "      <td>C9516291</td>\n",
              "      <td>26.0</td>\n",
              "      <td>25 to 29</td>\n",
              "      <td>FEMALE</td>\n",
              "      <td>2022-01-18</td>\n",
              "      <td>2022-01-19</td>\n",
              "      <td>2022-01-22</td>\n",
              "      <td>NaN</td>\n",
              "      <td>NaN</td>\n",
              "      <td>NaN</td>\n",
              "      <td>...</td>\n",
              "      <td>MAGSINGAL</td>\n",
              "      <td>PH012912000</td>\n",
              "      <td>SAN BASILIO (POB.)</td>\n",
              "      <td>PH012912032</td>\n",
              "      <td>MILD</td>\n",
              "      <td>NO</td>\n",
              "      <td>NaN</td>\n",
              "      <td>NO</td>\n",
              "      <td>NaN</td>\n",
              "      <td>young</td>\n",
              "    </tr>\n",
              "    <tr>\n",
              "      <th>387078</th>\n",
              "      <td>C11348288</td>\n",
              "      <td>54.0</td>\n",
              "      <td>50 to 54</td>\n",
              "      <td>MALE</td>\n",
              "      <td>2022-01-19</td>\n",
              "      <td>2022-01-20</td>\n",
              "      <td>2022-01-22</td>\n",
              "      <td>NaN</td>\n",
              "      <td>NaN</td>\n",
              "      <td>NaN</td>\n",
              "      <td>...</td>\n",
              "      <td>SINAIT</td>\n",
              "      <td>PH012930000</td>\n",
              "      <td>DADALAQUITEN NORTE</td>\n",
              "      <td>PH012930014</td>\n",
              "      <td>MILD</td>\n",
              "      <td>NO</td>\n",
              "      <td>NaN</td>\n",
              "      <td>NaN</td>\n",
              "      <td>NaN</td>\n",
              "      <td>middle_age</td>\n",
              "    </tr>\n",
              "    <tr>\n",
              "      <th>387323</th>\n",
              "      <td>C18439871</td>\n",
              "      <td>1.0</td>\n",
              "      <td>0 to 4</td>\n",
              "      <td>FEMALE</td>\n",
              "      <td>2022-01-19</td>\n",
              "      <td>2022-01-20</td>\n",
              "      <td>2022-01-22</td>\n",
              "      <td>NaN</td>\n",
              "      <td>NaN</td>\n",
              "      <td>NaN</td>\n",
              "      <td>...</td>\n",
              "      <td>CABUGAO</td>\n",
              "      <td>PH012905000</td>\n",
              "      <td>BUNGRO</td>\n",
              "      <td>PH012905007</td>\n",
              "      <td>MILD</td>\n",
              "      <td>NO</td>\n",
              "      <td>2022-01-16</td>\n",
              "      <td>NO</td>\n",
              "      <td>NaN</td>\n",
              "      <td>young</td>\n",
              "    </tr>\n",
              "  </tbody>\n",
              "</table>\n",
              "<p>1563 rows × 23 columns</p>\n",
              "</div>\n",
              "      <button class=\"colab-df-convert\" onclick=\"convertToInteractive('df-b0cd190a-5eb4-440b-a923-cf932acffa02')\"\n",
              "              title=\"Convert this dataframe to an interactive table.\"\n",
              "              style=\"display:none;\">\n",
              "        \n",
              "  <svg xmlns=\"http://www.w3.org/2000/svg\" height=\"24px\"viewBox=\"0 0 24 24\"\n",
              "       width=\"24px\">\n",
              "    <path d=\"M0 0h24v24H0V0z\" fill=\"none\"/>\n",
              "    <path d=\"M18.56 5.44l.94 2.06.94-2.06 2.06-.94-2.06-.94-.94-2.06-.94 2.06-2.06.94zm-11 1L8.5 8.5l.94-2.06 2.06-.94-2.06-.94L8.5 2.5l-.94 2.06-2.06.94zm10 10l.94 2.06.94-2.06 2.06-.94-2.06-.94-.94-2.06-.94 2.06-2.06.94z\"/><path d=\"M17.41 7.96l-1.37-1.37c-.4-.4-.92-.59-1.43-.59-.52 0-1.04.2-1.43.59L10.3 9.45l-7.72 7.72c-.78.78-.78 2.05 0 2.83L4 21.41c.39.39.9.59 1.41.59.51 0 1.02-.2 1.41-.59l7.78-7.78 2.81-2.81c.8-.78.8-2.07 0-2.86zM5.41 20L4 18.59l7.72-7.72 1.47 1.35L5.41 20z\"/>\n",
              "  </svg>\n",
              "      </button>\n",
              "      \n",
              "  <style>\n",
              "    .colab-df-container {\n",
              "      display:flex;\n",
              "      flex-wrap:wrap;\n",
              "      gap: 12px;\n",
              "    }\n",
              "\n",
              "    .colab-df-convert {\n",
              "      background-color: #E8F0FE;\n",
              "      border: none;\n",
              "      border-radius: 50%;\n",
              "      cursor: pointer;\n",
              "      display: none;\n",
              "      fill: #1967D2;\n",
              "      height: 32px;\n",
              "      padding: 0 0 0 0;\n",
              "      width: 32px;\n",
              "    }\n",
              "\n",
              "    .colab-df-convert:hover {\n",
              "      background-color: #E2EBFA;\n",
              "      box-shadow: 0px 1px 2px rgba(60, 64, 67, 0.3), 0px 1px 3px 1px rgba(60, 64, 67, 0.15);\n",
              "      fill: #174EA6;\n",
              "    }\n",
              "\n",
              "    [theme=dark] .colab-df-convert {\n",
              "      background-color: #3B4455;\n",
              "      fill: #D2E3FC;\n",
              "    }\n",
              "\n",
              "    [theme=dark] .colab-df-convert:hover {\n",
              "      background-color: #434B5C;\n",
              "      box-shadow: 0px 1px 3px 1px rgba(0, 0, 0, 0.15);\n",
              "      filter: drop-shadow(0px 1px 2px rgba(0, 0, 0, 0.3));\n",
              "      fill: #FFFFFF;\n",
              "    }\n",
              "  </style>\n",
              "\n",
              "      <script>\n",
              "        const buttonEl =\n",
              "          document.querySelector('#df-b0cd190a-5eb4-440b-a923-cf932acffa02 button.colab-df-convert');\n",
              "        buttonEl.style.display =\n",
              "          google.colab.kernel.accessAllowed ? 'block' : 'none';\n",
              "\n",
              "        async function convertToInteractive(key) {\n",
              "          const element = document.querySelector('#df-b0cd190a-5eb4-440b-a923-cf932acffa02');\n",
              "          const dataTable =\n",
              "            await google.colab.kernel.invokeFunction('convertToInteractive',\n",
              "                                                     [key], {});\n",
              "          if (!dataTable) return;\n",
              "\n",
              "          const docLinkHtml = 'Like what you see? Visit the ' +\n",
              "            '<a target=\"_blank\" href=https://colab.research.google.com/notebooks/data_table.ipynb>data table notebook</a>'\n",
              "            + ' to learn more about interactive tables.';\n",
              "          element.innerHTML = '';\n",
              "          dataTable['output_type'] = 'display_data';\n",
              "          await google.colab.output.renderOutput(dataTable, element);\n",
              "          const docLink = document.createElement('div');\n",
              "          docLink.innerHTML = docLinkHtml;\n",
              "          element.appendChild(docLink);\n",
              "        }\n",
              "      </script>\n",
              "    </div>\n",
              "  </div>\n",
              "  "
            ]
          },
          "metadata": {},
          "execution_count": 87
        }
      ]
    },
    {
      "cell_type": "markdown",
      "source": [
        "# Data Cleaning"
      ],
      "metadata": {
        "id": "vx6q_DqY7a4v"
      }
    },
    {
      "cell_type": "code",
      "source": [
        "import missingno as msno \n",
        "# Visualize missing values as a matrix \n",
        "msno.matrix(df_data,figsize=(12,6))"
      ],
      "metadata": {
        "colab": {
          "base_uri": "https://localhost:8080/",
          "height": 512
        },
        "id": "A7XYNPv_8tGt",
        "outputId": "65ee6f3d-df60-4666-de82-812fa9282cc6"
      },
      "execution_count": null,
      "outputs": [
        {
          "output_type": "execute_result",
          "data": {
            "text/plain": [
              "<matplotlib.axes._subplots.AxesSubplot at 0x7fca5dacdb90>"
            ]
          },
          "metadata": {},
          "execution_count": 107
        },
        {
          "output_type": "display_data",
          "data": {
            "text/plain": [
              "<Figure size 864x432 with 2 Axes>"
            ],
            "image/png": "[encoded data removed]"
          },
          "metadata": {}
        }
      ]
    },
    {
      "cell_type": "code",
      "source": [
        "df_data['DateDied'].fillna(df_data['DateDied'].mode()[0], inplace = True)"
      ],
      "metadata": {
        "colab": {
          "base_uri": "https://localhost:8080/"
        },
        "id": "V1VxPiuLzIGl",
        "outputId": "9c62669b-5d7c-4d41-8668-dba479a62535"
      },
      "execution_count": null,
      "outputs": [
        {
          "output_type": "stream",
          "name": "stderr",
          "text": [
            "/usr/local/lib/python3.7/dist-packages/pandas/core/generic.py:6392: SettingWithCopyWarning: \n",
            "A value is trying to be set on a copy of a slice from a DataFrame\n",
            "\n",
            "See the caveats in the documentation: https://pandas.pydata.org/pandas-docs/stable/user_guide/indexing.html#returning-a-view-versus-a-copy\n",
            "  return self._update_inplace(result)\n"
          ]
        }
      ]
    },
    {
      "cell_type": "code",
      "source": [
        "df_data['DateRecover'].fillna(df_data['DateRecover'].mode()[0], inplace = True)"
      ],
      "metadata": {
        "colab": {
          "base_uri": "https://localhost:8080/"
        },
        "id": "a80Csy5bzVq4",
        "outputId": "683f05fc-e1c1-4a4b-d63f-4ec04e6de156"
      },
      "execution_count": null,
      "outputs": [
        {
          "output_type": "stream",
          "name": "stderr",
          "text": [
            "/usr/local/lib/python3.7/dist-packages/pandas/core/generic.py:6392: SettingWithCopyWarning: \n",
            "A value is trying to be set on a copy of a slice from a DataFrame\n",
            "\n",
            "See the caveats in the documentation: https://pandas.pydata.org/pandas-docs/stable/user_guide/indexing.html#returning-a-view-versus-a-copy\n",
            "  return self._update_inplace(result)\n"
          ]
        }
      ]
    },
    {
      "cell_type": "code",
      "source": [
        "df_data['RemovalType'].fillna(df_data['RemovalType'].mode()[0], inplace = True)"
      ],
      "metadata": {
        "colab": {
          "base_uri": "https://localhost:8080/"
        },
        "id": "MbccoWUizcu0",
        "outputId": "afd9309d-5ef0-40fc-af2d-b5dfdd65d345"
      },
      "execution_count": null,
      "outputs": [
        {
          "output_type": "stream",
          "name": "stderr",
          "text": [
            "/usr/local/lib/python3.7/dist-packages/pandas/core/generic.py:6392: SettingWithCopyWarning: \n",
            "A value is trying to be set on a copy of a slice from a DataFrame\n",
            "\n",
            "See the caveats in the documentation: https://pandas.pydata.org/pandas-docs/stable/user_guide/indexing.html#returning-a-view-versus-a-copy\n",
            "  return self._update_inplace(result)\n"
          ]
        }
      ]
    },
    {
      "cell_type": "code",
      "source": [
        "df_data['Admitted'].fillna(df_data['Admitted'].mode()[0], inplace = True)"
      ],
      "metadata": {
        "colab": {
          "base_uri": "https://localhost:8080/"
        },
        "id": "nm1VrhevzjtE",
        "outputId": "ccaef85b-0d23-4258-923f-2a707d82e080"
      },
      "execution_count": null,
      "outputs": [
        {
          "output_type": "stream",
          "name": "stderr",
          "text": [
            "/usr/local/lib/python3.7/dist-packages/pandas/core/generic.py:6392: SettingWithCopyWarning: \n",
            "A value is trying to be set on a copy of a slice from a DataFrame\n",
            "\n",
            "See the caveats in the documentation: https://pandas.pydata.org/pandas-docs/stable/user_guide/indexing.html#returning-a-view-versus-a-copy\n",
            "  return self._update_inplace(result)\n"
          ]
        }
      ]
    },
    {
      "cell_type": "code",
      "source": [
        "df_data['Pregnanttab'].fillna(df_data['Pregnanttab'].mode()[0], inplace = True)"
      ],
      "metadata": {
        "colab": {
          "base_uri": "https://localhost:8080/"
        },
        "id": "Lxq1znYTz-JH",
        "outputId": "261bb873-ec85-4281-ace8-d8e1dd4c2e1a"
      },
      "execution_count": null,
      "outputs": [
        {
          "output_type": "stream",
          "name": "stderr",
          "text": [
            "/usr/local/lib/python3.7/dist-packages/pandas/core/generic.py:6392: SettingWithCopyWarning: \n",
            "A value is trying to be set on a copy of a slice from a DataFrame\n",
            "\n",
            "See the caveats in the documentation: https://pandas.pydata.org/pandas-docs/stable/user_guide/indexing.html#returning-a-view-versus-a-copy\n",
            "  return self._update_inplace(result)\n"
          ]
        }
      ]
    },
    {
      "cell_type": "code",
      "source": [
        "df_data['ValidationStatus'].fillna(df_data['ValidationStatus'].mode()[0], inplace = True)"
      ],
      "metadata": {
        "colab": {
          "base_uri": "https://localhost:8080/"
        },
        "id": "O3an-ZO10RpW",
        "outputId": "23c909d5-627a-4545-b395-f1ff23c5b8f9"
      },
      "execution_count": null,
      "outputs": [
        {
          "output_type": "stream",
          "name": "stderr",
          "text": [
            "/usr/local/lib/python3.7/dist-packages/pandas/core/generic.py:6392: SettingWithCopyWarning: \n",
            "A value is trying to be set on a copy of a slice from a DataFrame\n",
            "\n",
            "See the caveats in the documentation: https://pandas.pydata.org/pandas-docs/stable/user_guide/indexing.html#returning-a-view-versus-a-copy\n",
            "  return self._update_inplace(result)\n"
          ]
        }
      ]
    },
    {
      "cell_type": "markdown",
      "source": [
        "# Data Exploration"
      ],
      "metadata": {
        "id": "IWQ69mmx7fk2"
      }
    },
    {
      "cell_type": "code",
      "source": [
        "# get column names\n",
        "column_names = df.columns\n",
        "\n",
        "# for each attributes (columns), print value counts\n",
        "for column_name in  column_names:\n",
        "    print(df_data[column_name].value_counts())"
      ],
      "metadata": {
        "colab": {
          "base_uri": "https://localhost:8080/"
        },
        "id": "S7HMZEj99f7P",
        "outputId": "0e8f4f77-10e2-44ad-cb2a-8d34742a5b77"
      },
      "execution_count": null,
      "outputs": [
        {
          "output_type": "stream",
          "name": "stdout",
          "text": [
            "C1262675     1\n",
            "C29672748    1\n",
            "C2056465     1\n",
            "C41128450    1\n",
            "C2058677     1\n",
            "            ..\n",
            "C51967088    1\n",
            "C88941958    1\n",
            "C23434471    1\n",
            "C74786991    1\n",
            "C18439871    1\n",
            "Name: CaseCode, Length: 1563, dtype: int64\n",
            "23.0    54\n",
            "24.0    43\n",
            "30.0    43\n",
            "25.0    41\n",
            "27.0    40\n",
            "        ..\n",
            "97.0     2\n",
            "95.0     2\n",
            "94.0     1\n",
            "91.0     1\n",
            "88.0     1\n",
            "Name: Age, Length: 95, dtype: int64\n",
            "25 to 29    185\n",
            "20 to 24    181\n",
            "30 to 34    166\n",
            "35 to 39    119\n",
            "40 to 44    118\n",
            "45 to 49    103\n",
            "50 to 54     95\n",
            "55 to 59     85\n",
            "60 to 64     77\n",
            "15 to 19     73\n",
            "10 to 14     64\n",
            "0 to 4       63\n",
            "5 to 9       53\n",
            "80+          49\n",
            "65 to 69     49\n",
            "70 to 74     44\n",
            "75 to 79     39\n",
            "Name: AgeGroup, dtype: int64\n",
            "FEMALE    838\n",
            "MALE      725\n",
            "Name: Sex, dtype: int64\n",
            "2022-01-18    263\n",
            "2022-01-11    207\n",
            "2022-01-13    194\n",
            "2022-01-14    139\n",
            "2022-01-17    130\n",
            "2022-01-10    116\n",
            "2022-01-15    108\n",
            "2022-01-19    104\n",
            "2022-01-12     95\n",
            "2022-01-16     77\n",
            "2022-01-09     54\n",
            "2022-01-08     33\n",
            "2022-01-07     22\n",
            "2022-01-20      8\n",
            "2021-06-08      1\n",
            "2022-01-05      1\n",
            "2022-01-04      1\n",
            "2022-01-03      1\n",
            "2021-04-17      1\n",
            "Name: DateSpecimen, dtype: int64\n",
            "2022-01-14    205\n",
            "2022-01-20    188\n",
            "2022-01-16    180\n",
            "2022-01-19    172\n",
            "2022-01-13    145\n",
            "2022-01-18    121\n",
            "2022-01-15    119\n",
            "2022-01-12     98\n",
            "2022-01-21     79\n",
            "2022-01-11     74\n",
            "2022-01-17     71\n",
            "2022-01-09     50\n",
            "2022-01-10     33\n",
            "2022-01-08     15\n",
            "2022-01-07      2\n",
            "2021-04-19      1\n",
            "2021-06-09      1\n",
            "Name: DateResultRelease, dtype: int64\n",
            "2022-01-22    246\n",
            "2022-01-21    211\n",
            "2022-01-15    206\n",
            "2022-01-17    199\n",
            "2022-01-16    129\n",
            "2022-01-14    113\n",
            "2022-01-19    101\n",
            "2022-01-20    100\n",
            "2022-01-18     94\n",
            "2022-01-13     70\n",
            "2022-01-12     62\n",
            "2022-01-11     32\n",
            "Name: DateRepConf, dtype: int64\n",
            "2022-01-07    1563\n",
            "Name: DateDied, dtype: int64\n",
            "2021-02-18    1563\n",
            "Name: DateRecover, dtype: int64\n",
            "RECOVERED    1562\n",
            "DIED            1\n",
            "Name: RemovalType, dtype: int64\n",
            "NO     1562\n",
            "YES       1\n",
            "Name: Admitted, dtype: int64\n",
            "Region I: Ilocos Region    1563\n",
            "Name: RegionRes, dtype: int64\n",
            "ILOCOS SUR    1563\n",
            "Name: ProvRes, dtype: int64\n",
            "CITY OF VIGAN (CAPITAL)            339\n",
            "BANTAY                             129\n",
            "CABUGAO                            124\n",
            "SINAIT                             106\n",
            "NARVACAN                           100\n",
            "CAOAYAN                             83\n",
            "CITY OF CANDON                      69\n",
            "TAGUDIN                             57\n",
            "SANTA MARIA                         55\n",
            "SAN VICENTE                         54\n",
            "SANTA                               46\n",
            "SANTA CATALINA                      44\n",
            "SANTA CRUZ                          40\n",
            "SANTIAGO                            40\n",
            "SAN ESTEBAN                         33\n",
            "SAN JUAN (LAPOG)                    32\n",
            "SANTO DOMINGO                       31\n",
            "SAN ILDEFONSO                       25\n",
            "MAGSINGAL                           25\n",
            "SALCEDO (BAUGEN)                    23\n",
            "NAGBUKEL                            17\n",
            "SANTA LUCIA                         16\n",
            "CERVANTES                           14\n",
            "SUYO                                13\n",
            "GALIMUYOD                           12\n",
            "QUIRINO (ANGKAKI)                    6\n",
            "BURGOS                               6\n",
            "BANAYOYO                             6\n",
            "LIDLIDDA                             5\n",
            "ALILEM                               3\n",
            "SIGAY                                3\n",
            "SUGPON                               2\n",
            "GREGORIO DEL PILAR (CONCEPCION)      2\n",
            "SAN EMILIO                           1\n",
            "Name: CityMunRes, dtype: int64\n",
            "PH012934000    339\n",
            "PH012903000    129\n",
            "PH012905000    124\n",
            "PH012930000    106\n",
            "PH012914000    100\n",
            "PH012907000     83\n",
            "PH012906000     69\n",
            "PH012933000     57\n",
            "PH012926000     55\n",
            "PH012921000     54\n",
            "PH012922000     46\n",
            "PH012923000     44\n",
            "PH012924000     40\n",
            "PH012927000     40\n",
            "PH012918000     33\n",
            "PH012920000     32\n",
            "PH012928000     31\n",
            "PH012919000     25\n",
            "PH012912000     25\n",
            "PH012916000     23\n",
            "PH012913000     17\n",
            "PH012925000     16\n",
            "PH012908000     14\n",
            "PH012932000     13\n",
            "PH012909000     12\n",
            "PH012915000      6\n",
            "PH012904000      6\n",
            "PH012902000      6\n",
            "PH012911000      5\n",
            "PH012901000      3\n",
            "PH012929000      3\n",
            "PH012931000      2\n",
            "PH012910000      2\n",
            "PH012917000      1\n",
            "Name: CityMuniPSGC, dtype: int64\n",
            "POBLACION           29\n",
            "SAN JULIAN SUR      27\n",
            "BALALENG            26\n",
            "BONIFACIO (POB.)    26\n",
            "RAOIS               23\n",
            "                    ..\n",
            "CUANTACLA            1\n",
            "FLORA                1\n",
            "MALAYA               1\n",
            "ZAPAT                1\n",
            "BARIKIR              1\n",
            "Name: BarangayRes, Length: 388, dtype: int64\n",
            "PH012934035    27\n",
            "PH012905006    26\n",
            "PH012903003    26\n",
            "PH012934030    23\n",
            "PH012934037    22\n",
            "               ..\n",
            "PH012906045     1\n",
            "PH012906008     1\n",
            "PH012912006     1\n",
            "PH012926007     1\n",
            "PH012930005     1\n",
            "Name: BarangayPSGC, Length: 424, dtype: int64\n",
            "MILD            1302\n",
            "RECOVERED        230\n",
            "ASYMPTOMATIC      29\n",
            "DIED               1\n",
            "MODERATE           1\n",
            "Name: HealthStatus, dtype: int64\n",
            "NO     1559\n",
            "YES       4\n",
            "Name: Quarantined, dtype: int64\n",
            "2022-01-07    44\n",
            "2022-01-16    39\n",
            "2022-01-09    35\n",
            "2022-01-15    35\n",
            "2022-01-08    34\n",
            "2022-01-12    33\n",
            "2022-01-10    30\n",
            "2022-01-14    30\n",
            "2022-01-11    29\n",
            "2022-01-06    22\n",
            "2022-01-13    21\n",
            "2022-01-17    15\n",
            "2022-01-18    10\n",
            "2022-01-05    10\n",
            "2022-01-02     8\n",
            "2022-01-04     6\n",
            "2022-01-03     4\n",
            "2021-12-26     2\n",
            "2021-04-06     1\n",
            "2021-12-23     1\n",
            "2021-11-30     1\n",
            "2022-01-01     1\n",
            "2021-12-31     1\n",
            "2021-12-29     1\n",
            "2021-12-24     1\n",
            "2021-06-02     1\n",
            "2020-03-28     1\n",
            "Name: DateOnset, dtype: int64\n",
            "NO    1563\n",
            "Name: Pregnanttab, dtype: int64\n",
            "Health Status is \"Recovered\", but no Date Recovered is recorded\\nRemoval Type is \"Recovered\", but no Recovered Date is recorded                                                                                                            1407\n",
            "Removal Type is \"Recovered\", but no Recovered Date is recorded\\nHealth Status is \"Recovered\", but no Date Recovered is recorded                                                                                                             105\n",
            "Age or Birthdate is Invalid                                                                                                                                                                                                                  22\n",
            "Case has Lab Result, but Result Date is blank                                                                                                                                                                                                 4\n",
            "Removal Type is \"Recovered\", but no Recovered Date is recorded\\nCase has Lab Result, but Result Date is blank\\nHealth Status is \"Recovered\", but no Date Recovered is recorded                                                                4\n",
            "Case has Lab Result, but Result Date is blank\\nRemoval Type is \"Recovered\", but no Recovered Date is recorded\\nHealth Status is \"Recovered\", but no Date Recovered is recorded                                                                2\n",
            "Health Status is \"Recovered\", but no Date Recovered is recorded\\nRemoval Type is \"Recovered\", but no Recovered Date is recorded\\nUnexpected change in Age                                                                                     2\n",
            "Removal Type is \"Recovered\", but no Recovered Date is recorded\\nHealth Status is \"Recovered\", but no Date Recovered is recorded\\nUnexpected change in Age                                                                                     2\n",
            "Unexpected change in Age\\nHealth Status is \"Recovered\", but no Date Recovered is recorded\\nRemoval Type is \"Recovered\", but no Recovered Date is recorded                                                                                     2\n",
            "Removal Type is \"Recovered\", but no Recovered Date is recorded\\nUnexpected change in Age\\nHealth Status is \"Recovered\", but no Date Recovered is recorded                                                                                     2\n",
            "Case has Lab Result, but Result Date is blank\\nUnexpected change in Age                                                                                                                                                                       1\n",
            "Unexpected change in Age                                                                                                                                                                                                                      1\n",
            "Age or Birthdate is Invalid\\nHealth Status is \"Recovered\", but no Date Recovered is recorded\\nRemoval Type is \"Recovered\", but no Recovered Date is recorded                                                                                  1\n",
            "Age or Birthdate is Invalid\\nRemoval Type is \"Recovered\", but no Recovered Date is recorded\\nHealth Status is \"Recovered\", but no Date Recovered is recorded                                                                                  1\n",
            "Health Status is \"Recovered\", but no Date Recovered is recorded\\nUnexpected change in Age\\nRemoval Type is \"Recovered\", but no Recovered Date is recorded                                                                                     1\n",
            "Health Status is \"Recovered\", but no Date Recovered is recorded\\nRemoval Type is \"Recovered\", but no Recovered Date is recorded\\nCase has Lab Result, but Result Date is blank                                                                1\n",
            "Age or Birthdate is Invalid\\nRemoval Type is \"Recovered\", but no Recovered Date is recorded\\nCase has Lab Result, but Result Date is blank\\nHealth Status is \"Recovered\", but no Date Recovered is recorded                                   1\n",
            "Health Status is \"Recovered\", but no Date Recovered is recorded\\nRemoval Type is \"Recovered\", but no Recovered Date is recorded\\nAge or Birthdate is Invalid                                                                                  1\n",
            "Removal Type is \"Recovered\", but no Recovered Date is recorded\\nHealth Status is \"Recovered\", but no Date Recovered is recorded\\nDate Specimen Collected is after Date Specimen Received\\nCase has Lab Result, but Result Date is blank       1\n",
            "Case had Date Admitted but is not Admitted (or vice versa)                                                                                                                                                                                    1\n",
            "Case has Admitting Facility but is not Admitted (or vice versa)\\nAge or Birthdate is Invalid                                                                                                                                                  1\n",
            "Name: ValidationStatus, dtype: int64\n"
          ]
        }
      ]
    },
    {
      "cell_type": "code",
      "source": [
        "per_sur_nonsur = (df_data[\"CityMunRes\"].value_counts()/df_data.shape[0]*100).round(2)\n",
        "per_sur_nonsur"
      ],
      "metadata": {
        "colab": {
          "base_uri": "https://localhost:8080/"
        },
        "id": "yDLsCoBxK7Bn",
        "outputId": "c4f06770-9ff3-4d3a-ad4c-5dcfc4fa22dc"
      },
      "execution_count": null,
      "outputs": [
        {
          "output_type": "execute_result",
          "data": {
            "text/plain": [
              "CITY OF VIGAN (CAPITAL)            21.69\n",
              "BANTAY                              8.25\n",
              "CABUGAO                             7.93\n",
              "SINAIT                              6.78\n",
              "NARVACAN                            6.40\n",
              "CAOAYAN                             5.31\n",
              "CITY OF CANDON                      4.41\n",
              "TAGUDIN                             3.65\n",
              "SANTA MARIA                         3.52\n",
              "SAN VICENTE                         3.45\n",
              "SANTA                               2.94\n",
              "SANTA CATALINA                      2.82\n",
              "SANTA CRUZ                          2.56\n",
              "SANTIAGO                            2.56\n",
              "SAN ESTEBAN                         2.11\n",
              "SAN JUAN (LAPOG)                    2.05\n",
              "SANTO DOMINGO                       1.98\n",
              "SAN ILDEFONSO                       1.60\n",
              "MAGSINGAL                           1.60\n",
              "SALCEDO (BAUGEN)                    1.47\n",
              "NAGBUKEL                            1.09\n",
              "SANTA LUCIA                         1.02\n",
              "CERVANTES                           0.90\n",
              "SUYO                                0.83\n",
              "GALIMUYOD                           0.77\n",
              "QUIRINO (ANGKAKI)                   0.38\n",
              "BURGOS                              0.38\n",
              "BANAYOYO                            0.38\n",
              "LIDLIDDA                            0.32\n",
              "ALILEM                              0.19\n",
              "SIGAY                               0.19\n",
              "SUGPON                              0.13\n",
              "GREGORIO DEL PILAR (CONCEPCION)     0.13\n",
              "SAN EMILIO                          0.06\n",
              "Name: CityMunRes, dtype: float64"
            ]
          },
          "metadata": {},
          "execution_count": 88
        }
      ]
    },
    {
      "cell_type": "code",
      "source": [
        "per_sur_nonsur = (df_data[\"age_bins\"].value_counts()/df_data.shape[0]*100).round(2)\n",
        "per_sur_nonsur"
      ],
      "metadata": {
        "colab": {
          "base_uri": "https://localhost:8080/"
        },
        "id": "WDur8EDv6pln",
        "outputId": "7af85b3d-4f43-4ee7-c873-f4817aed0ab5"
      },
      "execution_count": null,
      "outputs": [
        {
          "output_type": "execute_result",
          "data": {
            "text/plain": [
              "young         46.39\n",
              "middle_age    42.03\n",
              "old           11.58\n",
              "Name: age_bins, dtype: float64"
            ]
          },
          "metadata": {},
          "execution_count": 89
        }
      ]
    },
    {
      "cell_type": "code",
      "source": [
        "per_sur_nonsur = (df_data[\"HealthStatus\"].value_counts()/df_data.shape[0]*100).round(2)\n",
        "per_sur_nonsur"
      ],
      "metadata": {
        "colab": {
          "base_uri": "https://localhost:8080/"
        },
        "id": "Snjp_W9E8mDt",
        "outputId": "d789bd98-4325-429d-fcdf-8403f605294c"
      },
      "execution_count": null,
      "outputs": [
        {
          "output_type": "execute_result",
          "data": {
            "text/plain": [
              "MILD            83.30\n",
              "RECOVERED       14.72\n",
              "ASYMPTOMATIC     1.86\n",
              "DIED             0.06\n",
              "MODERATE         0.06\n",
              "Name: HealthStatus, dtype: float64"
            ]
          },
          "metadata": {},
          "execution_count": 90
        }
      ]
    },
    {
      "cell_type": "markdown",
      "source": [
        "# Profiling"
      ],
      "metadata": {
        "id": "yErmV1OyXbNb"
      }
    },
    {
      "cell_type": "code",
      "source": [
        "sns.countplot(data=df_data,x=\"HealthStatus\")"
      ],
      "metadata": {
        "colab": {
          "base_uri": "https://localhost:8080/",
          "height": 302
        },
        "id": "YNuBH8OQ3Nim",
        "outputId": "6b02c743-2b7e-4260-e195-82d0ac3d99c9"
      },
      "execution_count": null,
      "outputs": [
        {
          "output_type": "execute_result",
          "data": {
            "text/plain": [
              "<matplotlib.axes._subplots.AxesSubplot at 0x7fca6044f610>"
            ]
          },
          "metadata": {},
          "execution_count": 91
        },
        {
          "output_type": "display_data",
          "data": {
            "text/plain": [
              "<Figure size 432x288 with 1 Axes>"
            ],
            "image/png": "[encoded data removed]"
          },
          "metadata": {
            "needs_background": "light"
          }
        }
      ]
    },
    {
      "cell_type": "code",
      "source": [
        "sns.countplot(data=df_data,x=\"Sex\")"
      ],
      "metadata": {
        "colab": {
          "base_uri": "https://localhost:8080/",
          "height": 302
        },
        "id": "gZlC7ktp3nCJ",
        "outputId": "246f3c26-54a8-4099-80bf-b28388de52d7"
      },
      "execution_count": null,
      "outputs": [
        {
          "output_type": "execute_result",
          "data": {
            "text/plain": [
              "<matplotlib.axes._subplots.AxesSubplot at 0x7fca696dd110>"
            ]
          },
          "metadata": {},
          "execution_count": 92
        },
        {
          "output_type": "display_data",
          "data": {
            "text/plain": [
              "<Figure size 432x288 with 1 Axes>"
            ],
            "image/png": "[encoded data removed]"
          },
          "metadata": {
            "needs_background": "light"
          }
        }
      ]
    },
    {
      "cell_type": "code",
      "source": [
        "sns.catplot(x=\"Sex\",col=\"HealthStatus\",data=df_data, kind=\"count\",height=4, aspect=.7)"
      ],
      "metadata": {
        "colab": {
          "base_uri": "https://localhost:8080/",
          "height": 314
        },
        "id": "UoXO0Roo4Atq",
        "outputId": "6c59cfdd-9b6e-4de0-e22a-cc6bc291aacf"
      },
      "execution_count": null,
      "outputs": [
        {
          "output_type": "execute_result",
          "data": {
            "text/plain": [
              "<seaborn.axisgrid.FacetGrid at 0x7fca5e15abd0>"
            ]
          },
          "metadata": {},
          "execution_count": 93
        },
        {
          "output_type": "display_data",
          "data": {
            "text/plain": [
              "<Figure size 1008x288 with 5 Axes>"
            ],
            "image/png": "[encoded data removed]"
          },
          "metadata": {
            "needs_background": "light"
          }
        }
      ]
    },
    {
      "cell_type": "code",
      "source": [
        "sns.catplot(data=df_data,col = \"HealthStatus\",x = \"Sex\", hue=\"RemovalType\",kind = \"count\")"
      ],
      "metadata": {
        "colab": {
          "base_uri": "https://localhost:8080/",
          "height": 386
        },
        "id": "DWhJZn7S4AyO",
        "outputId": "4847625d-56d2-44f2-8bf1-b03283ddedda"
      },
      "execution_count": null,
      "outputs": [
        {
          "output_type": "execute_result",
          "data": {
            "text/plain": [
              "<seaborn.axisgrid.FacetGrid at 0x7fca60396ed0>"
            ]
          },
          "metadata": {},
          "execution_count": 94
        },
        {
          "output_type": "display_data",
          "data": {
            "text/plain": [
              "<Figure size 1907.85x360 with 5 Axes>"
            ],
            "image/png": "[encoded data removed]"
          },
          "metadata": {
            "needs_background": "light"
          }
        }
      ]
    },
    {
      "cell_type": "markdown",
      "source": [
        "# Age Count"
      ],
      "metadata": {
        "id": "ZMXXIuWmOnpa"
      }
    },
    {
      "cell_type": "code",
      "source": [
        "df_bins = df_data['age_bins'].value_counts().rename_axis('Age_Status').reset_index(name='count')\n",
        "df_bins.head()"
      ],
      "metadata": {
        "colab": {
          "base_uri": "https://localhost:8080/",
          "height": 144
        },
        "id": "0QfTg5SQCzmx",
        "outputId": "2e567ad4-a8c8-4855-bf63-675b4edd7935"
      },
      "execution_count": null,
      "outputs": [
        {
          "output_type": "execute_result",
          "data": {
            "text/plain": [
              "   Age_Status  count\n",
              "0       young    725\n",
              "1  middle_age    657\n",
              "2         old    181"
            ],
            "text/html": [
              "\n",
              "  <div id=\"df-b339855f-6b78-4bf5-b9b1-63cd4eed2e5d\">\n",
              "    <div class=\"colab-df-container\">\n",
              "      <div>\n",
              "<style scoped>\n",
              "    .dataframe tbody tr th:only-of-type {\n",
              "        vertical-align: middle;\n",
              "    }\n",
              "\n",
              "    .dataframe tbody tr th {\n",
              "        vertical-align: top;\n",
              "    }\n",
              "\n",
              "    .dataframe thead th {\n",
              "        text-align: right;\n",
              "    }\n",
              "</style>\n",
              "<table border=\"1\" class=\"dataframe\">\n",
              "  <thead>\n",
              "    <tr style=\"text-align: right;\">\n",
              "      <th></th>\n",
              "      <th>Age_Status</th>\n",
              "      <th>count</th>\n",
              "    </tr>\n",
              "  </thead>\n",
              "  <tbody>\n",
              "    <tr>\n",
              "      <th>0</th>\n",
              "      <td>young</td>\n",
              "      <td>725</td>\n",
              "    </tr>\n",
              "    <tr>\n",
              "      <th>1</th>\n",
              "      <td>middle_age</td>\n",
              "      <td>657</td>\n",
              "    </tr>\n",
              "    <tr>\n",
              "      <th>2</th>\n",
              "      <td>old</td>\n",
              "      <td>181</td>\n",
              "    </tr>\n",
              "  </tbody>\n",
              "</table>\n",
              "</div>\n",
              "      <button class=\"colab-df-convert\" onclick=\"convertToInteractive('df-b339855f-6b78-4bf5-b9b1-63cd4eed2e5d')\"\n",
              "              title=\"Convert this dataframe to an interactive table.\"\n",
              "              style=\"display:none;\">\n",
              "        \n",
              "  <svg xmlns=\"http://www.w3.org/2000/svg\" height=\"24px\"viewBox=\"0 0 24 24\"\n",
              "       width=\"24px\">\n",
              "    <path d=\"M0 0h24v24H0V0z\" fill=\"none\"/>\n",
              "    <path d=\"M18.56 5.44l.94 2.06.94-2.06 2.06-.94-2.06-.94-.94-2.06-.94 2.06-2.06.94zm-11 1L8.5 8.5l.94-2.06 2.06-.94-2.06-.94L8.5 2.5l-.94 2.06-2.06.94zm10 10l.94 2.06.94-2.06 2.06-.94-2.06-.94-.94-2.06-.94 2.06-2.06.94z\"/><path d=\"M17.41 7.96l-1.37-1.37c-.4-.4-.92-.59-1.43-.59-.52 0-1.04.2-1.43.59L10.3 9.45l-7.72 7.72c-.78.78-.78 2.05 0 2.83L4 21.41c.39.39.9.59 1.41.59.51 0 1.02-.2 1.41-.59l7.78-7.78 2.81-2.81c.8-.78.8-2.07 0-2.86zM5.41 20L4 18.59l7.72-7.72 1.47 1.35L5.41 20z\"/>\n",
              "  </svg>\n",
              "      </button>\n",
              "      \n",
              "  <style>\n",
              "    .colab-df-container {\n",
              "      display:flex;\n",
              "      flex-wrap:wrap;\n",
              "      gap: 12px;\n",
              "    }\n",
              "\n",
              "    .colab-df-convert {\n",
              "      background-color: #E8F0FE;\n",
              "      border: none;\n",
              "      border-radius: 50%;\n",
              "      cursor: pointer;\n",
              "      display: none;\n",
              "      fill: #1967D2;\n",
              "      height: 32px;\n",
              "      padding: 0 0 0 0;\n",
              "      width: 32px;\n",
              "    }\n",
              "\n",
              "    .colab-df-convert:hover {\n",
              "      background-color: #E2EBFA;\n",
              "      box-shadow: 0px 1px 2px rgba(60, 64, 67, 0.3), 0px 1px 3px 1px rgba(60, 64, 67, 0.15);\n",
              "      fill: #174EA6;\n",
              "    }\n",
              "\n",
              "    [theme=dark] .colab-df-convert {\n",
              "      background-color: #3B4455;\n",
              "      fill: #D2E3FC;\n",
              "    }\n",
              "\n",
              "    [theme=dark] .colab-df-convert:hover {\n",
              "      background-color: #434B5C;\n",
              "      box-shadow: 0px 1px 3px 1px rgba(0, 0, 0, 0.15);\n",
              "      filter: drop-shadow(0px 1px 2px rgba(0, 0, 0, 0.3));\n",
              "      fill: #FFFFFF;\n",
              "    }\n",
              "  </style>\n",
              "\n",
              "      <script>\n",
              "        const buttonEl =\n",
              "          document.querySelector('#df-b339855f-6b78-4bf5-b9b1-63cd4eed2e5d button.colab-df-convert');\n",
              "        buttonEl.style.display =\n",
              "          google.colab.kernel.accessAllowed ? 'block' : 'none';\n",
              "\n",
              "        async function convertToInteractive(key) {\n",
              "          const element = document.querySelector('#df-b339855f-6b78-4bf5-b9b1-63cd4eed2e5d');\n",
              "          const dataTable =\n",
              "            await google.colab.kernel.invokeFunction('convertToInteractive',\n",
              "                                                     [key], {});\n",
              "          if (!dataTable) return;\n",
              "\n",
              "          const docLinkHtml = 'Like what you see? Visit the ' +\n",
              "            '<a target=\"_blank\" href=https://colab.research.google.com/notebooks/data_table.ipynb>data table notebook</a>'\n",
              "            + ' to learn more about interactive tables.';\n",
              "          element.innerHTML = '';\n",
              "          dataTable['output_type'] = 'display_data';\n",
              "          await google.colab.output.renderOutput(dataTable, element);\n",
              "          const docLink = document.createElement('div');\n",
              "          docLink.innerHTML = docLinkHtml;\n",
              "          element.appendChild(docLink);\n",
              "        }\n",
              "      </script>\n",
              "    </div>\n",
              "  </div>\n",
              "  "
            ]
          },
          "metadata": {},
          "execution_count": 95
        }
      ]
    },
    {
      "cell_type": "code",
      "source": [
        "df_age = df_data[['age_bins']].groupby(df_data['age_bins']).count().nlargest(7,'age_bins')\n",
        "df_age"
      ],
      "metadata": {
        "colab": {
          "base_uri": "https://localhost:8080/",
          "height": 175
        },
        "id": "zgRqHY3Ibwj8",
        "outputId": "f68df32f-0400-40b1-a7ab-2c71dfd3a346"
      },
      "execution_count": null,
      "outputs": [
        {
          "output_type": "execute_result",
          "data": {
            "text/plain": [
              "            age_bins\n",
              "age_bins            \n",
              "young            725\n",
              "middle_age       657\n",
              "old              181"
            ],
            "text/html": [
              "\n",
              "  <div id=\"df-5a4ab232-2994-4fdf-bfce-53e5b92976ad\">\n",
              "    <div class=\"colab-df-container\">\n",
              "      <div>\n",
              "<style scoped>\n",
              "    .dataframe tbody tr th:only-of-type {\n",
              "        vertical-align: middle;\n",
              "    }\n",
              "\n",
              "    .dataframe tbody tr th {\n",
              "        vertical-align: top;\n",
              "    }\n",
              "\n",
              "    .dataframe thead th {\n",
              "        text-align: right;\n",
              "    }\n",
              "</style>\n",
              "<table border=\"1\" class=\"dataframe\">\n",
              "  <thead>\n",
              "    <tr style=\"text-align: right;\">\n",
              "      <th></th>\n",
              "      <th>age_bins</th>\n",
              "    </tr>\n",
              "    <tr>\n",
              "      <th>age_bins</th>\n",
              "      <th></th>\n",
              "    </tr>\n",
              "  </thead>\n",
              "  <tbody>\n",
              "    <tr>\n",
              "      <th>young</th>\n",
              "      <td>725</td>\n",
              "    </tr>\n",
              "    <tr>\n",
              "      <th>middle_age</th>\n",
              "      <td>657</td>\n",
              "    </tr>\n",
              "    <tr>\n",
              "      <th>old</th>\n",
              "      <td>181</td>\n",
              "    </tr>\n",
              "  </tbody>\n",
              "</table>\n",
              "</div>\n",
              "      <button class=\"colab-df-convert\" onclick=\"convertToInteractive('df-5a4ab232-2994-4fdf-bfce-53e5b92976ad')\"\n",
              "              title=\"Convert this dataframe to an interactive table.\"\n",
              "              style=\"display:none;\">\n",
              "        \n",
              "  <svg xmlns=\"http://www.w3.org/2000/svg\" height=\"24px\"viewBox=\"0 0 24 24\"\n",
              "       width=\"24px\">\n",
              "    <path d=\"M0 0h24v24H0V0z\" fill=\"none\"/>\n",
              "    <path d=\"M18.56 5.44l.94 2.06.94-2.06 2.06-.94-2.06-.94-.94-2.06-.94 2.06-2.06.94zm-11 1L8.5 8.5l.94-2.06 2.06-.94-2.06-.94L8.5 2.5l-.94 2.06-2.06.94zm10 10l.94 2.06.94-2.06 2.06-.94-2.06-.94-.94-2.06-.94 2.06-2.06.94z\"/><path d=\"M17.41 7.96l-1.37-1.37c-.4-.4-.92-.59-1.43-.59-.52 0-1.04.2-1.43.59L10.3 9.45l-7.72 7.72c-.78.78-.78 2.05 0 2.83L4 21.41c.39.39.9.59 1.41.59.51 0 1.02-.2 1.41-.59l7.78-7.78 2.81-2.81c.8-.78.8-2.07 0-2.86zM5.41 20L4 18.59l7.72-7.72 1.47 1.35L5.41 20z\"/>\n",
              "  </svg>\n",
              "      </button>\n",
              "      \n",
              "  <style>\n",
              "    .colab-df-container {\n",
              "      display:flex;\n",
              "      flex-wrap:wrap;\n",
              "      gap: 12px;\n",
              "    }\n",
              "\n",
              "    .colab-df-convert {\n",
              "      background-color: #E8F0FE;\n",
              "      border: none;\n",
              "      border-radius: 50%;\n",
              "      cursor: pointer;\n",
              "      display: none;\n",
              "      fill: #1967D2;\n",
              "      height: 32px;\n",
              "      padding: 0 0 0 0;\n",
              "      width: 32px;\n",
              "    }\n",
              "\n",
              "    .colab-df-convert:hover {\n",
              "      background-color: #E2EBFA;\n",
              "      box-shadow: 0px 1px 2px rgba(60, 64, 67, 0.3), 0px 1px 3px 1px rgba(60, 64, 67, 0.15);\n",
              "      fill: #174EA6;\n",
              "    }\n",
              "\n",
              "    [theme=dark] .colab-df-convert {\n",
              "      background-color: #3B4455;\n",
              "      fill: #D2E3FC;\n",
              "    }\n",
              "\n",
              "    [theme=dark] .colab-df-convert:hover {\n",
              "      background-color: #434B5C;\n",
              "      box-shadow: 0px 1px 3px 1px rgba(0, 0, 0, 0.15);\n",
              "      filter: drop-shadow(0px 1px 2px rgba(0, 0, 0, 0.3));\n",
              "      fill: #FFFFFF;\n",
              "    }\n",
              "  </style>\n",
              "\n",
              "      <script>\n",
              "        const buttonEl =\n",
              "          document.querySelector('#df-5a4ab232-2994-4fdf-bfce-53e5b92976ad button.colab-df-convert');\n",
              "        buttonEl.style.display =\n",
              "          google.colab.kernel.accessAllowed ? 'block' : 'none';\n",
              "\n",
              "        async function convertToInteractive(key) {\n",
              "          const element = document.querySelector('#df-5a4ab232-2994-4fdf-bfce-53e5b92976ad');\n",
              "          const dataTable =\n",
              "            await google.colab.kernel.invokeFunction('convertToInteractive',\n",
              "                                                     [key], {});\n",
              "          if (!dataTable) return;\n",
              "\n",
              "          const docLinkHtml = 'Like what you see? Visit the ' +\n",
              "            '<a target=\"_blank\" href=https://colab.research.google.com/notebooks/data_table.ipynb>data table notebook</a>'\n",
              "            + ' to learn more about interactive tables.';\n",
              "          element.innerHTML = '';\n",
              "          dataTable['output_type'] = 'display_data';\n",
              "          await google.colab.output.renderOutput(dataTable, element);\n",
              "          const docLink = document.createElement('div');\n",
              "          docLink.innerHTML = docLinkHtml;\n",
              "          element.appendChild(docLink);\n",
              "        }\n",
              "      </script>\n",
              "    </div>\n",
              "  </div>\n",
              "  "
            ]
          },
          "metadata": {},
          "execution_count": 96
        }
      ]
    },
    {
      "cell_type": "code",
      "source": [
        "fig = plt.figure(figsize = (15,8))\n",
        "\n",
        "age_bins_plot = sns.countplot(df_data[df_data['age_bins'].isin(list(df_age.index))]['age_bins'],\n",
        "                             palette = 'bright',\n",
        "                             order = df_age.index)\n",
        "age_bins_plot.tick_params(labelsize=13)\n",
        "\n",
        "plt.title('Counts of most common age',fontdict = {'fontsize':10})\n",
        "plt.xlabel(None)\n",
        "plt.ylabel(None)\n",
        "plt.show()"
      ],
      "metadata": {
        "colab": {
          "base_uri": "https://localhost:8080/",
          "height": 556
        },
        "id": "NR-VMqF8CdI_",
        "outputId": "ad5b9c21-e351-4a97-9d47-a1d8115315e9"
      },
      "execution_count": null,
      "outputs": [
        {
          "output_type": "stream",
          "name": "stderr",
          "text": [
            "/usr/local/lib/python3.7/dist-packages/seaborn/_decorators.py:43: FutureWarning: Pass the following variable as a keyword arg: x. From version 0.12, the only valid positional argument will be `data`, and passing other arguments without an explicit keyword will result in an error or misinterpretation.\n",
            "  FutureWarning\n"
          ]
        },
        {
          "output_type": "display_data",
          "data": {
            "text/plain": [
              "<Figure size 1080x576 with 1 Axes>"
            ],
            "image/png": "[encoded data removed]"
          },
          "metadata": {
            "needs_background": "light"
          }
        }
      ]
    },
    {
      "cell_type": "code",
      "source": [
        "fig = plt.figure(figsize = (20,8))\n",
        "plt.style.use('ggplot')\n",
        "plt.title('age bins')\n",
        "explode = (0.1,0,0)\n",
        "pieplot = plt.pie(x = df_age['age_bins'],\n",
        "    labels = list(df_age.index),autopct='%.2f%%',explode=explode, shadow=True, startangle=90)\n",
        "\n",
        "plt.axis('equal')\n",
        "plt.legend(loc=\"upper left\")\n",
        "\n",
        "#circle=plt.Circle(xy=(0,0), radius=.75, facecolor='white')\n",
        "#plt.gca().add_artist(circle)\n",
        "plt.show()"
      ],
      "metadata": {
        "colab": {
          "base_uri": "https://localhost:8080/",
          "height": 482
        },
        "id": "46hqmvU9CdcQ",
        "outputId": "b6886cbc-9efc-4f19-b7d4-4243062405ef"
      },
      "execution_count": null,
      "outputs": [
        {
          "output_type": "display_data",
          "data": {
            "text/plain": [
              "<Figure size 1440x576 with 1 Axes>"
            ],
            "image/png": "[encoded data removed]"
          },
          "metadata": {}
        }
      ]
    },
    {
      "cell_type": "code",
      "source": [
        "age_info = df_data[df_data['Age'].notnull()][['Age']]\n",
        "\n",
        "#Dropping values of age = 0\n",
        "age_info_clean = age_info[age_info['Age'] != 0]\n",
        "\n",
        "age_info_clean.info()"
      ],
      "metadata": {
        "colab": {
          "base_uri": "https://localhost:8080/"
        },
        "id": "TLxxs9AIOcbo",
        "outputId": "3e1dc21b-c7f6-4562-97b1-295f6f2f7365"
      },
      "execution_count": null,
      "outputs": [
        {
          "output_type": "stream",
          "name": "stdout",
          "text": [
            "<class 'pandas.core.frame.DataFrame'>\n",
            "Int64Index: 1557 entries, 95 to 387323\n",
            "Data columns (total 1 columns):\n",
            " #   Column  Non-Null Count  Dtype  \n",
            "---  ------  --------------  -----  \n",
            " 0   Age     1557 non-null   float64\n",
            "dtypes: float64(1)\n",
            "memory usage: 24.3 KB\n"
          ]
        }
      ]
    },
    {
      "cell_type": "code",
      "source": [
        "fig = plt.figure(figsize = (20,8))\n",
        "Age_plot = sns.distplot(age_info_clean, bins = 30)\n",
        "Age_plot.tick_params(labelsize = 13)\n",
        "\n",
        "mean = age_info['Age'].mean()\n",
        "\n",
        "plt.xlabel('Age', fontdict = {'fontsize':15})\n",
        "plt.title('Age of disease-affected humans', fontdict = {'fontsize':15})\n",
        "plt.bold=True\n",
        "plt.axvline(mean,color = 'red')\n",
        "plt.show()"
      ],
      "metadata": {
        "colab": {
          "base_uri": "https://localhost:8080/",
          "height": 579
        },
        "id": "WRalnK6sOeiK",
        "outputId": "5ee68cb4-9af3-4ba4-d09c-2be884d653a8"
      },
      "execution_count": null,
      "outputs": [
        {
          "output_type": "stream",
          "name": "stderr",
          "text": [
            "/usr/local/lib/python3.7/dist-packages/seaborn/distributions.py:2619: FutureWarning: `distplot` is a deprecated function and will be removed in a future version. Please adapt your code to use either `displot` (a figure-level function with similar flexibility) or `histplot` (an axes-level function for histograms).\n",
            "  warnings.warn(msg, FutureWarning)\n"
          ]
        },
        {
          "output_type": "display_data",
          "data": {
            "text/plain": [
              "<Figure size 1440x576 with 1 Axes>"
            ],
            "image/png": "[encoded data removed]"
          },
          "metadata": {}
        }
      ]
    },
    {
      "cell_type": "code",
      "source": [
        ""
      ],
      "metadata": {
        "id": "l8FhqNv9qI48"
      },
      "execution_count": null,
      "outputs": []
    },
    {
      "cell_type": "markdown",
      "source": [
        "# City/Municipality Count"
      ],
      "metadata": {
        "id": "OGWuLD8iqLtD"
      }
    },
    {
      "cell_type": "code",
      "source": [
        "df_city = df_data[['CityMunRes']].groupby(df_data['CityMunRes']).count().nlargest(7,'CityMunRes')\n",
        "df_city"
      ],
      "metadata": {
        "colab": {
          "base_uri": "https://localhost:8080/",
          "height": 300
        },
        "id": "kaa-HKJqqVFC",
        "outputId": "b1b74533-4e70-4ead-a73f-0df23a4c75f3"
      },
      "execution_count": null,
      "outputs": [
        {
          "output_type": "execute_result",
          "data": {
            "text/plain": [
              "                         CityMunRes\n",
              "CityMunRes                         \n",
              "CITY OF VIGAN (CAPITAL)         339\n",
              "BANTAY                          129\n",
              "CABUGAO                         124\n",
              "SINAIT                          106\n",
              "NARVACAN                        100\n",
              "CAOAYAN                          83\n",
              "CITY OF CANDON                   69"
            ],
            "text/html": [
              "\n",
              "  <div id=\"df-a33df297-5621-443b-9c1d-4c9921f69fef\">\n",
              "    <div class=\"colab-df-container\">\n",
              "      <div>\n",
              "<style scoped>\n",
              "    .dataframe tbody tr th:only-of-type {\n",
              "        vertical-align: middle;\n",
              "    }\n",
              "\n",
              "    .dataframe tbody tr th {\n",
              "        vertical-align: top;\n",
              "    }\n",
              "\n",
              "    .dataframe thead th {\n",
              "        text-align: right;\n",
              "    }\n",
              "</style>\n",
              "<table border=\"1\" class=\"dataframe\">\n",
              "  <thead>\n",
              "    <tr style=\"text-align: right;\">\n",
              "      <th></th>\n",
              "      <th>CityMunRes</th>\n",
              "    </tr>\n",
              "    <tr>\n",
              "      <th>CityMunRes</th>\n",
              "      <th></th>\n",
              "    </tr>\n",
              "  </thead>\n",
              "  <tbody>\n",
              "    <tr>\n",
              "      <th>CITY OF VIGAN (CAPITAL)</th>\n",
              "      <td>339</td>\n",
              "    </tr>\n",
              "    <tr>\n",
              "      <th>BANTAY</th>\n",
              "      <td>129</td>\n",
              "    </tr>\n",
              "    <tr>\n",
              "      <th>CABUGAO</th>\n",
              "      <td>124</td>\n",
              "    </tr>\n",
              "    <tr>\n",
              "      <th>SINAIT</th>\n",
              "      <td>106</td>\n",
              "    </tr>\n",
              "    <tr>\n",
              "      <th>NARVACAN</th>\n",
              "      <td>100</td>\n",
              "    </tr>\n",
              "    <tr>\n",
              "      <th>CAOAYAN</th>\n",
              "      <td>83</td>\n",
              "    </tr>\n",
              "    <tr>\n",
              "      <th>CITY OF CANDON</th>\n",
              "      <td>69</td>\n",
              "    </tr>\n",
              "  </tbody>\n",
              "</table>\n",
              "</div>\n",
              "      <button class=\"colab-df-convert\" onclick=\"convertToInteractive('df-a33df297-5621-443b-9c1d-4c9921f69fef')\"\n",
              "              title=\"Convert this dataframe to an interactive table.\"\n",
              "              style=\"display:none;\">\n",
              "        \n",
              "  <svg xmlns=\"http://www.w3.org/2000/svg\" height=\"24px\"viewBox=\"0 0 24 24\"\n",
              "       width=\"24px\">\n",
              "    <path d=\"M0 0h24v24H0V0z\" fill=\"none\"/>\n",
              "    <path d=\"M18.56 5.44l.94 2.06.94-2.06 2.06-.94-2.06-.94-.94-2.06-.94 2.06-2.06.94zm-11 1L8.5 8.5l.94-2.06 2.06-.94-2.06-.94L8.5 2.5l-.94 2.06-2.06.94zm10 10l.94 2.06.94-2.06 2.06-.94-2.06-.94-.94-2.06-.94 2.06-2.06.94z\"/><path d=\"M17.41 7.96l-1.37-1.37c-.4-.4-.92-.59-1.43-.59-.52 0-1.04.2-1.43.59L10.3 9.45l-7.72 7.72c-.78.78-.78 2.05 0 2.83L4 21.41c.39.39.9.59 1.41.59.51 0 1.02-.2 1.41-.59l7.78-7.78 2.81-2.81c.8-.78.8-2.07 0-2.86zM5.41 20L4 18.59l7.72-7.72 1.47 1.35L5.41 20z\"/>\n",
              "  </svg>\n",
              "      </button>\n",
              "      \n",
              "  <style>\n",
              "    .colab-df-container {\n",
              "      display:flex;\n",
              "      flex-wrap:wrap;\n",
              "      gap: 12px;\n",
              "    }\n",
              "\n",
              "    .colab-df-convert {\n",
              "      background-color: #E8F0FE;\n",
              "      border: none;\n",
              "      border-radius: 50%;\n",
              "      cursor: pointer;\n",
              "      display: none;\n",
              "      fill: #1967D2;\n",
              "      height: 32px;\n",
              "      padding: 0 0 0 0;\n",
              "      width: 32px;\n",
              "    }\n",
              "\n",
              "    .colab-df-convert:hover {\n",
              "      background-color: #E2EBFA;\n",
              "      box-shadow: 0px 1px 2px rgba(60, 64, 67, 0.3), 0px 1px 3px 1px rgba(60, 64, 67, 0.15);\n",
              "      fill: #174EA6;\n",
              "    }\n",
              "\n",
              "    [theme=dark] .colab-df-convert {\n",
              "      background-color: #3B4455;\n",
              "      fill: #D2E3FC;\n",
              "    }\n",
              "\n",
              "    [theme=dark] .colab-df-convert:hover {\n",
              "      background-color: #434B5C;\n",
              "      box-shadow: 0px 1px 3px 1px rgba(0, 0, 0, 0.15);\n",
              "      filter: drop-shadow(0px 1px 2px rgba(0, 0, 0, 0.3));\n",
              "      fill: #FFFFFF;\n",
              "    }\n",
              "  </style>\n",
              "\n",
              "      <script>\n",
              "        const buttonEl =\n",
              "          document.querySelector('#df-a33df297-5621-443b-9c1d-4c9921f69fef button.colab-df-convert');\n",
              "        buttonEl.style.display =\n",
              "          google.colab.kernel.accessAllowed ? 'block' : 'none';\n",
              "\n",
              "        async function convertToInteractive(key) {\n",
              "          const element = document.querySelector('#df-a33df297-5621-443b-9c1d-4c9921f69fef');\n",
              "          const dataTable =\n",
              "            await google.colab.kernel.invokeFunction('convertToInteractive',\n",
              "                                                     [key], {});\n",
              "          if (!dataTable) return;\n",
              "\n",
              "          const docLinkHtml = 'Like what you see? Visit the ' +\n",
              "            '<a target=\"_blank\" href=https://colab.research.google.com/notebooks/data_table.ipynb>data table notebook</a>'\n",
              "            + ' to learn more about interactive tables.';\n",
              "          element.innerHTML = '';\n",
              "          dataTable['output_type'] = 'display_data';\n",
              "          await google.colab.output.renderOutput(dataTable, element);\n",
              "          const docLink = document.createElement('div');\n",
              "          docLink.innerHTML = docLinkHtml;\n",
              "          element.appendChild(docLink);\n",
              "        }\n",
              "      </script>\n",
              "    </div>\n",
              "  </div>\n",
              "  "
            ]
          },
          "metadata": {},
          "execution_count": 101
        }
      ]
    },
    {
      "cell_type": "code",
      "source": [
        "fig = plt.figure(figsize = (15,8))\n",
        "\n",
        "CityMunRes_plot = sns.countplot(df_data[df_data['CityMunRes'].isin(list(df_city.index))]['CityMunRes'],\n",
        "                             palette = 'bright',\n",
        "                             order = df_city.index)\n",
        "CityMunRes_plot.tick_params(labelsize=13)\n",
        "\n",
        "plt.title('Counts of most common health status',fontdict = {'fontsize':10})\n",
        "plt.xlabel(None)\n",
        "plt.ylabel(None)\n",
        "plt.show()"
      ],
      "metadata": {
        "id": "pCZaUf_Cqc9B",
        "outputId": "b949068a-6991-4d48-e6db-83b788966bca",
        "colab": {
          "base_uri": "https://localhost:8080/",
          "height": 556
        }
      },
      "execution_count": null,
      "outputs": [
        {
          "output_type": "stream",
          "name": "stderr",
          "text": [
            "/usr/local/lib/python3.7/dist-packages/seaborn/_decorators.py:43: FutureWarning: Pass the following variable as a keyword arg: x. From version 0.12, the only valid positional argument will be `data`, and passing other arguments without an explicit keyword will result in an error or misinterpretation.\n",
            "  FutureWarning\n"
          ]
        },
        {
          "output_type": "display_data",
          "data": {
            "text/plain": [
              "<Figure size 1080x576 with 1 Axes>"
            ],
            "image/png": "[encoded data removed]"
          },
          "metadata": {}
        }
      ]
    },
    {
      "cell_type": "code",
      "source": [
        "fig = plt.figure(figsize = (20,8))\n",
        "plt.style.use('ggplot')\n",
        "plt.title('higher city')\n",
        "explode = (0.1,0,0,0,0,0,0)\n",
        "pieplot = plt.pie(x = df_city['CityMunRes'],\n",
        "    labels = list(df_city.index),autopct='%.2f%%',explode=explode, shadow=True, startangle=90)\n",
        "\n",
        "plt.axis('equal')\n",
        "plt.legend(loc=\"upper left\")\n",
        "\n",
        "#circle=plt.Circle(xy=(0,0), radius=.75, facecolor='white')\n",
        "#plt.gca().add_artist(circle)\n",
        "plt.show()"
      ],
      "metadata": {
        "id": "NzMXyy20qdTX",
        "outputId": "60fde683-be0e-47d4-efd1-d3c7eff6b0d3",
        "colab": {
          "base_uri": "https://localhost:8080/",
          "height": 482
        }
      },
      "execution_count": null,
      "outputs": [
        {
          "output_type": "display_data",
          "data": {
            "text/plain": [
              "<Figure size 1440x576 with 1 Axes>"
            ],
            "image/png": "[encoded data removed]"
          },
          "metadata": {}
        }
      ]
    },
    {
      "cell_type": "code",
      "source": [
        ""
      ],
      "metadata": {
        "id": "Eu3jXKx5qdlM"
      },
      "execution_count": null,
      "outputs": []
    },
    {
      "cell_type": "code",
      "source": [
        ""
      ],
      "metadata": {
        "id": "39wuCY8cqd4S"
      },
      "execution_count": null,
      "outputs": []
    },
    {
      "cell_type": "markdown",
      "source": [
        "# Health Status"
      ],
      "metadata": {
        "id": "yTntBV46JULt"
      }
    },
    {
      "cell_type": "code",
      "source": [
        "df_health = df_data[['HealthStatus']].groupby(df_data['HealthStatus']).count().nlargest(7,'HealthStatus')\n",
        "df_health"
      ],
      "metadata": {
        "colab": {
          "base_uri": "https://localhost:8080/",
          "height": 237
        },
        "id": "Zzc0sOx0JL9h",
        "outputId": "d8c52c06-484f-4048-8d5e-59fa8742220a"
      },
      "execution_count": null,
      "outputs": [
        {
          "output_type": "execute_result",
          "data": {
            "text/plain": [
              "              HealthStatus\n",
              "HealthStatus              \n",
              "MILD                  1302\n",
              "RECOVERED              230\n",
              "ASYMPTOMATIC            29\n",
              "DIED                     1\n",
              "MODERATE                 1"
            ],
            "text/html": [
              "\n",
              "  <div id=\"df-0b857487-77c0-4302-b826-8ab688566f9b\">\n",
              "    <div class=\"colab-df-container\">\n",
              "      <div>\n",
              "<style scoped>\n",
              "    .dataframe tbody tr th:only-of-type {\n",
              "        vertical-align: middle;\n",
              "    }\n",
              "\n",
              "    .dataframe tbody tr th {\n",
              "        vertical-align: top;\n",
              "    }\n",
              "\n",
              "    .dataframe thead th {\n",
              "        text-align: right;\n",
              "    }\n",
              "</style>\n",
              "<table border=\"1\" class=\"dataframe\">\n",
              "  <thead>\n",
              "    <tr style=\"text-align: right;\">\n",
              "      <th></th>\n",
              "      <th>HealthStatus</th>\n",
              "    </tr>\n",
              "    <tr>\n",
              "      <th>HealthStatus</th>\n",
              "      <th></th>\n",
              "    </tr>\n",
              "  </thead>\n",
              "  <tbody>\n",
              "    <tr>\n",
              "      <th>MILD</th>\n",
              "      <td>1302</td>\n",
              "    </tr>\n",
              "    <tr>\n",
              "      <th>RECOVERED</th>\n",
              "      <td>230</td>\n",
              "    </tr>\n",
              "    <tr>\n",
              "      <th>ASYMPTOMATIC</th>\n",
              "      <td>29</td>\n",
              "    </tr>\n",
              "    <tr>\n",
              "      <th>DIED</th>\n",
              "      <td>1</td>\n",
              "    </tr>\n",
              "    <tr>\n",
              "      <th>MODERATE</th>\n",
              "      <td>1</td>\n",
              "    </tr>\n",
              "  </tbody>\n",
              "</table>\n",
              "</div>\n",
              "      <button class=\"colab-df-convert\" onclick=\"convertToInteractive('df-0b857487-77c0-4302-b826-8ab688566f9b')\"\n",
              "              title=\"Convert this dataframe to an interactive table.\"\n",
              "              style=\"display:none;\">\n",
              "        \n",
              "  <svg xmlns=\"http://www.w3.org/2000/svg\" height=\"24px\"viewBox=\"0 0 24 24\"\n",
              "       width=\"24px\">\n",
              "    <path d=\"M0 0h24v24H0V0z\" fill=\"none\"/>\n",
              "    <path d=\"M18.56 5.44l.94 2.06.94-2.06 2.06-.94-2.06-.94-.94-2.06-.94 2.06-2.06.94zm-11 1L8.5 8.5l.94-2.06 2.06-.94-2.06-.94L8.5 2.5l-.94 2.06-2.06.94zm10 10l.94 2.06.94-2.06 2.06-.94-2.06-.94-.94-2.06-.94 2.06-2.06.94z\"/><path d=\"M17.41 7.96l-1.37-1.37c-.4-.4-.92-.59-1.43-.59-.52 0-1.04.2-1.43.59L10.3 9.45l-7.72 7.72c-.78.78-.78 2.05 0 2.83L4 21.41c.39.39.9.59 1.41.59.51 0 1.02-.2 1.41-.59l7.78-7.78 2.81-2.81c.8-.78.8-2.07 0-2.86zM5.41 20L4 18.59l7.72-7.72 1.47 1.35L5.41 20z\"/>\n",
              "  </svg>\n",
              "      </button>\n",
              "      \n",
              "  <style>\n",
              "    .colab-df-container {\n",
              "      display:flex;\n",
              "      flex-wrap:wrap;\n",
              "      gap: 12px;\n",
              "    }\n",
              "\n",
              "    .colab-df-convert {\n",
              "      background-color: #E8F0FE;\n",
              "      border: none;\n",
              "      border-radius: 50%;\n",
              "      cursor: pointer;\n",
              "      display: none;\n",
              "      fill: #1967D2;\n",
              "      height: 32px;\n",
              "      padding: 0 0 0 0;\n",
              "      width: 32px;\n",
              "    }\n",
              "\n",
              "    .colab-df-convert:hover {\n",
              "      background-color: #E2EBFA;\n",
              "      box-shadow: 0px 1px 2px rgba(60, 64, 67, 0.3), 0px 1px 3px 1px rgba(60, 64, 67, 0.15);\n",
              "      fill: #174EA6;\n",
              "    }\n",
              "\n",
              "    [theme=dark] .colab-df-convert {\n",
              "      background-color: #3B4455;\n",
              "      fill: #D2E3FC;\n",
              "    }\n",
              "\n",
              "    [theme=dark] .colab-df-convert:hover {\n",
              "      background-color: #434B5C;\n",
              "      box-shadow: 0px 1px 3px 1px rgba(0, 0, 0, 0.15);\n",
              "      filter: drop-shadow(0px 1px 2px rgba(0, 0, 0, 0.3));\n",
              "      fill: #FFFFFF;\n",
              "    }\n",
              "  </style>\n",
              "\n",
              "      <script>\n",
              "        const buttonEl =\n",
              "          document.querySelector('#df-0b857487-77c0-4302-b826-8ab688566f9b button.colab-df-convert');\n",
              "        buttonEl.style.display =\n",
              "          google.colab.kernel.accessAllowed ? 'block' : 'none';\n",
              "\n",
              "        async function convertToInteractive(key) {\n",
              "          const element = document.querySelector('#df-0b857487-77c0-4302-b826-8ab688566f9b');\n",
              "          const dataTable =\n",
              "            await google.colab.kernel.invokeFunction('convertToInteractive',\n",
              "                                                     [key], {});\n",
              "          if (!dataTable) return;\n",
              "\n",
              "          const docLinkHtml = 'Like what you see? Visit the ' +\n",
              "            '<a target=\"_blank\" href=https://colab.research.google.com/notebooks/data_table.ipynb>data table notebook</a>'\n",
              "            + ' to learn more about interactive tables.';\n",
              "          element.innerHTML = '';\n",
              "          dataTable['output_type'] = 'display_data';\n",
              "          await google.colab.output.renderOutput(dataTable, element);\n",
              "          const docLink = document.createElement('div');\n",
              "          docLink.innerHTML = docLinkHtml;\n",
              "          element.appendChild(docLink);\n",
              "        }\n",
              "      </script>\n",
              "    </div>\n",
              "  </div>\n",
              "  "
            ]
          },
          "metadata": {},
          "execution_count": 104
        }
      ]
    },
    {
      "cell_type": "code",
      "source": [
        "fig = plt.figure(figsize = (20,8))\n",
        "\n",
        "HealthStatus_plot = sns.countplot(df_data[df_data['HealthStatus'].isin(list(df_health.index))]['HealthStatus'],\n",
        "                             palette = 'bright',\n",
        "                             order = df_health.index)\n",
        "HealthStatus_plot.tick_params(labelsize=13)\n",
        "\n",
        "plt.title('Counts of most common HealthStatus',fontdict = {'fontsize':25})\n",
        "plt.xlabel(None)\n",
        "plt.ylabel(None)\n",
        "plt.show()"
      ],
      "metadata": {
        "colab": {
          "base_uri": "https://localhost:8080/",
          "height": 567
        },
        "id": "rWgZ4YRsJqOr",
        "outputId": "fd81c492-8853-440f-e925-ae294dddc999"
      },
      "execution_count": null,
      "outputs": [
        {
          "output_type": "stream",
          "name": "stderr",
          "text": [
            "/usr/local/lib/python3.7/dist-packages/seaborn/_decorators.py:43: FutureWarning: Pass the following variable as a keyword arg: x. From version 0.12, the only valid positional argument will be `data`, and passing other arguments without an explicit keyword will result in an error or misinterpretation.\n",
            "  FutureWarning\n"
          ]
        },
        {
          "output_type": "display_data",
          "data": {
            "text/plain": [
              "<Figure size 1440x576 with 1 Axes>"
            ],
            "image/png": "[encoded data removed]"
          },
          "metadata": {}
        }
      ]
    },
    {
      "cell_type": "code",
      "source": [
        "fig = plt.figure(figsize = (10,10))\n",
        "#explode= (0.5,.0,0,0,0)\n",
        "pieplot = plt.pie(x = df_health['HealthStatus'],\n",
        "       labels = list(df_health.index), autopct='%.2f%%', startangle=(90))\n",
        "\n",
        "plt.axis('equal')\n",
        "plt.legend(loc=\"upper left\")\n",
        "circle=plt.Circle(xy=(0,0), radius=.50, facecolor='white')\n",
        "plt.gca().add_artist(circle)\n",
        "plt.show()\n",
        "plt.show()"
      ],
      "metadata": {
        "colab": {
          "base_uri": "https://localhost:8080/",
          "height": 585
        },
        "id": "BtNGeP_8Jqaf",
        "outputId": "abc591e1-3c26-4dae-d267-dac06f2596ef"
      },
      "execution_count": null,
      "outputs": [
        {
          "output_type": "display_data",
          "data": {
            "text/plain": [
              "<Figure size 720x720 with 1 Axes>"
            ],
            "image/png": "[encoded data removed]"
          },
          "metadata": {}
        }
      ]
    },
    {
      "cell_type": "code",
      "source": [
        ""
      ],
      "metadata": {
        "id": "TOxAol3TNa6P"
      },
      "execution_count": null,
      "outputs": []
    },
    {
      "cell_type": "code",
      "source": [
        "df_data['ValidationStatus'].describe()"
      ],
      "metadata": {
        "colab": {
          "base_uri": "https://localhost:8080/"
        },
        "id": "icay_06k-DAm",
        "outputId": "65fdcb1c-3d3e-4104-dacf-e8db2a501c39"
      },
      "execution_count": null,
      "outputs": [
        {
          "output_type": "execute_result",
          "data": {
            "text/plain": [
              "count                                                  1563\n",
              "unique                                                   21\n",
              "top       Health Status is \"Recovered\", but no Date Reco...\n",
              "freq                                                   1407\n",
              "Name: ValidationStatus, dtype: object"
            ]
          },
          "metadata": {},
          "execution_count": 115
        }
      ]
    },
    {
      "cell_type": "code",
      "source": [
        "df_data.describe(include='all')"
      ],
      "metadata": {
        "colab": {
          "base_uri": "https://localhost:8080/",
          "height": 484
        },
        "id": "Yn0ceToxEz7R",
        "outputId": "a9d9e335-8e80-4fb3-98b6-986752ec2518"
      },
      "execution_count": null,
      "outputs": [
        {
          "output_type": "execute_result",
          "data": {
            "text/plain": [
              "        CaseCode          Age  AgeGroup     Sex DateSpecimen  \\\n",
              "count       1563  1563.000000      1563    1563         1555   \n",
              "unique      1563          NaN        17       2           19   \n",
              "top     C1262675          NaN  25 to 29  FEMALE   2022-01-18   \n",
              "freq           1          NaN       185     838          263   \n",
              "mean         NaN    37.882278       NaN     NaN          NaN   \n",
              "std          NaN    20.344981       NaN     NaN          NaN   \n",
              "min          NaN     0.000000       NaN     NaN          NaN   \n",
              "25%          NaN    23.500000       NaN     NaN          NaN   \n",
              "50%          NaN    34.000000       NaN     NaN          NaN   \n",
              "75%          NaN    52.000000       NaN     NaN          NaN   \n",
              "max          NaN    97.000000       NaN     NaN          NaN   \n",
              "\n",
              "       DateResultRelease DateRepConf    DateDied DateRecover RemovalType  ...  \\\n",
              "count               1554        1563        1563        1563        1563  ...   \n",
              "unique                17          12           1           1           2  ...   \n",
              "top           2022-01-14  2022-01-22  2022-01-07  2021-02-18   RECOVERED  ...   \n",
              "freq                 205         246        1563        1563        1562  ...   \n",
              "mean                 NaN         NaN         NaN         NaN         NaN  ...   \n",
              "std                  NaN         NaN         NaN         NaN         NaN  ...   \n",
              "min                  NaN         NaN         NaN         NaN         NaN  ...   \n",
              "25%                  NaN         NaN         NaN         NaN         NaN  ...   \n",
              "50%                  NaN         NaN         NaN         NaN         NaN  ...   \n",
              "75%                  NaN         NaN         NaN         NaN         NaN  ...   \n",
              "max                  NaN         NaN         NaN         NaN         NaN  ...   \n",
              "\n",
              "                     CityMunRes CityMuniPSGC BarangayRes BarangayPSGC  \\\n",
              "count                      1561         1561        1553         1553   \n",
              "unique                       34           34         388          424   \n",
              "top     CITY OF VIGAN (CAPITAL)  PH012934000   POBLACION  PH012934035   \n",
              "freq                        339          339          29           27   \n",
              "mean                        NaN          NaN         NaN          NaN   \n",
              "std                         NaN          NaN         NaN          NaN   \n",
              "min                         NaN          NaN         NaN          NaN   \n",
              "25%                         NaN          NaN         NaN          NaN   \n",
              "50%                         NaN          NaN         NaN          NaN   \n",
              "75%                         NaN          NaN         NaN          NaN   \n",
              "max                         NaN          NaN         NaN          NaN   \n",
              "\n",
              "       HealthStatus Quarantined   DateOnset Pregnanttab  \\\n",
              "count          1563        1563         416        1563   \n",
              "unique            5           2          27           1   \n",
              "top            MILD          NO  2022-01-07          NO   \n",
              "freq           1302        1559          44        1563   \n",
              "mean            NaN         NaN         NaN         NaN   \n",
              "std             NaN         NaN         NaN         NaN   \n",
              "min             NaN         NaN         NaN         NaN   \n",
              "25%             NaN         NaN         NaN         NaN   \n",
              "50%             NaN         NaN         NaN         NaN   \n",
              "75%             NaN         NaN         NaN         NaN   \n",
              "max             NaN         NaN         NaN         NaN   \n",
              "\n",
              "                                         ValidationStatus age_bins  \n",
              "count                                                1563     1563  \n",
              "unique                                                 21        3  \n",
              "top     Health Status is \"Recovered\", but no Date Reco...    young  \n",
              "freq                                                 1407      725  \n",
              "mean                                                  NaN      NaN  \n",
              "std                                                   NaN      NaN  \n",
              "min                                                   NaN      NaN  \n",
              "25%                                                   NaN      NaN  \n",
              "50%                                                   NaN      NaN  \n",
              "75%                                                   NaN      NaN  \n",
              "max                                                   NaN      NaN  \n",
              "\n",
              "[11 rows x 23 columns]"
            ],
            "text/html": [
              "\n",
              "  <div id=\"df-52277c3a-f14b-4d27-8cf3-3360bb7b54b8\">\n",
              "    <div class=\"colab-df-container\">\n",
              "      <div>\n",
              "<style scoped>\n",
              "    .dataframe tbody tr th:only-of-type {\n",
              "        vertical-align: middle;\n",
              "    }\n",
              "\n",
              "    .dataframe tbody tr th {\n",
              "        vertical-align: top;\n",
              "    }\n",
              "\n",
              "    .dataframe thead th {\n",
              "        text-align: right;\n",
              "    }\n",
              "</style>\n",
              "<table border=\"1\" class=\"dataframe\">\n",
              "  <thead>\n",
              "    <tr style=\"text-align: right;\">\n",
              "      <th></th>\n",
              "      <th>CaseCode</th>\n",
              "      <th>Age</th>\n",
              "      <th>AgeGroup</th>\n",
              "      <th>Sex</th>\n",
              "      <th>DateSpecimen</th>\n",
              "      <th>DateResultRelease</th>\n",
              "      <th>DateRepConf</th>\n",
              "      <th>DateDied</th>\n",
              "      <th>DateRecover</th>\n",
              "      <th>RemovalType</th>\n",
              "      <th>...</th>\n",
              "      <th>CityMunRes</th>\n",
              "      <th>CityMuniPSGC</th>\n",
              "      <th>BarangayRes</th>\n",
              "      <th>BarangayPSGC</th>\n",
              "      <th>HealthStatus</th>\n",
              "      <th>Quarantined</th>\n",
              "      <th>DateOnset</th>\n",
              "      <th>Pregnanttab</th>\n",
              "      <th>ValidationStatus</th>\n",
              "      <th>age_bins</th>\n",
              "    </tr>\n",
              "  </thead>\n",
              "  <tbody>\n",
              "    <tr>\n",
              "      <th>count</th>\n",
              "      <td>1563</td>\n",
              "      <td>1563.000000</td>\n",
              "      <td>1563</td>\n",
              "      <td>1563</td>\n",
              "      <td>1555</td>\n",
              "      <td>1554</td>\n",
              "      <td>1563</td>\n",
              "      <td>1563</td>\n",
              "      <td>1563</td>\n",
              "      <td>1563</td>\n",
              "      <td>...</td>\n",
              "      <td>1561</td>\n",
              "      <td>1561</td>\n",
              "      <td>1553</td>\n",
              "      <td>1553</td>\n",
              "      <td>1563</td>\n",
              "      <td>1563</td>\n",
              "      <td>416</td>\n",
              "      <td>1563</td>\n",
              "      <td>1563</td>\n",
              "      <td>1563</td>\n",
              "    </tr>\n",
              "    <tr>\n",
              "      <th>unique</th>\n",
              "      <td>1563</td>\n",
              "      <td>NaN</td>\n",
              "      <td>17</td>\n",
              "      <td>2</td>\n",
              "      <td>19</td>\n",
              "      <td>17</td>\n",
              "      <td>12</td>\n",
              "      <td>1</td>\n",
              "      <td>1</td>\n",
              "      <td>2</td>\n",
              "      <td>...</td>\n",
              "      <td>34</td>\n",
              "      <td>34</td>\n",
              "      <td>388</td>\n",
              "      <td>424</td>\n",
              "      <td>5</td>\n",
              "      <td>2</td>\n",
              "      <td>27</td>\n",
              "      <td>1</td>\n",
              "      <td>21</td>\n",
              "      <td>3</td>\n",
              "    </tr>\n",
              "    <tr>\n",
              "      <th>top</th>\n",
              "      <td>C1262675</td>\n",
              "      <td>NaN</td>\n",
              "      <td>25 to 29</td>\n",
              "      <td>FEMALE</td>\n",
              "      <td>2022-01-18</td>\n",
              "      <td>2022-01-14</td>\n",
              "      <td>2022-01-22</td>\n",
              "      <td>2022-01-07</td>\n",
              "      <td>2021-02-18</td>\n",
              "      <td>RECOVERED</td>\n",
              "      <td>...</td>\n",
              "      <td>CITY OF VIGAN (CAPITAL)</td>\n",
              "      <td>PH012934000</td>\n",
              "      <td>POBLACION</td>\n",
              "      <td>PH012934035</td>\n",
              "      <td>MILD</td>\n",
              "      <td>NO</td>\n",
              "      <td>2022-01-07</td>\n",
              "      <td>NO</td>\n",
              "      <td>Health Status is \"Recovered\", but no Date Reco...</td>\n",
              "      <td>young</td>\n",
              "    </tr>\n",
              "    <tr>\n",
              "      <th>freq</th>\n",
              "      <td>1</td>\n",
              "      <td>NaN</td>\n",
              "      <td>185</td>\n",
              "      <td>838</td>\n",
              "      <td>263</td>\n",
              "      <td>205</td>\n",
              "      <td>246</td>\n",
              "      <td>1563</td>\n",
              "      <td>1563</td>\n",
              "      <td>1562</td>\n",
              "      <td>...</td>\n",
              "      <td>339</td>\n",
              "      <td>339</td>\n",
              "      <td>29</td>\n",
              "      <td>27</td>\n",
              "      <td>1302</td>\n",
              "      <td>1559</td>\n",
              "      <td>44</td>\n",
              "      <td>1563</td>\n",
              "      <td>1407</td>\n",
              "      <td>725</td>\n",
              "    </tr>\n",
              "    <tr>\n",
              "      <th>mean</th>\n",
              "      <td>NaN</td>\n",
              "      <td>37.882278</td>\n",
              "      <td>NaN</td>\n",
              "      <td>NaN</td>\n",
              "      <td>NaN</td>\n",
              "      <td>NaN</td>\n",
              "      <td>NaN</td>\n",
              "      <td>NaN</td>\n",
              "      <td>NaN</td>\n",
              "      <td>NaN</td>\n",
              "      <td>...</td>\n",
              "      <td>NaN</td>\n",
              "      <td>NaN</td>\n",
              "      <td>NaN</td>\n",
              "      <td>NaN</td>\n",
              "      <td>NaN</td>\n",
              "      <td>NaN</td>\n",
              "      <td>NaN</td>\n",
              "      <td>NaN</td>\n",
              "      <td>NaN</td>\n",
              "      <td>NaN</td>\n",
              "    </tr>\n",
              "    <tr>\n",
              "      <th>std</th>\n",
              "      <td>NaN</td>\n",
              "      <td>20.344981</td>\n",
              "      <td>NaN</td>\n",
              "      <td>NaN</td>\n",
              "      <td>NaN</td>\n",
              "      <td>NaN</td>\n",
              "      <td>NaN</td>\n",
              "      <td>NaN</td>\n",
              "      <td>NaN</td>\n",
              "      <td>NaN</td>\n",
              "      <td>...</td>\n",
              "      <td>NaN</td>\n",
              "      <td>NaN</td>\n",
              "      <td>NaN</td>\n",
              "      <td>NaN</td>\n",
              "      <td>NaN</td>\n",
              "      <td>NaN</td>\n",
              "      <td>NaN</td>\n",
              "      <td>NaN</td>\n",
              "      <td>NaN</td>\n",
              "      <td>NaN</td>\n",
              "    </tr>\n",
              "    <tr>\n",
              "      <th>min</th>\n",
              "      <td>NaN</td>\n",
              "      <td>0.000000</td>\n",
              "      <td>NaN</td>\n",
              "      <td>NaN</td>\n",
              "      <td>NaN</td>\n",
              "      <td>NaN</td>\n",
              "      <td>NaN</td>\n",
              "      <td>NaN</td>\n",
              "      <td>NaN</td>\n",
              "      <td>NaN</td>\n",
              "      <td>...</td>\n",
              "      <td>NaN</td>\n",
              "      <td>NaN</td>\n",
              "      <td>NaN</td>\n",
              "      <td>NaN</td>\n",
              "      <td>NaN</td>\n",
              "      <td>NaN</td>\n",
              "      <td>NaN</td>\n",
              "      <td>NaN</td>\n",
              "      <td>NaN</td>\n",
              "      <td>NaN</td>\n",
              "    </tr>\n",
              "    <tr>\n",
              "      <th>25%</th>\n",
              "      <td>NaN</td>\n",
              "      <td>23.500000</td>\n",
              "      <td>NaN</td>\n",
              "      <td>NaN</td>\n",
              "      <td>NaN</td>\n",
              "      <td>NaN</td>\n",
              "      <td>NaN</td>\n",
              "      <td>NaN</td>\n",
              "      <td>NaN</td>\n",
              "      <td>NaN</td>\n",
              "      <td>...</td>\n",
              "      <td>NaN</td>\n",
              "      <td>NaN</td>\n",
              "      <td>NaN</td>\n",
              "      <td>NaN</td>\n",
              "      <td>NaN</td>\n",
              "      <td>NaN</td>\n",
              "      <td>NaN</td>\n",
              "      <td>NaN</td>\n",
              "      <td>NaN</td>\n",
              "      <td>NaN</td>\n",
              "    </tr>\n",
              "    <tr>\n",
              "      <th>50%</th>\n",
              "      <td>NaN</td>\n",
              "      <td>34.000000</td>\n",
              "      <td>NaN</td>\n",
              "      <td>NaN</td>\n",
              "      <td>NaN</td>\n",
              "      <td>NaN</td>\n",
              "      <td>NaN</td>\n",
              "      <td>NaN</td>\n",
              "      <td>NaN</td>\n",
              "      <td>NaN</td>\n",
              "      <td>...</td>\n",
              "      <td>NaN</td>\n",
              "      <td>NaN</td>\n",
              "      <td>NaN</td>\n",
              "      <td>NaN</td>\n",
              "      <td>NaN</td>\n",
              "      <td>NaN</td>\n",
              "      <td>NaN</td>\n",
              "      <td>NaN</td>\n",
              "      <td>NaN</td>\n",
              "      <td>NaN</td>\n",
              "    </tr>\n",
              "    <tr>\n",
              "      <th>75%</th>\n",
              "      <td>NaN</td>\n",
              "      <td>52.000000</td>\n",
              "      <td>NaN</td>\n",
              "      <td>NaN</td>\n",
              "      <td>NaN</td>\n",
              "      <td>NaN</td>\n",
              "      <td>NaN</td>\n",
              "      <td>NaN</td>\n",
              "      <td>NaN</td>\n",
              "      <td>NaN</td>\n",
              "      <td>...</td>\n",
              "      <td>NaN</td>\n",
              "      <td>NaN</td>\n",
              "      <td>NaN</td>\n",
              "      <td>NaN</td>\n",
              "      <td>NaN</td>\n",
              "      <td>NaN</td>\n",
              "      <td>NaN</td>\n",
              "      <td>NaN</td>\n",
              "      <td>NaN</td>\n",
              "      <td>NaN</td>\n",
              "    </tr>\n",
              "    <tr>\n",
              "      <th>max</th>\n",
              "      <td>NaN</td>\n",
              "      <td>97.000000</td>\n",
              "      <td>NaN</td>\n",
              "      <td>NaN</td>\n",
              "      <td>NaN</td>\n",
              "      <td>NaN</td>\n",
              "      <td>NaN</td>\n",
              "      <td>NaN</td>\n",
              "      <td>NaN</td>\n",
              "      <td>NaN</td>\n",
              "      <td>...</td>\n",
              "      <td>NaN</td>\n",
              "      <td>NaN</td>\n",
              "      <td>NaN</td>\n",
              "      <td>NaN</td>\n",
              "      <td>NaN</td>\n",
              "      <td>NaN</td>\n",
              "      <td>NaN</td>\n",
              "      <td>NaN</td>\n",
              "      <td>NaN</td>\n",
              "      <td>NaN</td>\n",
              "    </tr>\n",
              "  </tbody>\n",
              "</table>\n",
              "<p>11 rows × 23 columns</p>\n",
              "</div>\n",
              "      <button class=\"colab-df-convert\" onclick=\"convertToInteractive('df-52277c3a-f14b-4d27-8cf3-3360bb7b54b8')\"\n",
              "              title=\"Convert this dataframe to an interactive table.\"\n",
              "              style=\"display:none;\">\n",
              "        \n",
              "  <svg xmlns=\"http://www.w3.org/2000/svg\" height=\"24px\"viewBox=\"0 0 24 24\"\n",
              "       width=\"24px\">\n",
              "    <path d=\"M0 0h24v24H0V0z\" fill=\"none\"/>\n",
              "    <path d=\"M18.56 5.44l.94 2.06.94-2.06 2.06-.94-2.06-.94-.94-2.06-.94 2.06-2.06.94zm-11 1L8.5 8.5l.94-2.06 2.06-.94-2.06-.94L8.5 2.5l-.94 2.06-2.06.94zm10 10l.94 2.06.94-2.06 2.06-.94-2.06-.94-.94-2.06-.94 2.06-2.06.94z\"/><path d=\"M17.41 7.96l-1.37-1.37c-.4-.4-.92-.59-1.43-.59-.52 0-1.04.2-1.43.59L10.3 9.45l-7.72 7.72c-.78.78-.78 2.05 0 2.83L4 21.41c.39.39.9.59 1.41.59.51 0 1.02-.2 1.41-.59l7.78-7.78 2.81-2.81c.8-.78.8-2.07 0-2.86zM5.41 20L4 18.59l7.72-7.72 1.47 1.35L5.41 20z\"/>\n",
              "  </svg>\n",
              "      </button>\n",
              "      \n",
              "  <style>\n",
              "    .colab-df-container {\n",
              "      display:flex;\n",
              "      flex-wrap:wrap;\n",
              "      gap: 12px;\n",
              "    }\n",
              "\n",
              "    .colab-df-convert {\n",
              "      background-color: #E8F0FE;\n",
              "      border: none;\n",
              "      border-radius: 50%;\n",
              "      cursor: pointer;\n",
              "      display: none;\n",
              "      fill: #1967D2;\n",
              "      height: 32px;\n",
              "      padding: 0 0 0 0;\n",
              "      width: 32px;\n",
              "    }\n",
              "\n",
              "    .colab-df-convert:hover {\n",
              "      background-color: #E2EBFA;\n",
              "      box-shadow: 0px 1px 2px rgba(60, 64, 67, 0.3), 0px 1px 3px 1px rgba(60, 64, 67, 0.15);\n",
              "      fill: #174EA6;\n",
              "    }\n",
              "\n",
              "    [theme=dark] .colab-df-convert {\n",
              "      background-color: #3B4455;\n",
              "      fill: #D2E3FC;\n",
              "    }\n",
              "\n",
              "    [theme=dark] .colab-df-convert:hover {\n",
              "      background-color: #434B5C;\n",
              "      box-shadow: 0px 1px 3px 1px rgba(0, 0, 0, 0.15);\n",
              "      filter: drop-shadow(0px 1px 2px rgba(0, 0, 0, 0.3));\n",
              "      fill: #FFFFFF;\n",
              "    }\n",
              "  </style>\n",
              "\n",
              "      <script>\n",
              "        const buttonEl =\n",
              "          document.querySelector('#df-52277c3a-f14b-4d27-8cf3-3360bb7b54b8 button.colab-df-convert');\n",
              "        buttonEl.style.display =\n",
              "          google.colab.kernel.accessAllowed ? 'block' : 'none';\n",
              "\n",
              "        async function convertToInteractive(key) {\n",
              "          const element = document.querySelector('#df-52277c3a-f14b-4d27-8cf3-3360bb7b54b8');\n",
              "          const dataTable =\n",
              "            await google.colab.kernel.invokeFunction('convertToInteractive',\n",
              "                                                     [key], {});\n",
              "          if (!dataTable) return;\n",
              "\n",
              "          const docLinkHtml = 'Like what you see? Visit the ' +\n",
              "            '<a target=\"_blank\" href=https://colab.research.google.com/notebooks/data_table.ipynb>data table notebook</a>'\n",
              "            + ' to learn more about interactive tables.';\n",
              "          element.innerHTML = '';\n",
              "          dataTable['output_type'] = 'display_data';\n",
              "          await google.colab.output.renderOutput(dataTable, element);\n",
              "          const docLink = document.createElement('div');\n",
              "          docLink.innerHTML = docLinkHtml;\n",
              "          element.appendChild(docLink);\n",
              "        }\n",
              "      </script>\n",
              "    </div>\n",
              "  </div>\n",
              "  "
            ]
          },
          "metadata": {},
          "execution_count": 116
        }
      ]
    },
    {
      "cell_type": "markdown",
      "source": [
        "# Feature Engineering"
      ],
      "metadata": {
        "id": "HXCgOkoS-cbd"
      }
    },
    {
      "cell_type": "code",
      "source": [
        "# determine the problem/task\n",
        "# classification task\n",
        "# determine the X and y\n",
        "X = df_data.drop(columns = 'CaseCode')\n",
        "y = df_data['CaseCode']"
      ],
      "metadata": {
        "id": "e2pYwIgC-fGP"
      },
      "execution_count": null,
      "outputs": []
    },
    {
      "cell_type": "code",
      "source": [
        "# determine the problem/task\n",
        "# classification task\n",
        "# determine the X and y\n",
        "X = df_data.drop(columns = 'age_bins')\n",
        "y = df_data['age_bins']"
      ],
      "metadata": {
        "id": "p52FOivCR-zI"
      },
      "execution_count": null,
      "outputs": []
    },
    {
      "cell_type": "code",
      "source": [
        "X.head()"
      ],
      "metadata": {
        "colab": {
          "base_uri": "https://localhost:8080/",
          "height": 366
        },
        "id": "UD3bBOPV-zam",
        "outputId": "867b200d-c6c5-4d0a-ea0a-06cc699ccae7"
      },
      "execution_count": null,
      "outputs": [
        {
          "output_type": "execute_result",
          "data": {
            "text/plain": [
              "       CaseCode   Age  AgeGroup     Sex DateSpecimen DateResultRelease  \\\n",
              "95     C1262675  26.0  25 to 29    MALE   2022-01-08        2022-01-10   \n",
              "198   C43874335  45.0  45 to 49  FEMALE   2022-01-07        2022-01-08   \n",
              "207   C40740561  37.0  35 to 39  FEMALE   2022-01-07        2022-01-08   \n",
              "974   C87078322  21.0  20 to 24  FEMALE   2022-01-09        2022-01-10   \n",
              "1464  C39174719  24.0  20 to 24  FEMALE   2022-01-03        2022-01-07   \n",
              "\n",
              "     DateRepConf    DateDied DateRecover RemovalType  ...     ProvRes  \\\n",
              "95    2022-01-11  2022-01-07  2021-02-18   RECOVERED  ...  ILOCOS SUR   \n",
              "198   2022-01-11  2022-01-07  2021-02-18   RECOVERED  ...  ILOCOS SUR   \n",
              "207   2022-01-11  2022-01-07  2021-02-18   RECOVERED  ...  ILOCOS SUR   \n",
              "974   2022-01-11  2022-01-07  2021-02-18   RECOVERED  ...  ILOCOS SUR   \n",
              "1464  2022-01-11  2022-01-07  2021-02-18   RECOVERED  ...  ILOCOS SUR   \n",
              "\n",
              "                   CityMunRes CityMuniPSGC        BarangayRes BarangayPSGC  \\\n",
              "95                  CERVANTES  PH012908000     COMILLAS NORTH  PH012908002   \n",
              "198   CITY OF VIGAN (CAPITAL)  PH012934000  BARANGAY V (POB.)  PH012934007   \n",
              "207   CITY OF VIGAN (CAPITAL)  PH012934000  BARANGAY V (POB.)  PH012934007   \n",
              "974                  NARVACAN  PH012914000          DINALAOAN  PH012914013   \n",
              "1464           CITY OF CANDON  PH012906000        CALONGBUYAN  PH012906017   \n",
              "\n",
              "     HealthStatus Quarantined   DateOnset Pregnanttab  \\\n",
              "95      RECOVERED          NO  2022-01-07          NO   \n",
              "198     RECOVERED          NO  2022-01-06          NO   \n",
              "207     RECOVERED          NO         NaN          NO   \n",
              "974     RECOVERED          NO         NaN          NO   \n",
              "1464    RECOVERED          NO         NaN          NO   \n",
              "\n",
              "                                       ValidationStatus  \n",
              "95    Removal Type is \"Recovered\", but no Recovered ...  \n",
              "198   Removal Type is \"Recovered\", but no Recovered ...  \n",
              "207   Health Status is \"Recovered\", but no Date Reco...  \n",
              "974   Health Status is \"Recovered\", but no Date Reco...  \n",
              "1464  Health Status is \"Recovered\", but no Date Reco...  \n",
              "\n",
              "[5 rows x 22 columns]"
            ],
            "text/html": [
              "\n",
              "  <div id=\"df-5521e361-3c0d-4d0e-be34-80fec28acc1b\">\n",
              "    <div class=\"colab-df-container\">\n",
              "      <div>\n",
              "<style scoped>\n",
              "    .dataframe tbody tr th:only-of-type {\n",
              "        vertical-align: middle;\n",
              "    }\n",
              "\n",
              "    .dataframe tbody tr th {\n",
              "        vertical-align: top;\n",
              "    }\n",
              "\n",
              "    .dataframe thead th {\n",
              "        text-align: right;\n",
              "    }\n",
              "</style>\n",
              "<table border=\"1\" class=\"dataframe\">\n",
              "  <thead>\n",
              "    <tr style=\"text-align: right;\">\n",
              "      <th></th>\n",
              "      <th>CaseCode</th>\n",
              "      <th>Age</th>\n",
              "      <th>AgeGroup</th>\n",
              "      <th>Sex</th>\n",
              "      <th>DateSpecimen</th>\n",
              "      <th>DateResultRelease</th>\n",
              "      <th>DateRepConf</th>\n",
              "      <th>DateDied</th>\n",
              "      <th>DateRecover</th>\n",
              "      <th>RemovalType</th>\n",
              "      <th>...</th>\n",
              "      <th>ProvRes</th>\n",
              "      <th>CityMunRes</th>\n",
              "      <th>CityMuniPSGC</th>\n",
              "      <th>BarangayRes</th>\n",
              "      <th>BarangayPSGC</th>\n",
              "      <th>HealthStatus</th>\n",
              "      <th>Quarantined</th>\n",
              "      <th>DateOnset</th>\n",
              "      <th>Pregnanttab</th>\n",
              "      <th>ValidationStatus</th>\n",
              "    </tr>\n",
              "  </thead>\n",
              "  <tbody>\n",
              "    <tr>\n",
              "      <th>95</th>\n",
              "      <td>C1262675</td>\n",
              "      <td>26.0</td>\n",
              "      <td>25 to 29</td>\n",
              "      <td>MALE</td>\n",
              "      <td>2022-01-08</td>\n",
              "      <td>2022-01-10</td>\n",
              "      <td>2022-01-11</td>\n",
              "      <td>2022-01-07</td>\n",
              "      <td>2021-02-18</td>\n",
              "      <td>RECOVERED</td>\n",
              "      <td>...</td>\n",
              "      <td>ILOCOS SUR</td>\n",
              "      <td>CERVANTES</td>\n",
              "      <td>PH012908000</td>\n",
              "      <td>COMILLAS NORTH</td>\n",
              "      <td>PH012908002</td>\n",
              "      <td>RECOVERED</td>\n",
              "      <td>NO</td>\n",
              "      <td>2022-01-07</td>\n",
              "      <td>NO</td>\n",
              "      <td>Removal Type is \"Recovered\", but no Recovered ...</td>\n",
              "    </tr>\n",
              "    <tr>\n",
              "      <th>198</th>\n",
              "      <td>C43874335</td>\n",
              "      <td>45.0</td>\n",
              "      <td>45 to 49</td>\n",
              "      <td>FEMALE</td>\n",
              "      <td>2022-01-07</td>\n",
              "      <td>2022-01-08</td>\n",
              "      <td>2022-01-11</td>\n",
              "      <td>2022-01-07</td>\n",
              "      <td>2021-02-18</td>\n",
              "      <td>RECOVERED</td>\n",
              "      <td>...</td>\n",
              "      <td>ILOCOS SUR</td>\n",
              "      <td>CITY OF VIGAN (CAPITAL)</td>\n",
              "      <td>PH012934000</td>\n",
              "      <td>BARANGAY V (POB.)</td>\n",
              "      <td>PH012934007</td>\n",
              "      <td>RECOVERED</td>\n",
              "      <td>NO</td>\n",
              "      <td>2022-01-06</td>\n",
              "      <td>NO</td>\n",
              "      <td>Removal Type is \"Recovered\", but no Recovered ...</td>\n",
              "    </tr>\n",
              "    <tr>\n",
              "      <th>207</th>\n",
              "      <td>C40740561</td>\n",
              "      <td>37.0</td>\n",
              "      <td>35 to 39</td>\n",
              "      <td>FEMALE</td>\n",
              "      <td>2022-01-07</td>\n",
              "      <td>2022-01-08</td>\n",
              "      <td>2022-01-11</td>\n",
              "      <td>2022-01-07</td>\n",
              "      <td>2021-02-18</td>\n",
              "      <td>RECOVERED</td>\n",
              "      <td>...</td>\n",
              "      <td>ILOCOS SUR</td>\n",
              "      <td>CITY OF VIGAN (CAPITAL)</td>\n",
              "      <td>PH012934000</td>\n",
              "      <td>BARANGAY V (POB.)</td>\n",
              "      <td>PH012934007</td>\n",
              "      <td>RECOVERED</td>\n",
              "      <td>NO</td>\n",
              "      <td>NaN</td>\n",
              "      <td>NO</td>\n",
              "      <td>Health Status is \"Recovered\", but no Date Reco...</td>\n",
              "    </tr>\n",
              "    <tr>\n",
              "      <th>974</th>\n",
              "      <td>C87078322</td>\n",
              "      <td>21.0</td>\n",
              "      <td>20 to 24</td>\n",
              "      <td>FEMALE</td>\n",
              "      <td>2022-01-09</td>\n",
              "      <td>2022-01-10</td>\n",
              "      <td>2022-01-11</td>\n",
              "      <td>2022-01-07</td>\n",
              "      <td>2021-02-18</td>\n",
              "      <td>RECOVERED</td>\n",
              "      <td>...</td>\n",
              "      <td>ILOCOS SUR</td>\n",
              "      <td>NARVACAN</td>\n",
              "      <td>PH012914000</td>\n",
              "      <td>DINALAOAN</td>\n",
              "      <td>PH012914013</td>\n",
              "      <td>RECOVERED</td>\n",
              "      <td>NO</td>\n",
              "      <td>NaN</td>\n",
              "      <td>NO</td>\n",
              "      <td>Health Status is \"Recovered\", but no Date Reco...</td>\n",
              "    </tr>\n",
              "    <tr>\n",
              "      <th>1464</th>\n",
              "      <td>C39174719</td>\n",
              "      <td>24.0</td>\n",
              "      <td>20 to 24</td>\n",
              "      <td>FEMALE</td>\n",
              "      <td>2022-01-03</td>\n",
              "      <td>2022-01-07</td>\n",
              "      <td>2022-01-11</td>\n",
              "      <td>2022-01-07</td>\n",
              "      <td>2021-02-18</td>\n",
              "      <td>RECOVERED</td>\n",
              "      <td>...</td>\n",
              "      <td>ILOCOS SUR</td>\n",
              "      <td>CITY OF CANDON</td>\n",
              "      <td>PH012906000</td>\n",
              "      <td>CALONGBUYAN</td>\n",
              "      <td>PH012906017</td>\n",
              "      <td>RECOVERED</td>\n",
              "      <td>NO</td>\n",
              "      <td>NaN</td>\n",
              "      <td>NO</td>\n",
              "      <td>Health Status is \"Recovered\", but no Date Reco...</td>\n",
              "    </tr>\n",
              "  </tbody>\n",
              "</table>\n",
              "<p>5 rows × 22 columns</p>\n",
              "</div>\n",
              "      <button class=\"colab-df-convert\" onclick=\"convertToInteractive('df-5521e361-3c0d-4d0e-be34-80fec28acc1b')\"\n",
              "              title=\"Convert this dataframe to an interactive table.\"\n",
              "              style=\"display:none;\">\n",
              "        \n",
              "  <svg xmlns=\"http://www.w3.org/2000/svg\" height=\"24px\"viewBox=\"0 0 24 24\"\n",
              "       width=\"24px\">\n",
              "    <path d=\"M0 0h24v24H0V0z\" fill=\"none\"/>\n",
              "    <path d=\"M18.56 5.44l.94 2.06.94-2.06 2.06-.94-2.06-.94-.94-2.06-.94 2.06-2.06.94zm-11 1L8.5 8.5l.94-2.06 2.06-.94-2.06-.94L8.5 2.5l-.94 2.06-2.06.94zm10 10l.94 2.06.94-2.06 2.06-.94-2.06-.94-.94-2.06-.94 2.06-2.06.94z\"/><path d=\"M17.41 7.96l-1.37-1.37c-.4-.4-.92-.59-1.43-.59-.52 0-1.04.2-1.43.59L10.3 9.45l-7.72 7.72c-.78.78-.78 2.05 0 2.83L4 21.41c.39.39.9.59 1.41.59.51 0 1.02-.2 1.41-.59l7.78-7.78 2.81-2.81c.8-.78.8-2.07 0-2.86zM5.41 20L4 18.59l7.72-7.72 1.47 1.35L5.41 20z\"/>\n",
              "  </svg>\n",
              "      </button>\n",
              "      \n",
              "  <style>\n",
              "    .colab-df-container {\n",
              "      display:flex;\n",
              "      flex-wrap:wrap;\n",
              "      gap: 12px;\n",
              "    }\n",
              "\n",
              "    .colab-df-convert {\n",
              "      background-color: #E8F0FE;\n",
              "      border: none;\n",
              "      border-radius: 50%;\n",
              "      cursor: pointer;\n",
              "      display: none;\n",
              "      fill: #1967D2;\n",
              "      height: 32px;\n",
              "      padding: 0 0 0 0;\n",
              "      width: 32px;\n",
              "    }\n",
              "\n",
              "    .colab-df-convert:hover {\n",
              "      background-color: #E2EBFA;\n",
              "      box-shadow: 0px 1px 2px rgba(60, 64, 67, 0.3), 0px 1px 3px 1px rgba(60, 64, 67, 0.15);\n",
              "      fill: #174EA6;\n",
              "    }\n",
              "\n",
              "    [theme=dark] .colab-df-convert {\n",
              "      background-color: #3B4455;\n",
              "      fill: #D2E3FC;\n",
              "    }\n",
              "\n",
              "    [theme=dark] .colab-df-convert:hover {\n",
              "      background-color: #434B5C;\n",
              "      box-shadow: 0px 1px 3px 1px rgba(0, 0, 0, 0.15);\n",
              "      filter: drop-shadow(0px 1px 2px rgba(0, 0, 0, 0.3));\n",
              "      fill: #FFFFFF;\n",
              "    }\n",
              "  </style>\n",
              "\n",
              "      <script>\n",
              "        const buttonEl =\n",
              "          document.querySelector('#df-5521e361-3c0d-4d0e-be34-80fec28acc1b button.colab-df-convert');\n",
              "        buttonEl.style.display =\n",
              "          google.colab.kernel.accessAllowed ? 'block' : 'none';\n",
              "\n",
              "        async function convertToInteractive(key) {\n",
              "          const element = document.querySelector('#df-5521e361-3c0d-4d0e-be34-80fec28acc1b');\n",
              "          const dataTable =\n",
              "            await google.colab.kernel.invokeFunction('convertToInteractive',\n",
              "                                                     [key], {});\n",
              "          if (!dataTable) return;\n",
              "\n",
              "          const docLinkHtml = 'Like what you see? Visit the ' +\n",
              "            '<a target=\"_blank\" href=https://colab.research.google.com/notebooks/data_table.ipynb>data table notebook</a>'\n",
              "            + ' to learn more about interactive tables.';\n",
              "          element.innerHTML = '';\n",
              "          dataTable['output_type'] = 'display_data';\n",
              "          await google.colab.output.renderOutput(dataTable, element);\n",
              "          const docLink = document.createElement('div');\n",
              "          docLink.innerHTML = docLinkHtml;\n",
              "          element.appendChild(docLink);\n",
              "        }\n",
              "      </script>\n",
              "    </div>\n",
              "  </div>\n",
              "  "
            ]
          },
          "metadata": {},
          "execution_count": 119
        }
      ]
    },
    {
      "cell_type": "code",
      "source": [
        "y.head()"
      ],
      "metadata": {
        "colab": {
          "base_uri": "https://localhost:8080/"
        },
        "id": "7fBiTfoF-z3G",
        "outputId": "65aae54c-57c7-45ee-866f-89b18b37f3cc"
      },
      "execution_count": null,
      "outputs": [
        {
          "output_type": "execute_result",
          "data": {
            "text/plain": [
              "95           young\n",
              "198     middle_age\n",
              "207     middle_age\n",
              "974          young\n",
              "1464         young\n",
              "Name: age_bins, dtype: category\n",
              "Categories (3, object): ['young' < 'middle_age' < 'old']"
            ]
          },
          "metadata": {},
          "execution_count": 120
        }
      ]
    },
    {
      "cell_type": "code",
      "source": [
        "# Categorical Features Encoding"
      ],
      "metadata": {
        "id": "gEyLXo0HCNr8"
      },
      "execution_count": null,
      "outputs": []
    },
    {
      "cell_type": "code",
      "source": [
        "# map categorical values into numbers\n",
        "from sklearn.compose import make_column_selector\n",
        "# for each categorical columns\n",
        "cat_selector = make_column_selector(dtype_include='object')\n",
        "cat_data = X[cat_selector(X)]\n",
        "\n",
        "# for each categorical columns\n",
        "for c_name in cat_data.columns:\n",
        "    \n",
        "    # print the column name\n",
        "    print(c_name)\n",
        "\n",
        "    # get unique values from that column\n",
        "    values_list = df_data[c_name].unique()\n",
        "\n",
        "    # initialize the dictionary (mapper)\n",
        "    col_dictionary = dict()\n",
        "\n",
        "    # for each value in that column\n",
        "    for index, value in enumerate(values_list):\n",
        "        \n",
        "        # display the index(position) and value\n",
        "        #print(index, value)\n",
        "\n",
        "        # add the 'value: index' to the dictionary\n",
        "        col_dictionary[value] = index\n",
        "\n",
        "    #print(col_dictionary)\n",
        "\n",
        "    # replace values in that column\n",
        "    X[c_name].replace(col_dictionary, inplace=True)\n",
        "\n",
        "X.head()"
      ],
      "metadata": {
        "colab": {
          "base_uri": "https://localhost:8080/",
          "height": 600
        },
        "id": "UVI6sKKj-6Nw",
        "outputId": "f95a60ff-a11c-479b-f487-d0805c1572fb"
      },
      "execution_count": null,
      "outputs": [
        {
          "output_type": "stream",
          "name": "stdout",
          "text": [
            "CaseCode\n",
            "AgeGroup\n",
            "Sex\n",
            "DateSpecimen\n",
            "DateResultRelease\n",
            "DateRepConf\n",
            "DateDied\n",
            "DateRecover\n",
            "RemovalType\n",
            "Admitted\n",
            "RegionRes\n",
            "ProvRes\n",
            "CityMunRes\n",
            "CityMuniPSGC\n",
            "BarangayRes\n",
            "BarangayPSGC\n",
            "HealthStatus\n",
            "Quarantined\n",
            "DateOnset\n",
            "Pregnanttab\n",
            "ValidationStatus\n"
          ]
        },
        {
          "output_type": "execute_result",
          "data": {
            "text/plain": [
              "      CaseCode   Age  AgeGroup  Sex  DateSpecimen  DateResultRelease  \\\n",
              "95           0  26.0         0    0             0                  0   \n",
              "198          1  45.0         1    1             1                  1   \n",
              "207          2  37.0         2    1             1                  1   \n",
              "974          3  21.0         3    1             2                  0   \n",
              "1464         4  24.0         3    1             3                  2   \n",
              "\n",
              "      DateRepConf  DateDied  DateRecover  RemovalType  ...  ProvRes  \\\n",
              "95              0         0            0            0  ...        0   \n",
              "198             0         0            0            0  ...        0   \n",
              "207             0         0            0            0  ...        0   \n",
              "974             0         0            0            0  ...        0   \n",
              "1464            0         0            0            0  ...        0   \n",
              "\n",
              "      CityMunRes  CityMuniPSGC  BarangayRes  BarangayPSGC  HealthStatus  \\\n",
              "95             0             0            0             0             0   \n",
              "198            1             1            1             1             0   \n",
              "207            1             1            1             1             0   \n",
              "974            2             2            2             2             0   \n",
              "1464           3             3            3             3             0   \n",
              "\n",
              "      Quarantined  DateOnset  Pregnanttab  ValidationStatus  \n",
              "95              0          0            0                 0  \n",
              "198             0          1            0                 0  \n",
              "207             0          2            0                 1  \n",
              "974             0          2            0                 1  \n",
              "1464            0          2            0                 1  \n",
              "\n",
              "[5 rows x 22 columns]"
            ],
            "text/html": [
              "\n",
              "  <div id=\"df-046b4d16-29c5-4c1e-8995-60f420f5858c\">\n",
              "    <div class=\"colab-df-container\">\n",
              "      <div>\n",
              "<style scoped>\n",
              "    .dataframe tbody tr th:only-of-type {\n",
              "        vertical-align: middle;\n",
              "    }\n",
              "\n",
              "    .dataframe tbody tr th {\n",
              "        vertical-align: top;\n",
              "    }\n",
              "\n",
              "    .dataframe thead th {\n",
              "        text-align: right;\n",
              "    }\n",
              "</style>\n",
              "<table border=\"1\" class=\"dataframe\">\n",
              "  <thead>\n",
              "    <tr style=\"text-align: right;\">\n",
              "      <th></th>\n",
              "      <th>CaseCode</th>\n",
              "      <th>Age</th>\n",
              "      <th>AgeGroup</th>\n",
              "      <th>Sex</th>\n",
              "      <th>DateSpecimen</th>\n",
              "      <th>DateResultRelease</th>\n",
              "      <th>DateRepConf</th>\n",
              "      <th>DateDied</th>\n",
              "      <th>DateRecover</th>\n",
              "      <th>RemovalType</th>\n",
              "      <th>...</th>\n",
              "      <th>ProvRes</th>\n",
              "      <th>CityMunRes</th>\n",
              "      <th>CityMuniPSGC</th>\n",
              "      <th>BarangayRes</th>\n",
              "      <th>BarangayPSGC</th>\n",
              "      <th>HealthStatus</th>\n",
              "      <th>Quarantined</th>\n",
              "      <th>DateOnset</th>\n",
              "      <th>Pregnanttab</th>\n",
              "      <th>ValidationStatus</th>\n",
              "    </tr>\n",
              "  </thead>\n",
              "  <tbody>\n",
              "    <tr>\n",
              "      <th>95</th>\n",
              "      <td>0</td>\n",
              "      <td>26.0</td>\n",
              "      <td>0</td>\n",
              "      <td>0</td>\n",
              "      <td>0</td>\n",
              "      <td>0</td>\n",
              "      <td>0</td>\n",
              "      <td>0</td>\n",
              "      <td>0</td>\n",
              "      <td>0</td>\n",
              "      <td>...</td>\n",
              "      <td>0</td>\n",
              "      <td>0</td>\n",
              "      <td>0</td>\n",
              "      <td>0</td>\n",
              "      <td>0</td>\n",
              "      <td>0</td>\n",
              "      <td>0</td>\n",
              "      <td>0</td>\n",
              "      <td>0</td>\n",
              "      <td>0</td>\n",
              "    </tr>\n",
              "    <tr>\n",
              "      <th>198</th>\n",
              "      <td>1</td>\n",
              "      <td>45.0</td>\n",
              "      <td>1</td>\n",
              "      <td>1</td>\n",
              "      <td>1</td>\n",
              "      <td>1</td>\n",
              "      <td>0</td>\n",
              "      <td>0</td>\n",
              "      <td>0</td>\n",
              "      <td>0</td>\n",
              "      <td>...</td>\n",
              "      <td>0</td>\n",
              "      <td>1</td>\n",
              "      <td>1</td>\n",
              "      <td>1</td>\n",
              "      <td>1</td>\n",
              "      <td>0</td>\n",
              "      <td>0</td>\n",
              "      <td>1</td>\n",
              "      <td>0</td>\n",
              "      <td>0</td>\n",
              "    </tr>\n",
              "    <tr>\n",
              "      <th>207</th>\n",
              "      <td>2</td>\n",
              "      <td>37.0</td>\n",
              "      <td>2</td>\n",
              "      <td>1</td>\n",
              "      <td>1</td>\n",
              "      <td>1</td>\n",
              "      <td>0</td>\n",
              "      <td>0</td>\n",
              "      <td>0</td>\n",
              "      <td>0</td>\n",
              "      <td>...</td>\n",
              "      <td>0</td>\n",
              "      <td>1</td>\n",
              "      <td>1</td>\n",
              "      <td>1</td>\n",
              "      <td>1</td>\n",
              "      <td>0</td>\n",
              "      <td>0</td>\n",
              "      <td>2</td>\n",
              "      <td>0</td>\n",
              "      <td>1</td>\n",
              "    </tr>\n",
              "    <tr>\n",
              "      <th>974</th>\n",
              "      <td>3</td>\n",
              "      <td>21.0</td>\n",
              "      <td>3</td>\n",
              "      <td>1</td>\n",
              "      <td>2</td>\n",
              "      <td>0</td>\n",
              "      <td>0</td>\n",
              "      <td>0</td>\n",
              "      <td>0</td>\n",
              "      <td>0</td>\n",
              "      <td>...</td>\n",
              "      <td>0</td>\n",
              "      <td>2</td>\n",
              "      <td>2</td>\n",
              "      <td>2</td>\n",
              "      <td>2</td>\n",
              "      <td>0</td>\n",
              "      <td>0</td>\n",
              "      <td>2</td>\n",
              "      <td>0</td>\n",
              "      <td>1</td>\n",
              "    </tr>\n",
              "    <tr>\n",
              "      <th>1464</th>\n",
              "      <td>4</td>\n",
              "      <td>24.0</td>\n",
              "      <td>3</td>\n",
              "      <td>1</td>\n",
              "      <td>3</td>\n",
              "      <td>2</td>\n",
              "      <td>0</td>\n",
              "      <td>0</td>\n",
              "      <td>0</td>\n",
              "      <td>0</td>\n",
              "      <td>...</td>\n",
              "      <td>0</td>\n",
              "      <td>3</td>\n",
              "      <td>3</td>\n",
              "      <td>3</td>\n",
              "      <td>3</td>\n",
              "      <td>0</td>\n",
              "      <td>0</td>\n",
              "      <td>2</td>\n",
              "      <td>0</td>\n",
              "      <td>1</td>\n",
              "    </tr>\n",
              "  </tbody>\n",
              "</table>\n",
              "<p>5 rows × 22 columns</p>\n",
              "</div>\n",
              "      <button class=\"colab-df-convert\" onclick=\"convertToInteractive('df-046b4d16-29c5-4c1e-8995-60f420f5858c')\"\n",
              "              title=\"Convert this dataframe to an interactive table.\"\n",
              "              style=\"display:none;\">\n",
              "        \n",
              "  <svg xmlns=\"http://www.w3.org/2000/svg\" height=\"24px\"viewBox=\"0 0 24 24\"\n",
              "       width=\"24px\">\n",
              "    <path d=\"M0 0h24v24H0V0z\" fill=\"none\"/>\n",
              "    <path d=\"M18.56 5.44l.94 2.06.94-2.06 2.06-.94-2.06-.94-.94-2.06-.94 2.06-2.06.94zm-11 1L8.5 8.5l.94-2.06 2.06-.94-2.06-.94L8.5 2.5l-.94 2.06-2.06.94zm10 10l.94 2.06.94-2.06 2.06-.94-2.06-.94-.94-2.06-.94 2.06-2.06.94z\"/><path d=\"M17.41 7.96l-1.37-1.37c-.4-.4-.92-.59-1.43-.59-.52 0-1.04.2-1.43.59L10.3 9.45l-7.72 7.72c-.78.78-.78 2.05 0 2.83L4 21.41c.39.39.9.59 1.41.59.51 0 1.02-.2 1.41-.59l7.78-7.78 2.81-2.81c.8-.78.8-2.07 0-2.86zM5.41 20L4 18.59l7.72-7.72 1.47 1.35L5.41 20z\"/>\n",
              "  </svg>\n",
              "      </button>\n",
              "      \n",
              "  <style>\n",
              "    .colab-df-container {\n",
              "      display:flex;\n",
              "      flex-wrap:wrap;\n",
              "      gap: 12px;\n",
              "    }\n",
              "\n",
              "    .colab-df-convert {\n",
              "      background-color: #E8F0FE;\n",
              "      border: none;\n",
              "      border-radius: 50%;\n",
              "      cursor: pointer;\n",
              "      display: none;\n",
              "      fill: #1967D2;\n",
              "      height: 32px;\n",
              "      padding: 0 0 0 0;\n",
              "      width: 32px;\n",
              "    }\n",
              "\n",
              "    .colab-df-convert:hover {\n",
              "      background-color: #E2EBFA;\n",
              "      box-shadow: 0px 1px 2px rgba(60, 64, 67, 0.3), 0px 1px 3px 1px rgba(60, 64, 67, 0.15);\n",
              "      fill: #174EA6;\n",
              "    }\n",
              "\n",
              "    [theme=dark] .colab-df-convert {\n",
              "      background-color: #3B4455;\n",
              "      fill: #D2E3FC;\n",
              "    }\n",
              "\n",
              "    [theme=dark] .colab-df-convert:hover {\n",
              "      background-color: #434B5C;\n",
              "      box-shadow: 0px 1px 3px 1px rgba(0, 0, 0, 0.15);\n",
              "      filter: drop-shadow(0px 1px 2px rgba(0, 0, 0, 0.3));\n",
              "      fill: #FFFFFF;\n",
              "    }\n",
              "  </style>\n",
              "\n",
              "      <script>\n",
              "        const buttonEl =\n",
              "          document.querySelector('#df-046b4d16-29c5-4c1e-8995-60f420f5858c button.colab-df-convert');\n",
              "        buttonEl.style.display =\n",
              "          google.colab.kernel.accessAllowed ? 'block' : 'none';\n",
              "\n",
              "        async function convertToInteractive(key) {\n",
              "          const element = document.querySelector('#df-046b4d16-29c5-4c1e-8995-60f420f5858c');\n",
              "          const dataTable =\n",
              "            await google.colab.kernel.invokeFunction('convertToInteractive',\n",
              "                                                     [key], {});\n",
              "          if (!dataTable) return;\n",
              "\n",
              "          const docLinkHtml = 'Like what you see? Visit the ' +\n",
              "            '<a target=\"_blank\" href=https://colab.research.google.com/notebooks/data_table.ipynb>data table notebook</a>'\n",
              "            + ' to learn more about interactive tables.';\n",
              "          element.innerHTML = '';\n",
              "          dataTable['output_type'] = 'display_data';\n",
              "          await google.colab.output.renderOutput(dataTable, element);\n",
              "          const docLink = document.createElement('div');\n",
              "          docLink.innerHTML = docLinkHtml;\n",
              "          element.appendChild(docLink);\n",
              "        }\n",
              "      </script>\n",
              "    </div>\n",
              "  </div>\n",
              "  "
            ]
          },
          "metadata": {},
          "execution_count": 121
        }
      ]
    },
    {
      "cell_type": "code",
      "source": [
        "df_data.all"
      ],
      "metadata": {
        "colab": {
          "base_uri": "https://localhost:8080/"
        },
        "id": "0kVHoO7Djq4m",
        "outputId": "e0d5c55e-3bb0-4b61-f03c-26ec55a22546"
      },
      "execution_count": null,
      "outputs": [
        {
          "output_type": "execute_result",
          "data": {
            "text/plain": [
              "<bound method NDFrame._add_numeric_operations.<locals>.all of          CaseCode   Age  AgeGroup     Sex DateSpecimen DateResultRelease  \\\n",
              "95       C1262675  26.0  25 to 29    MALE   2022-01-08        2022-01-10   \n",
              "198     C43874335  45.0  45 to 49  FEMALE   2022-01-07        2022-01-08   \n",
              "207     C40740561  37.0  35 to 39  FEMALE   2022-01-07        2022-01-08   \n",
              "974     C87078322  21.0  20 to 24  FEMALE   2022-01-09        2022-01-10   \n",
              "1464    C39174719  24.0  20 to 24  FEMALE   2022-01-03        2022-01-07   \n",
              "...           ...   ...       ...     ...          ...               ...   \n",
              "386720  C58249797  27.0  25 to 29  FEMALE   2022-01-19        2022-01-21   \n",
              "386930  C92173719  18.0  15 to 19  FEMALE   2022-01-18        2022-01-19   \n",
              "387036   C9516291  26.0  25 to 29  FEMALE   2022-01-18        2022-01-19   \n",
              "387078  C11348288  54.0  50 to 54    MALE   2022-01-19        2022-01-20   \n",
              "387323  C18439871   1.0    0 to 4  FEMALE   2022-01-19        2022-01-20   \n",
              "\n",
              "       DateRepConf    DateDied DateRecover RemovalType  ...  \\\n",
              "95      2022-01-11  2022-01-07  2021-02-18   RECOVERED  ...   \n",
              "198     2022-01-11  2022-01-07  2021-02-18   RECOVERED  ...   \n",
              "207     2022-01-11  2022-01-07  2021-02-18   RECOVERED  ...   \n",
              "974     2022-01-11  2022-01-07  2021-02-18   RECOVERED  ...   \n",
              "1464    2022-01-11  2022-01-07  2021-02-18   RECOVERED  ...   \n",
              "...            ...         ...         ...         ...  ...   \n",
              "386720  2022-01-22  2022-01-07  2021-02-18   RECOVERED  ...   \n",
              "386930  2022-01-22  2022-01-07  2021-02-18   RECOVERED  ...   \n",
              "387036  2022-01-22  2022-01-07  2021-02-18   RECOVERED  ...   \n",
              "387078  2022-01-22  2022-01-07  2021-02-18   RECOVERED  ...   \n",
              "387323  2022-01-22  2022-01-07  2021-02-18   RECOVERED  ...   \n",
              "\n",
              "                     CityMunRes CityMuniPSGC                  BarangayRes  \\\n",
              "95                    CERVANTES  PH012908000               COMILLAS NORTH   \n",
              "198     CITY OF VIGAN (CAPITAL)  PH012934000            BARANGAY V (POB.)   \n",
              "207     CITY OF VIGAN (CAPITAL)  PH012934000            BARANGAY V (POB.)   \n",
              "974                    NARVACAN  PH012914000                    DINALAOAN   \n",
              "1464             CITY OF CANDON  PH012906000                  CALONGBUYAN   \n",
              "...                         ...          ...                          ...   \n",
              "386720                     SUYO  PH012932000          POBLACION (KIMPUSA)   \n",
              "386930                  CAOAYAN  PH012907000  DON LORENZO QUERUBIN (POB.)   \n",
              "387036                MAGSINGAL  PH012912000           SAN BASILIO (POB.)   \n",
              "387078                   SINAIT  PH012930000           DADALAQUITEN NORTE   \n",
              "387323                  CABUGAO  PH012905000                       BUNGRO   \n",
              "\n",
              "       BarangayPSGC HealthStatus Quarantined   DateOnset Pregnanttab  \\\n",
              "95      PH012908002    RECOVERED          NO  2022-01-07          NO   \n",
              "198     PH012934007    RECOVERED          NO  2022-01-06          NO   \n",
              "207     PH012934007    RECOVERED          NO         NaN          NO   \n",
              "974     PH012914013    RECOVERED          NO         NaN          NO   \n",
              "1464    PH012906017    RECOVERED          NO         NaN          NO   \n",
              "...             ...          ...         ...         ...         ...   \n",
              "386720  PH012932005         MILD          NO  2022-01-10          NO   \n",
              "386930  PH012907017         MILD          NO  2022-01-16          NO   \n",
              "387036  PH012912032         MILD          NO         NaN          NO   \n",
              "387078  PH012930014         MILD          NO         NaN          NO   \n",
              "387323  PH012905007         MILD          NO  2022-01-16          NO   \n",
              "\n",
              "                                         ValidationStatus    age_bins  \n",
              "95      Removal Type is \"Recovered\", but no Recovered ...       young  \n",
              "198     Removal Type is \"Recovered\", but no Recovered ...  middle_age  \n",
              "207     Health Status is \"Recovered\", but no Date Reco...  middle_age  \n",
              "974     Health Status is \"Recovered\", but no Date Reco...       young  \n",
              "1464    Health Status is \"Recovered\", but no Date Reco...       young  \n",
              "...                                                   ...         ...  \n",
              "386720  Health Status is \"Recovered\", but no Date Reco...       young  \n",
              "386930  Health Status is \"Recovered\", but no Date Reco...       young  \n",
              "387036  Health Status is \"Recovered\", but no Date Reco...       young  \n",
              "387078  Health Status is \"Recovered\", but no Date Reco...  middle_age  \n",
              "387323  Health Status is \"Recovered\", but no Date Reco...       young  \n",
              "\n",
              "[1563 rows x 23 columns]>"
            ]
          },
          "metadata": {},
          "execution_count": 122
        }
      ]
    },
    {
      "cell_type": "code",
      "source": [
        "X.info()"
      ],
      "metadata": {
        "colab": {
          "base_uri": "https://localhost:8080/"
        },
        "id": "qOw43Jy_--7-",
        "outputId": "af7b4ac3-ff80-4845-e979-d69b108e47ca"
      },
      "execution_count": null,
      "outputs": [
        {
          "output_type": "stream",
          "name": "stdout",
          "text": [
            "<class 'pandas.core.frame.DataFrame'>\n",
            "Int64Index: 1563 entries, 95 to 387323\n",
            "Data columns (total 22 columns):\n",
            " #   Column             Non-Null Count  Dtype  \n",
            "---  ------             --------------  -----  \n",
            " 0   CaseCode           1563 non-null   int64  \n",
            " 1   Age                1563 non-null   float64\n",
            " 2   AgeGroup           1563 non-null   int64  \n",
            " 3   Sex                1563 non-null   int64  \n",
            " 4   DateSpecimen       1563 non-null   int64  \n",
            " 5   DateResultRelease  1563 non-null   int64  \n",
            " 6   DateRepConf        1563 non-null   int64  \n",
            " 7   DateDied           1563 non-null   int64  \n",
            " 8   DateRecover        1563 non-null   int64  \n",
            " 9   RemovalType        1563 non-null   int64  \n",
            " 10  Admitted           1563 non-null   int64  \n",
            " 11  RegionRes          1563 non-null   int64  \n",
            " 12  ProvRes            1563 non-null   int64  \n",
            " 13  CityMunRes         1563 non-null   int64  \n",
            " 14  CityMuniPSGC       1563 non-null   int64  \n",
            " 15  BarangayRes        1563 non-null   int64  \n",
            " 16  BarangayPSGC       1563 non-null   int64  \n",
            " 17  HealthStatus       1563 non-null   int64  \n",
            " 18  Quarantined        1563 non-null   int64  \n",
            " 19  DateOnset          1563 non-null   int64  \n",
            " 20  Pregnanttab        1563 non-null   int64  \n",
            " 21  ValidationStatus   1563 non-null   int64  \n",
            "dtypes: float64(1), int64(21)\n",
            "memory usage: 313.1 KB\n"
          ]
        }
      ]
    },
    {
      "cell_type": "code",
      "source": [
        "# Scaling"
      ],
      "metadata": {
        "id": "Jd0l57BECbfE"
      },
      "execution_count": null,
      "outputs": []
    },
    {
      "cell_type": "code",
      "source": [
        "# split the dataset into training set and validation/test set\n",
        "from sklearn.model_selection import train_test_split\n",
        "\n",
        "X_train, X_test, y_train, y_test = train_test_split(X, y, random_state=28)\n",
        "#X_train, X_test, y_train, y_test = train_test_split(X, y, random_state=28)"
      ],
      "metadata": {
        "id": "r01l7NFS_F8v"
      },
      "execution_count": null,
      "outputs": []
    },
    {
      "cell_type": "code",
      "source": [
        "#Feature Scaling\n",
        "from sklearn.preprocessing import StandardScaler\n",
        "sc = StandardScaler()\n",
        "X_train = sc.fit_transform(X_train)\n",
        "X_test = sc.transform(X_test)"
      ],
      "metadata": {
        "id": "3Ol-mc-wHFGB"
      },
      "execution_count": null,
      "outputs": []
    },
    {
      "cell_type": "code",
      "source": [
        "X.shape"
      ],
      "metadata": {
        "colab": {
          "base_uri": "https://localhost:8080/"
        },
        "id": "m4UaCERaFcNy",
        "outputId": "49d644d8-4034-48c4-d907-c929dc2b165e"
      },
      "execution_count": null,
      "outputs": [
        {
          "output_type": "execute_result",
          "data": {
            "text/plain": [
              "(1563, 22)"
            ]
          },
          "metadata": {},
          "execution_count": 126
        }
      ]
    },
    {
      "cell_type": "code",
      "source": [
        "y.shape"
      ],
      "metadata": {
        "colab": {
          "base_uri": "https://localhost:8080/"
        },
        "id": "IU3TRy-LFgdC",
        "outputId": "714ac2ab-fe41-45bf-9d1c-54d879d09234"
      },
      "execution_count": null,
      "outputs": [
        {
          "output_type": "execute_result",
          "data": {
            "text/plain": [
              "(1563,)"
            ]
          },
          "metadata": {},
          "execution_count": 127
        }
      ]
    },
    {
      "cell_type": "markdown",
      "source": [
        "# Modelling"
      ],
      "metadata": {
        "id": "UFnPUPksDB6v"
      }
    },
    {
      "cell_type": "code",
      "source": [
        "from sklearn.tree import DecisionTreeClassifier"
      ],
      "metadata": {
        "id": "rT8g0-EhI2L6"
      },
      "execution_count": null,
      "outputs": []
    },
    {
      "cell_type": "code",
      "source": [
        "classifier_DT = DecisionTreeClassifier(max_depth=6, random_state=1)"
      ],
      "metadata": {
        "id": "aUtjcTK5HG0q"
      },
      "execution_count": null,
      "outputs": []
    },
    {
      "cell_type": "code",
      "source": [
        "# Fit dt to the training set\n",
        "classifier_DT.fit(X_train, y_train)"
      ],
      "metadata": {
        "colab": {
          "base_uri": "https://localhost:8080/"
        },
        "id": "molSRYcXI56S",
        "outputId": "fe5bf972-d4cc-4cb9-97e6-c729e5221455"
      },
      "execution_count": null,
      "outputs": [
        {
          "output_type": "execute_result",
          "data": {
            "text/plain": [
              "DecisionTreeClassifier(max_depth=6, random_state=1)"
            ]
          },
          "metadata": {},
          "execution_count": 131
        }
      ]
    },
    {
      "cell_type": "code",
      "source": [
        "# Predict test set labels\n",
        "#y_pred = classifier_DT.predict(X_test)\n",
        "classifier_DT = classifier_DT.score(X_train, y_train)\n",
        "#print(y_pred[0:5])\n",
        "classifier_DT"
      ],
      "metadata": {
        "colab": {
          "base_uri": "https://localhost:8080/"
        },
        "id": "H-Ve-s3cI8AM",
        "outputId": "bd81fdc6-573d-467d-8051-665fb28ba339"
      },
      "execution_count": null,
      "outputs": [
        {
          "output_type": "execute_result",
          "data": {
            "text/plain": [
              "1.0"
            ]
          },
          "metadata": {},
          "execution_count": 132
        }
      ]
    },
    {
      "cell_type": "code",
      "source": [
        "from sklearn.ensemble import BaggingClassifier"
      ],
      "metadata": {
        "id": "X0NGlk45JEFj"
      },
      "execution_count": null,
      "outputs": []
    },
    {
      "cell_type": "code",
      "source": [
        "classifier_bg=BaggingClassifier(base_estimator= None, oob_score=True, random_state=1)"
      ],
      "metadata": {
        "id": "jcdxZ_hTJFfK"
      },
      "execution_count": null,
      "outputs": []
    },
    {
      "cell_type": "code",
      "source": [
        "classifier_bg.fit(X_train, y_train)"
      ],
      "metadata": {
        "colab": {
          "base_uri": "https://localhost:8080/"
        },
        "id": "qcdMgoCHJFXB",
        "outputId": "e681ff81-eec0-4f92-9540-fee75e52d375"
      },
      "execution_count": null,
      "outputs": [
        {
          "output_type": "stream",
          "name": "stderr",
          "text": [
            "/usr/local/lib/python3.7/dist-packages/sklearn/ensemble/_bagging.py:707: UserWarning: Some inputs do not have OOB scores. This probably means too few estimators were used to compute any reliable oob estimates.\n",
            "  \"Some inputs do not have OOB scores. \"\n",
            "/usr/local/lib/python3.7/dist-packages/sklearn/ensemble/_bagging.py:712: RuntimeWarning: invalid value encountered in true_divide\n",
            "  oob_decision_function = predictions / predictions.sum(axis=1)[:, np.newaxis]\n"
          ]
        },
        {
          "output_type": "execute_result",
          "data": {
            "text/plain": [
              "BaggingClassifier(oob_score=True, random_state=1)"
            ]
          },
          "metadata": {},
          "execution_count": 135
        }
      ]
    },
    {
      "cell_type": "code",
      "source": [
        "# Predict test set labels\n",
        "#y_pred = classifier_bg.predict(X_test)\n",
        "classifier_bg = classifier_bg.score(X_train, y_train)\n",
        "#print(y_pred[0:5])\n",
        "classifier_bg"
      ],
      "metadata": {
        "id": "8SZvsmBpJInC",
        "outputId": "3d6f5237-e0e7-4194-aa3f-af1dbf960ebc",
        "colab": {
          "base_uri": "https://localhost:8080/"
        }
      },
      "execution_count": null,
      "outputs": [
        {
          "output_type": "execute_result",
          "data": {
            "text/plain": [
              "1.0"
            ]
          },
          "metadata": {},
          "execution_count": 136
        }
      ]
    },
    {
      "cell_type": "code",
      "source": [
        "from sklearn.model_selection import train_test_split\n",
        "\n",
        "predictors = df.drop(\"ValidationStatus\",axis=1)\n",
        "target = df[\"ValidationStatus\"]\n",
        "\n",
        "X_train,X_test,Y_train,Y_test = train_test_split(X_train, y_train,test_size=0.20,random_state=0)"
      ],
      "metadata": {
        "id": "I6ECIx6NinKG"
      },
      "execution_count": null,
      "outputs": []
    },
    {
      "cell_type": "code",
      "source": [
        "from sklearn.metrics import accuracy_score"
      ],
      "metadata": {
        "id": "1tQ9k-cgs9ro"
      },
      "execution_count": null,
      "outputs": []
    },
    {
      "cell_type": "code",
      "source": [
        "from sklearn import svm\n",
        "\n",
        "sv = svm.SVC(kernel='linear')\n",
        "\n",
        "sv.fit(X_train, Y_train)\n",
        "\n",
        "Y_pred_svm = sv.predict(X_test)"
      ],
      "metadata": {
        "id": "J5SKj4yetA78"
      },
      "execution_count": null,
      "outputs": []
    },
    {
      "cell_type": "code",
      "source": [
        "from sklearn.naive_bayes import GaussianNB\n",
        "\n",
        "nb = GaussianNB()\n",
        "\n",
        "nb.fit(X_train,Y_train)\n",
        "\n",
        "Y_pred_nb = nb.predict(X_test)"
      ],
      "metadata": {
        "id": "Ror_Qi9-tEcC"
      },
      "execution_count": null,
      "outputs": []
    },
    {
      "cell_type": "code",
      "source": [
        "Y_pred_svm.shape"
      ],
      "metadata": {
        "id": "fZgB65NxtnWK",
        "colab": {
          "base_uri": "https://localhost:8080/"
        },
        "outputId": "b1f0994a-e4bc-4872-f800-b2d33ba1cffa"
      },
      "execution_count": null,
      "outputs": [
        {
          "output_type": "execute_result",
          "data": {
            "text/plain": [
              "(235,)"
            ]
          },
          "metadata": {},
          "execution_count": 141
        }
      ]
    },
    {
      "cell_type": "code",
      "source": [
        "score_svm = round(accuracy_score(Y_pred_svm,Y_test)*100,2)\n",
        "\n",
        "print(\"The accuracy score achieved using Linear SVM is: \"+str(score_svm)+\" %\")"
      ],
      "metadata": {
        "colab": {
          "base_uri": "https://localhost:8080/"
        },
        "id": "Kz5YFhmajL5u",
        "outputId": "1a955ee6-66f8-4f27-ff8f-451f688c2fa5"
      },
      "execution_count": null,
      "outputs": [
        {
          "output_type": "stream",
          "name": "stdout",
          "text": [
            "The accuracy score achieved using Linear SVM is: 98.3 %\n"
          ]
        }
      ]
    },
    {
      "cell_type": "code",
      "source": [
        "from sklearn.neighbors import KNeighborsClassifier\n",
        "\n",
        "knn = KNeighborsClassifier(n_neighbors=7)\n",
        "knn.fit(X_train,Y_train)\n",
        "Y_pred_knn=knn.predict(X_test)"
      ],
      "metadata": {
        "id": "fP4icFcWjQ4X"
      },
      "execution_count": null,
      "outputs": []
    },
    {
      "cell_type": "code",
      "source": [
        "Y_pred_knn.shape"
      ],
      "metadata": {
        "colab": {
          "base_uri": "https://localhost:8080/"
        },
        "id": "mBEYnKpOjWiF",
        "outputId": "122e0447-f842-408b-ebf2-e1f38d52cb71"
      },
      "execution_count": null,
      "outputs": [
        {
          "output_type": "execute_result",
          "data": {
            "text/plain": [
              "(235,)"
            ]
          },
          "metadata": {},
          "execution_count": 144
        }
      ]
    },
    {
      "cell_type": "code",
      "source": [
        "score_knn = round(accuracy_score(Y_pred_knn,Y_test)*100,2)\n",
        "\n",
        "print(\"The accuracy score achieved using KNN is: \"+str(score_knn)+\" %\")"
      ],
      "metadata": {
        "colab": {
          "base_uri": "https://localhost:8080/"
        },
        "id": "v6MFdwJUjacV",
        "outputId": "ec65bdae-e4b3-4dd9-dd3d-bda3a36f3294"
      },
      "execution_count": null,
      "outputs": [
        {
          "output_type": "stream",
          "name": "stdout",
          "text": [
            "The accuracy score achieved using KNN is: 77.02 %\n"
          ]
        }
      ]
    },
    {
      "cell_type": "code",
      "source": [
        "from sklearn.tree import DecisionTreeClassifier\n",
        "\n",
        "max_accuracy = 0\n",
        "\n",
        "\n",
        "for x in range(200):\n",
        "    dt = DecisionTreeClassifier(random_state=x)\n",
        "    dt.fit(X_train,Y_train)\n",
        "    Y_pred_dt = dt.predict(X_test)\n",
        "    current_accuracy = round(accuracy_score(Y_pred_dt,Y_test)*100,2)\n",
        "    if(current_accuracy>max_accuracy):\n",
        "        max_accuracy = current_accuracy\n",
        "        best_x = x\n",
        "        \n",
        "#print(max_accuracy)\n",
        "#print(best_x)\n",
        "\n",
        "\n",
        "dt = DecisionTreeClassifier(random_state=best_x)\n",
        "dt.fit(X_train,Y_train)\n",
        "Y_pred_dt = dt.predict(X_test)"
      ],
      "metadata": {
        "id": "EWYCXMrYjfis"
      },
      "execution_count": null,
      "outputs": []
    },
    {
      "cell_type": "code",
      "source": [
        "print(Y_pred_dt.shape)"
      ],
      "metadata": {
        "colab": {
          "base_uri": "https://localhost:8080/"
        },
        "id": "zPd2OOAIjmIX",
        "outputId": "0fae9d44-d6de-450f-e397-309044a6381f"
      },
      "execution_count": null,
      "outputs": [
        {
          "output_type": "stream",
          "name": "stdout",
          "text": [
            "(235,)\n"
          ]
        }
      ]
    },
    {
      "cell_type": "code",
      "source": [
        "score_dt = round(accuracy_score(Y_pred_dt,Y_test)*100,2)\n",
        "\n",
        "print(\"The accuracy score achieved using Decision Tree is: \"+str(score_dt)+\" %\")"
      ],
      "metadata": {
        "colab": {
          "base_uri": "https://localhost:8080/"
        },
        "id": "Ddw8ODA3jpwE",
        "outputId": "b6a1799f-73bb-4720-8afc-f7d2326932c0"
      },
      "execution_count": null,
      "outputs": [
        {
          "output_type": "stream",
          "name": "stdout",
          "text": [
            "The accuracy score achieved using Decision Tree is: 100.0 %\n"
          ]
        }
      ]
    },
    {
      "cell_type": "code",
      "source": [
        "from sklearn.ensemble import RandomForestClassifier\n",
        "\n",
        "max_accuracy = 0\n",
        "\n",
        "\n",
        "for x in range(2000):\n",
        "    rf = RandomForestClassifier(random_state=x)\n",
        "    rf.fit(X_train,Y_train)\n",
        "    Y_pred_rf = rf.predict(X_test)\n",
        "    current_accuracy = round(accuracy_score(Y_pred_rf,Y_test)*100,2)\n",
        "    if(current_accuracy>max_accuracy):\n",
        "        max_accuracy = current_accuracy\n",
        "        best_x = x\n",
        "        \n",
        "#print(max_accuracy)\n",
        "#print(best_x)\n",
        "\n",
        "rf = RandomForestClassifier(random_state=best_x)\n",
        "rf.fit(X_train,Y_train)\n",
        "Y_pred_rf = rf.predict(X_test)"
      ],
      "metadata": {
        "id": "xS-Rkmo2jxQi"
      },
      "execution_count": null,
      "outputs": []
    },
    {
      "cell_type": "code",
      "source": [
        "Y_pred_rf.shape"
      ],
      "metadata": {
        "colab": {
          "base_uri": "https://localhost:8080/"
        },
        "id": "fVMVxXu2j3jV",
        "outputId": "9ad5329f-6572-4213-db28-9d758e1d3c87"
      },
      "execution_count": null,
      "outputs": [
        {
          "output_type": "execute_result",
          "data": {
            "text/plain": [
              "(235,)"
            ]
          },
          "metadata": {},
          "execution_count": 150
        }
      ]
    },
    {
      "cell_type": "code",
      "source": [
        "score_rf = round(accuracy_score(Y_pred_rf,Y_test)*100,2)\n",
        "\n",
        "print(\"The accuracy score achieved using Decision Tree is: \"+str(score_rf)+\" %\")"
      ],
      "metadata": {
        "colab": {
          "base_uri": "https://localhost:8080/"
        },
        "id": "4R8lTtcGl0bU",
        "outputId": "db4ea329-922e-4318-8240-5897381dc3b3"
      },
      "execution_count": null,
      "outputs": [
        {
          "output_type": "stream",
          "name": "stdout",
          "text": [
            "The accuracy score achieved using Decision Tree is: 100.0 %\n"
          ]
        }
      ]
    },
    {
      "cell_type": "code",
      "source": [
        "import xgboost as xgb\n",
        "\n",
        "xgb_model = xgb.XGBClassifier(objective=\"binary:logistic\", random_state=42)\n",
        "xgb_model.fit(X_train, Y_train)\n",
        "\n",
        "Y_pred_xgb = xgb_model.predict(X_test)"
      ],
      "metadata": {
        "id": "MQBzLcdSl44N"
      },
      "execution_count": null,
      "outputs": []
    },
    {
      "cell_type": "code",
      "source": [
        "Y_pred_xgb.shape"
      ],
      "metadata": {
        "colab": {
          "base_uri": "https://localhost:8080/"
        },
        "id": "YgG7oM9gl8Eg",
        "outputId": "774229e0-f284-4972-e3ac-66cf8bd7f785"
      },
      "execution_count": null,
      "outputs": [
        {
          "output_type": "execute_result",
          "data": {
            "text/plain": [
              "(235,)"
            ]
          },
          "metadata": {},
          "execution_count": 153
        }
      ]
    },
    {
      "cell_type": "code",
      "source": [
        "score_xgb = round(accuracy_score(Y_pred_xgb,Y_test)*100,2)\n",
        "\n",
        "print(\"The accuracy score achieved using XGBoost is: \"+str(score_xgb)+\" %\")"
      ],
      "metadata": {
        "colab": {
          "base_uri": "https://localhost:8080/"
        },
        "id": "4v09iZ0Rl-3n",
        "outputId": "59346a85-4f86-4bf2-8154-8c75de264b92"
      },
      "execution_count": null,
      "outputs": [
        {
          "output_type": "stream",
          "name": "stdout",
          "text": [
            "The accuracy score achieved using XGBoost is: 100.0 %\n"
          ]
        }
      ]
    },
    {
      "cell_type": "code",
      "source": [
        "score_nn = round(accuracy_score(Y_test,Y_test)*100,2)\n",
        "\n",
        "print(\"The accuracy score achieved using Neural Network is: \"+str(score_nn)+\" %\")\n",
        "\n",
        "#Note: Accuracy of 85% can be achieved on the test set, by setting epochs=2000, and number of nodes = 11."
      ],
      "metadata": {
        "colab": {
          "base_uri": "https://localhost:8080/"
        },
        "id": "1y5GAwI-qPiE",
        "outputId": "4751af2c-aa17-45f4-9335-b5a26f471446"
      },
      "execution_count": null,
      "outputs": [
        {
          "output_type": "stream",
          "name": "stdout",
          "text": [
            "The accuracy score achieved using Neural Network is: 100.0 %\n"
          ]
        }
      ]
    },
    {
      "cell_type": "code",
      "source": [
        "scores = [score_svm,score_knn,score_dt,score_rf,score_xgb,score_nn]\n",
        "algorithms = [\"Support Vector Machine\",\"K-Nearest Neighbors\",\"Decision Tree\",\"Random Forest\",\"XGBoost\",\"Neural Network\"]    \n",
        "\n",
        "for i in range(len(algorithms)):\n",
        "    print(\"The accuracy score achieved using \"+algorithms[i]+\" is: \"+str(scores[i])+\" %\")"
      ],
      "metadata": {
        "colab": {
          "base_uri": "https://localhost:8080/"
        },
        "id": "CED9UssWqXoi",
        "outputId": "16676354-3757-4379-ff78-5e0b959bd430"
      },
      "execution_count": null,
      "outputs": [
        {
          "output_type": "stream",
          "name": "stdout",
          "text": [
            "The accuracy score achieved using Support Vector Machine is: 98.3 %\n",
            "The accuracy score achieved using K-Nearest Neighbors is: 77.02 %\n",
            "The accuracy score achieved using Decision Tree is: 100.0 %\n",
            "The accuracy score achieved using Random Forest is: 100.0 %\n",
            "The accuracy score achieved using XGBoost is: 100.0 %\n",
            "The accuracy score achieved using Neural Network is: 100.0 %\n"
          ]
        }
      ]
    },
    {
      "cell_type": "code",
      "source": [
        "sns.set(rc={'figure.figsize':(15,8)})\n",
        "plt.xlabel(\"Algorithms\")\n",
        "plt.ylabel(\"Accuracy score\")\n",
        "\n",
        "sns.barplot(algorithms,scores)"
      ],
      "metadata": {
        "colab": {
          "base_uri": "https://localhost:8080/",
          "height": 574
        },
        "id": "9OMgjb08r5RH",
        "outputId": "63890080-e321-4a5d-9496-ce56d3e36102"
      },
      "execution_count": null,
      "outputs": [
        {
          "output_type": "stream",
          "name": "stderr",
          "text": [
            "/usr/local/lib/python3.7/dist-packages/seaborn/_decorators.py:43: FutureWarning: Pass the following variables as keyword args: x, y. From version 0.12, the only valid positional argument will be `data`, and passing other arguments without an explicit keyword will result in an error or misinterpretation.\n",
            "  FutureWarning\n"
          ]
        },
        {
          "output_type": "execute_result",
          "data": {
            "text/plain": [
              "<matplotlib.axes._subplots.AxesSubplot at 0x7fca5d951490>"
            ]
          },
          "metadata": {},
          "execution_count": 157
        },
        {
          "output_type": "display_data",
          "data": {
            "text/plain": [
              "<Figure size 1080x576 with 1 Axes>"
            ],
            "image/png": "[encoded data removed]"
          },
          "metadata": {}
        }
      ]
    }
  ]
}